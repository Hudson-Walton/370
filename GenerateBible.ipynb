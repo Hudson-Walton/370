{
 "cells": [
  {
   "cell_type": "markdown",
   "id": "4c31b92a-5cb5-4ede-907e-17b63363eb17",
   "metadata": {},
   "source": [
    "The goal of this notebook is to break the Bible into 66 different books, and use NLTK's generate to produce a generation on all 66 books of the Bible, then compiling to end up with a completely generated Bible.\n",
    "\n",
    "I am interested to see if the Bibles generated from different translations willl be drastically different or not.\n",
    "\n",
    "I also am interested in making a topic model for the 66 different books of the Bible\n",
    "\n",
    "Throughout this project I learned a good bit about spliting texts, because splitting the Bible into 66 different books was quite the challeng. I also tried to make a topic model, but I was having a ton of issues and I could not figure out what I was doing. I ended up getting something to run at the end, but I have no idea what it means, and when I created a dataframe the shape of it was all wrong. I could not figure out where to go from there and everything kept breaking, so I eventually gave up and just left what I had.\n",
    "\n",
    "The original goal for my project was a complete success though. I was able to sucesssfully split 4 different versions of the bible into 66 books each, and then run NLTKs generate on every one of them. The results where as wacky as I excpected, and the generated mini Bibles made absolutely no sense. I had a good bit of fun working on this project."
   ]
  },
  {
   "cell_type": "code",
   "execution_count": 1,
   "id": "cd2d5e36-8ca5-4835-94b8-e3ceee796d4c",
   "metadata": {},
   "outputs": [
    {
     "name": "stderr",
     "output_type": "stream",
     "text": [
      "[nltk_data] Downloading package punkt to\n",
      "[nltk_data]     C:\\Users\\Hudso\\AppData\\Roaming\\nltk_data...\n",
      "[nltk_data]   Package punkt is already up-to-date!\n",
      "[nltk_data] Downloading package stopwords to\n",
      "[nltk_data]     C:\\Users\\Hudso\\AppData\\Roaming\\nltk_data...\n",
      "[nltk_data]   Package stopwords is already up-to-date!\n",
      "[nltk_data] Downloading package tagsets to\n",
      "[nltk_data]     C:\\Users\\Hudso\\AppData\\Roaming\\nltk_data...\n",
      "[nltk_data]   Package tagsets is already up-to-date!\n",
      "[nltk_data] Downloading package averaged_perceptron_tagger to\n",
      "[nltk_data]     C:\\Users\\Hudso\\AppData\\Roaming\\nltk_data...\n",
      "[nltk_data]   Package averaged_perceptron_tagger is already up-to-\n",
      "[nltk_data]       date!\n"
     ]
    },
    {
     "data": {
      "text/plain": [
       "True"
      ]
     },
     "execution_count": 1,
     "metadata": {},
     "output_type": "execute_result"
    }
   ],
   "source": [
    "#Import all necessary tools and \n",
    "\n",
    "from gensim import corpora, models\n",
    "\n",
    "\n",
    "\n",
    "import numpy as np\n",
    "import matplotlib.pyplot as plt\n",
    "import re\n",
    "import nltk\n",
    "import pandas as pd\n",
    "from nltk.tokenize import word_tokenize, wordpunct_tokenize\n",
    "from sklearn.feature_extraction.text import CountVectorizer\n",
    "from nltk.stem import WordNetLemmatizer\n",
    "\n",
    "\n",
    "\n",
    "\n",
    "\n",
    "nltk.download('punkt')\n",
    "from nltk.stem import PorterStemmer\n",
    "import string\n",
    "\n",
    "from nltk.corpus import stopwords\n",
    "nltk.download('stopwords')\n",
    "stoplist = stopwords.words('english')\n",
    "nltk.download(\"tagsets\")\n",
    "nltk.download('averaged_perceptron_tagger')\n"
   ]
  },
  {
   "cell_type": "code",
   "execution_count": 2,
   "id": "0158a974-ad75-47da-a44d-afeab4f083b7",
   "metadata": {},
   "outputs": [],
   "source": [
    "# First we open the file:\n",
    "KJV_file = open('/Users/Hudso/OneDrive/Documents/GitHub/text-as-data/people/Bibledata/kjv.txt', 'r',encoding='utf-8')\n",
    "ASV_file = open('/Users/Hudso/OneDrive/Documents/GitHub/text-as-data/people/Bibledata/asv.txt', 'r',encoding='utf-8')\n",
    "WEB_file = open('/Users/Hudso/OneDrive/Documents/GitHub/text-as-data/people/Bibledata/web.txt', 'r',encoding='utf-8')\n",
    "NET_file = open('/Users/Hudso/OneDrive/Documents/GitHub/text-as-data/people/Bibledata/net.txt', 'r',encoding='utf-8')\n",
    "\n",
    "# Then we read the file:\n",
    "KJV = KJV_file.read()\n",
    "ASV = ASV_file.read()\n",
    "WEB = WEB_file.read()\n",
    "NET = NET_file.read()"
   ]
  },
  {
   "cell_type": "markdown",
   "id": "faa4cd74-157e-4b66-8c3b-c2c03ff2b16f",
   "metadata": {},
   "source": [
    "--------------------------------------------------------------------------------------------------------------------------------------------------------\n",
    "\n",
    "The next cell is creating a function that can break the Bible into its many books. I thought it would be funny to run nltk's generate on each book of the Bible separately, then combining them into one goofy, nonsensical miny bible. I also want to see if the different translations will have different generated Bibles. I chose to split the Bible into 66 books because I did not think that just Old and New testament would be anywhere near enough.\n",
    "\n",
    "--------------------------------------------------------------------------------------------------------------------------------------------------------"
   ]
  },
  {
   "cell_type": "code",
   "execution_count": 3,
   "id": "1d861e16-5a2d-431d-b89f-416731eb2291",
   "metadata": {},
   "outputs": [],
   "source": [
    "# Split text into the 66 different books of the Bible\n",
    "def split(text):\n",
    "    books = {}\n",
    "    book_names = [\n",
    "        \"Genesis\", \"Exodus\", \"Leviticus\", \"Numbers\", \"Deuteronomy\", \"Joshua\",\n",
    "        \"Judges\", \"Ruth\", \"1 Samuel\", \"2 Samuel\", \"1 Kings\", \"2 Kings\", \n",
    "        \"1 Chronicles\", \"2 Chronicles\", \"Ezra\", \"Nehemiah\", \"Esther\", \"Job\",\n",
    "        \"Psalm\", \"Proverbs\", \"Ecclesiastes\", \"Song of Solomon\", \"Isaiah\", \n",
    "        \"Jeremiah\", \"Lamentations\", \"Ezekiel\", \"Daniel\", \"Hosea\", \"Joel\", \n",
    "        \"Amos\", \"Obadiah\", \"Jonah\", \"Micah\", \"Nahum\", \"Habakkuk\", \"Zephaniah\",\n",
    "        \"Haggai\", \"Zechariah\", \"Malachi\", \"Matthew\", \"Mark\", \"Luke\", \"John\", \n",
    "        \"Acts\", \"Romans\", \"1 Corinthians\", \"2 Corinthians\", \"Galatians\", \n",
    "        \"Ephesians\", \"Philippians\", \"Colossians\", \"1 Thessalonians\", \n",
    "        \"2 Thessalonians\", \"1 Timothy\", \"2 Timothy\", \"Titus\", \"Philemon\", \n",
    "        \"Hebrews\", \"James\", \"1 Peter\", \"2 Peter\", \"1 John\", \"2 John\", \n",
    "        \"3 John\", \"Jude\", \"Revelation\"\n",
    "    ]\n",
    "    current_book = None\n",
    "    for line in text.split('\\n'):\n",
    "        for name in book_names:\n",
    "            if line.strip().startswith(name):\n",
    "                current_book = name\n",
    "                books[current_book] = \"\"\n",
    "        if current_book:\n",
    "            books[current_book] += line + '\\n'\n",
    "    return books"
   ]
  },
  {
   "cell_type": "code",
   "execution_count": 13,
   "id": "9e58176e-c72c-4ff2-af8b-d668d566b4b2",
   "metadata": {},
   "outputs": [],
   "source": [
    "Split_KJV = split(KJV)\n",
    "Split_ASV = split(ASV)\n",
    "Split_WEB = split(WEB)\n",
    "Split_NET = split(NET)"
   ]
  },
  {
   "cell_type": "markdown",
   "id": "58faf6f5-ec7c-4c5f-bbad-5a74ae16834c",
   "metadata": {},
   "source": [
    "--------------------------------------------------------------------------------------------------------------------------------------------------------\n",
    "\n",
    "These next few functions will be tokenizing and generating the 66 books from different translations of the Bible\n",
    "\n",
    "I am running each function in its own cell as to not overload a single cell with too much data, and so I can easily traverse through the different versions.\n",
    "\n",
    "\n",
    "--------------------------------------------------------------------------------------------------------------------------------------------------------\n"
   ]
  },
  {
   "cell_type": "code",
   "execution_count": 6,
   "id": "1609041d-2798-46f8-b71c-8ba62071eaed",
   "metadata": {},
   "outputs": [
    {
     "name": "stdout",
     "output_type": "stream",
     "text": [
      "Book: Genesis\n"
     ]
    },
    {
     "name": "stderr",
     "output_type": "stream",
     "text": [
      "Building ngram index...\n"
     ]
    },
    {
     "name": "stdout",
     "output_type": "stream",
     "text": [
      "in Benjamin 's mess was five times so much as any of theirs . , both\n",
      "man , in the land of Canaan . again conceived , and asses , and ,\n",
      "behold , your sheaves stood round about , and their herds , and Ishuah\n",
      ", and put them all together into ward three days . And he builded an\n",
      "altar , and Levi , and Buz his brother came with Jacob into Egypt ,\n",
      "and say unto him , and wept . these [ are ] seven years for thy camels\n",
      ": [ let the dry [ land\n",
      "Book: Exodus\n"
     ]
    },
    {
     "name": "stderr",
     "output_type": "stream",
     "text": [
      "Building ngram index...\n"
     ]
    },
    {
     "name": "stdout",
     "output_type": "stream",
     "text": [
      "multiply , and did obeisance , and a flower : so that all the people\n",
      "go , that they [ were ] four , and herds , [ were ] sixteen sockets of\n",
      "the court gate . , his boards , his staves , and God had done unto him\n",
      ". and purple , and dip [ it ] . I pray thee , [ Is ] not as the LORD\n",
      "hath called by name , he shall be an holy nation . thereof . ] in the\n",
      "herbs of the Hebrews , How [ is it ] in the\n",
      "Book: Leviticus\n"
     ]
    },
    {
     "name": "stderr",
     "output_type": "stream",
     "text": [
      "Building ngram index...\n"
     ]
    },
    {
     "name": "stdout",
     "output_type": "stream",
     "text": [
      "not , and confess over him with rigour ; but I will also send wild\n",
      "beasts among you : 11 They shall be ] upon the altar , beside the\n",
      "other in her youth , she shall bring them unto the LORD . , or a lamb\n",
      "of the first day [ shall be unclean until the even . belong ] . [ is ]\n",
      "clean , and for all manner of beasts that [ pertain ] unto the door of\n",
      "the oil with his finger seven times , and the garments , which the\n",
      "LORD spake unto Moses ,\n",
      "Book: Numbers\n"
     ]
    },
    {
     "name": "stderr",
     "output_type": "stream",
     "text": [
      "Building ngram index...\n"
     ]
    },
    {
     "name": "stdout",
     "output_type": "stream",
     "text": [
      "of Arnon , 15 And if ye go to war ; 33 Those that were numbered of\n",
      "them shall be thine ; every male shall eat . , on every side : and the\n",
      "glory of the children of Israel from a month old and upward , all that\n",
      "were numbered of them , Hear , I will get me back again . and put them\n",
      "; [ but ] a covering of the land from before you , 3 Our father died\n",
      "in his tents ] according to all that the slayer and the cattle of the\n",
      "second month\n",
      "Book: Deuteronomy\n"
     ]
    },
    {
     "name": "stderr",
     "output_type": "stream",
     "text": [
      "Building ngram index...\n"
     ]
    },
    {
     "name": "stdout",
     "output_type": "stream",
     "text": [
      "not , and ears to hear his voice . , of every city . been rebellious\n",
      "against the LORD , and Hazeroth , and your sacrifices , and the cuckow\n",
      ", and the LORD : 12 [ So that thou art come into the congregation of\n",
      "Jacob . Neither shalt thou do at all for money , thou , and break\n",
      "their pillars , and the LORD spake unto you , and thou shalt call [\n",
      "them ] : for they shall shew thee the head of Joseph he said , Rejoice\n",
      ", O Lord GOD , thou , and\n",
      "Book: Joshua\n"
     ]
    },
    {
     "name": "stderr",
     "output_type": "stream",
     "text": [
      "Building ngram index...\n"
     ]
    },
    {
     "name": "stdout",
     "output_type": "stream",
     "text": [
      "name , and fine gold as the angel of the LORD of hosts , even those\n",
      "seventy years , did ye at all fast unto me , Cast it unto the potter\n",
      "in the former prophets : therefore they went their way as a Jebusite .\n",
      ", filled the bow with Ephraim , and Ekron ; for their glory is spoiled\n",
      ". as silver is refined , and against the hand of his people : and they\n",
      "shall be scattered : and I punished the goats : for I am returned unto\n",
      "Zion , against my shepherd , and I\n",
      "Book: Judges\n"
     ]
    },
    {
     "name": "stderr",
     "output_type": "stream",
     "text": [
      "Building ngram index...\n"
     ]
    },
    {
     "name": "stdout",
     "output_type": "stream",
     "text": [
      "made , all lusty , and took an axe in his might . , he and his servant\n",
      "with him . ) and provoked the LORD , Gideon , By the three sons of\n",
      "Jerubbaal . Canaan . thirty daughters from abroad for his sons were\n",
      "priests to the top of mount Gerizim , and was buried in Pirathon in\n",
      "the chamber . [ is ] my daughter a maiden , and an hundred throughout\n",
      "all the trees unto the LORD delivered them out . god , let him return\n",
      "and depart early from mount Baalhermon unto the host of\n",
      "Book: Ruth\n"
     ]
    },
    {
     "name": "stderr",
     "output_type": "stream",
     "text": [
      "Building ngram index...\n"
     ]
    },
    {
     "name": "stdout",
     "output_type": "stream",
     "text": [
      "kinsmen . , my daughter . and me . And it came to Bethlehem , and\n",
      "anoint thee , [ if ] I should have an husband . this [ was ] Chilion\n",
      "'s and Mahlon 's , a woman lay at his feet until the morning until now\n",
      ", my daughter ? [ is ] near of kin unto us , one of thine husband :\n",
      "and this [ was ] Elimelech , and go thou after thy sister in law with\n",
      "her , My daughter , shall I not seek rest for thee . grace . , and\n",
      "Book: 1 Samuel\n"
     ]
    },
    {
     "name": "stderr",
     "output_type": "stream",
     "text": [
      "Building ngram index...\n"
     ]
    },
    {
     "name": "stdout",
     "output_type": "stream",
     "text": [
      "it . , even in a secret [ place ] , and he was higher than any of the\n",
      "people feared the oath . afraid at the brook , and against Edom , and\n",
      "ye shall do according to ] Bethhoron : and Elkanah knew Hannah his\n",
      "wife Abigail : and he prophesied in the eyes of the host of the\n",
      "Hebrews hear . And he arose and departed : and I have seen a son , he\n",
      "shall descend into battle , and slew them with a sling and with\n",
      "Jonathan in Gibeah of Saul and his spear in\n",
      "Book: 2 Samuel\n"
     ]
    },
    {
     "name": "stderr",
     "output_type": "stream",
     "text": [
      "Building ngram index...\n"
     ]
    },
    {
     "name": "stdout",
     "output_type": "stream",
     "text": [
      "king 's house , he sent to Joab , Behold , his hands were feeble , and\n",
      "said unto Absalom : make speed to depart , lest he overtake us\n",
      "suddenly , and were put to death in the midst of a great pit in the\n",
      "day of my hands hath he given us any gift ? , for David , neither\n",
      "fought they any more . according to the earth . And he answered ,\n",
      "Chimham shall go over , the Rock of Israel said , How went the matter\n",
      "? there he died in Thebez ? Solomon ,\n",
      "Book: 1 Kings\n"
     ]
    },
    {
     "name": "stderr",
     "output_type": "stream",
     "text": [
      "Building ngram index...\n"
     ]
    },
    {
     "name": "stdout",
     "output_type": "stream",
     "text": [
      "let Zadok the priest and Nathan the prophet . , he and the other seven\n",
      "days . and my statutes , and I , [ and ] wilt keep my statutes and my\n",
      "commandments to walk before me , while it was told Solomon , because\n",
      "thou barest the ark , wherein [ is ] the porch of pillars ; seven for\n",
      "the children of Israel came , saying , 19 And he answered him , and\n",
      "worshipped him , Dost thou now govern the kingdom . Forasmuch as I\n",
      "exalted thee from among all people to hear the wisdom\n",
      "Book: 2 Kings\n"
     ]
    },
    {
     "name": "stderr",
     "output_type": "stream",
     "text": [
      "Building ngram index...\n"
     ]
    },
    {
     "name": "stdout",
     "output_type": "stream",
     "text": [
      "let Hezekiah make you trust in the book of the LORD ; Thus saith the\n",
      "LORD , as the LORD pardon thy servant . , conspired against him ; and\n",
      "it shall also come upon us : now therefore , and the feet , and\n",
      "oliveyards , and pay thy debt , and upward , and to receive garments ,\n",
      "and turning [ it ] to them , and smote Shallum the son of Jotham king\n",
      "of Israel went up , and the tents of the watch of the LORD , by all\n",
      "the craftsmen and smiths : none remained\n",
      "Book: 1 Chronicles\n"
     ]
    },
    {
     "name": "stderr",
     "output_type": "stream",
     "text": [
      "Building ngram index...\n"
     ]
    },
    {
     "name": "stdout",
     "output_type": "stream",
     "text": [
      "and Ahimoth . , and Chelubai . Elkanah ; Zophai his son , 21 Hadoram\n",
      "also , and Shenazar , Jecamiah , Hoshama , and Raamah , and Assir his\n",
      "son , and Akkub , and the Hagarites , who dwelt in their rooms :\n",
      "because their cattle ; of them came the Philistines , ) and Caphthorim\n",
      ". 15 And Jehozadak went [ into captivity ] , Nemuel , and Tehinnah the\n",
      "father of Bethlehem , and the Hagarites , with the Hagarites , with\n",
      "Jetur , and Tilon . the firstborn of Jerahmeel . And eastward he\n",
      "inhabited\n",
      "Book: Zephaniah\n",
      "midst of thee : thou shalt not see evil any more . , nor enquired for\n",
      "him . are cut off , howsoever I punished them : for they shall feed\n",
      "and lie down , and the bittern shall lodge in the midst thereof ; he\n",
      "will stretch out his hand . LORD : and I will also leave in the name\n",
      "of the LORD come upon you . their dwelling should not be cut off the\n",
      "land , saith the LORD 'S wrath ; but the unjust knoweth no shame . a\n",
      "desolation , a day of clouds and\n",
      "Book: Obadiah\n",
      "nest among the heathen : thou art greatly despised . , saith the LORD\n",
      "[ is ] in Sepharad , shall possess the mount of Esau may be cut off\n",
      "for ever . be deliverance , and foreigners entered into his gates ,\n",
      "and they shall kindle in them , and they shall be a fire , and\n",
      "understanding out of Edom , and foreigners entered into the gate of my\n",
      "people in the day that the strangers carried away captive his forces ,\n",
      "and thou shalt be cut off those of his that did escape ; neither\n",
      "shouldest thou\n"
     ]
    },
    {
     "name": "stderr",
     "output_type": "stream",
     "text": [
      "Building ngram index...\n",
      "Building ngram index...\n"
     ]
    },
    {
     "name": "stdout",
     "output_type": "stream",
     "text": [
      "Book: 2 Chronicles\n"
     ]
    },
    {
     "name": "stderr",
     "output_type": "stream",
     "text": [
      "Building ngram index...\n"
     ]
    },
    {
     "name": "stdout",
     "output_type": "stream",
     "text": [
      "maintain their cause , and the spoons , and Jehiel , and Etam , and\n",
      "returned from going against Jeroboam the son of David was strengthened\n",
      "in his stead . , in brass , in the house of David and Solomon brought\n",
      "up with him , saying , Come again unto me after three days in\n",
      "gathering of the sons of Aaron , and all the kings of the LORD had\n",
      "made to praise the beauty of holiness , as the king , heard [ it ] at\n",
      "the word of the strange [ gods ] , that I should\n",
      "Book: Zechariah\n",
      "lord , what [ is ] twenty cubits , and behold a candlestick all [ of ]\n",
      "the month Sebat , in the hand of Zerubbabel [ thou shalt know that the\n",
      "LORD unto Zechariah , the son of Iddo the prophet , saying , 8 I saw\n",
      "by night , and behold four horns . , in the midst of thee , and ,\n",
      "behold , there came out two women , and his seven lamps , which go\n",
      "forth into the house of the north country have quieted my spirit in\n",
      "the north , saith the LORD in\n",
      "Book: Ezra\n"
     ]
    },
    {
     "name": "stderr",
     "output_type": "stream",
     "text": [
      "Building ngram index...\n",
      "Building ngram index...\n"
     ]
    },
    {
     "name": "stdout",
     "output_type": "stream",
     "text": [
      "not I at Jerusalem : for they were counted faithful , and Eleazar ,\n",
      "and of the law for the tithes of the chamber of the Levites , every\n",
      "one to his field . , but according to the language of each people .\n",
      "and said unto them , O my God , and wipe not out my good deeds that I\n",
      "have done for the wood offering , at the gates , to gather into them\n",
      "out of the house of God for ever ; 2 Because they met not the children\n",
      "of Israel with bread and with water\n",
      "Book: Nehemiah\n"
     ]
    },
    {
     "name": "stderr",
     "output_type": "stream",
     "text": [
      "Building ngram index...\n"
     ]
    },
    {
     "name": "stdout",
     "output_type": "stream",
     "text": [
      "neck , and covered it , that I may build it . , nor memorial , in the\n",
      "month Nisan , in his watch , and let not their sin be blotted out from\n",
      "the priesthood . and possessed the land , and [ another ] fourth part\n",
      "they confessed , and gavest him the name of Abraham ; 8 And conspired\n",
      "all of them held the spears , and Hilkiah , and let not their sin be\n",
      "blotted out from the priesthood . Beside their manservants and their\n",
      "bows . thereof , and thou preservest them all ; and\n",
      "Book: Esther\n"
     ]
    },
    {
     "name": "stderr",
     "output_type": "stream",
     "text": [
      "Building ngram index...\n"
     ]
    },
    {
     "name": "stdout",
     "output_type": "stream",
     "text": [
      "land , and did what they would keep these two days according to all\n",
      "that had befallen him . , made the fourteenth day of the king 's house\n",
      ", to kill , and as they had decreed for themselves and for their lives\n",
      ", and I [ be ] of the kingdom . and of the city , and [ of that ]\n",
      "which they had decreed for themselves and for their life , to the Jews\n",
      "of the Jews . I have found favour in his hand , and the city , and to\n",
      "take ] the spoil\n",
      "Book: Job\n",
      "know , that he which converteth the sinner from the error of his way\n",
      "shall save a soul from death , and one convert him ; 20 Let him know ,\n",
      "that ye may be healed . , neither by heaven , neither by heaven ,\n",
      "neither by the space of three years and six months . and one convert\n",
      "him ; 20 Let him know , that ye may be healed . 13 Is any among you ?\n",
      "the earth brought forth her fruit . a multitude of sins . from death ,\n",
      "and the Lord shall raise him\n",
      "Book: Psalm\n",
      "him according to his excellent greatness . . Let every thing that hath\n",
      "breath praise the LORD . 2 Praise him for his mighty acts : praise him\n",
      "according to his excellent greatness . the firmament of his power . 5\n",
      "Praise him upon the high sounding cymbals . firmament of his power .\n",
      "150 1 ¶ Praise ye the LORD . and dance : praise him with stringed\n",
      "instruments and organs . with stringed instruments and organs . him\n",
      "with the timbrel and dance : praise him according to his excellent\n",
      "greatness . thing that hath breath praise the\n"
     ]
    },
    {
     "name": "stderr",
     "output_type": "stream",
     "text": [
      "Building ngram index...\n",
      "Building ngram index...\n"
     ]
    },
    {
     "name": "stdout",
     "output_type": "stream",
     "text": [
      "Book: Proverbs\n"
     ]
    },
    {
     "name": "stderr",
     "output_type": "stream",
     "text": [
      "Building ngram index...\n"
     ]
    },
    {
     "name": "stdout",
     "output_type": "stream",
     "text": [
      "is ] better than the mighty ; and he addeth no sorrow with it . .\n",
      "abhor him : 25 But to them that are ] with the increase of his friend\n",
      ". 12 ¶ A [ good ] name [ is ] a sure reward . there is ] the\n",
      "expectation of the wise , and forgetteth the covenant of her household\n",
      "[ are ] wicked . [ is ] despised , and [ he hath ] an ornament of\n",
      "grace unto thy soul , doth [ not ] he that keepeth the law , happy [\n",
      "is ]\n",
      "Book: Ecclesiastes\n"
     ]
    },
    {
     "name": "stderr",
     "output_type": "stream",
     "text": [
      "Building ngram index...\n"
     ]
    },
    {
     "name": "stdout",
     "output_type": "stream",
     "text": [
      "laboured , and applied my heart to despair of all his labour , and\n",
      "sought out , yet shall he prolong [ his ] days , [ and ] money [ is ]\n",
      "vanity . , or the moon , or the moon , or the wheel broken at the\n",
      "cistern . and let thy head lack no ointment . Remember now thy Creator\n",
      "in the days of his sight : stand not in thy labour which he hath given\n",
      "thee under the sun ; and [ by it there is hope : for what [ was ]\n",
      "there .\n",
      "Book: Song of Solomon\n"
     ]
    },
    {
     "name": "stderr",
     "output_type": "stream",
     "text": [
      "Building ngram index...\n"
     ]
    },
    {
     "name": "stdout",
     "output_type": "stream",
     "text": [
      "is ] comely . , nor awake [ my ] spouse , drop [ as ] pillars of\n",
      "marble , set upon sockets of fine gold : his countenance [ is ]\n",
      "altogether lovely . ] mine own vineyard have I not kept . Amminadib .\n",
      "thee . [ is ] held in the Shulamite ? fair , my fair one , and by the\n",
      "roes , and come away . . bottom thereof [ are ] under my head is\n",
      "filled with dew , [ and ] gone ; 12 The flowers appear on the earth ;\n",
      "the keepers\n",
      "Book: Isaiah\n"
     ]
    },
    {
     "name": "stderr",
     "output_type": "stream",
     "text": [
      "Building ngram index...\n"
     ]
    },
    {
     "name": "stdout",
     "output_type": "stream",
     "text": [
      "lift up an ensign to the righteous , that I have nourished and brought\n",
      "up children , and their blossom shall go forth the law of our God , ye\n",
      "shall eat the good . , but behold a cry . and shut their eyes , and be\n",
      "healed . Israel . the first , and give ear unto the head , and their\n",
      "spears into pruninghooks : nation shall not stand , neither consider\n",
      "the operation of his glory . a people laden with iniquity , a people .\n",
      "go and say , Let him make speed , [\n",
      "Book: Jeremiah\n",
      "near the king , and the spoons , and [ that ] Evilmerodach king of\n",
      "Babylon , came Nebuzaradan , captain of the LORD it came to pass in\n",
      "the seventh year three thousand Jews and three and twenty years old\n",
      "when he began to reign , and the firepans , and carried him up unto\n",
      "the king 's house ; and the rest of the captivity of Jehoiachin king\n",
      "of Judah in Riblah in the tenth [ day ] of the king of Babylon , into\n",
      "Jerusalem , 13 And burned the house of the poor of the people\n",
      "Book: Lamentations\n"
     ]
    },
    {
     "name": "stderr",
     "output_type": "stream",
     "text": [
      "Building ngram index...\n",
      "Building ngram index...\n"
     ]
    },
    {
     "name": "stdout",
     "output_type": "stream",
     "text": [
      "in Zion , and shalt make thyself naked . , our days are fulfilled ;\n",
      "for I [ am ] their song all the day of thine anger ; thou hast seen my\n",
      "wrong : judge thou my cause . and lamentation . He hath also broken my\n",
      "bones , and hath not pitied : and they shall be turned ; he hath\n",
      "poured out his fierce anger all the daughters of my people is greater\n",
      "than the punishment of the iniquity of the terrible famine . the enemy\n",
      "prevailed . ] he [ that ] his adversaries [ should\n",
      "Book: Ezekiel\n"
     ]
    },
    {
     "name": "stderr",
     "output_type": "stream",
     "text": [
      "Building ngram index...\n"
     ]
    },
    {
     "name": "stdout",
     "output_type": "stream",
     "text": [
      "no [ more ] : it watcheth for thee , and of Lud and of ten baths [ are\n",
      "] the living creature [ was ] among the thick branches , and prophesy\n",
      "thou against them ? , nor by the sword in his height ; 11 I have no\n",
      "pleasure in the statutes of life , without committing iniquity ; but\n",
      "the land , Thus saith the Lord GOD ; Because ye have transgressed\n",
      "against me : they traded in thy market . at the south . Mischief shall\n",
      "come forth into all the beasts of the LORD came\n",
      "Book: Daniel\n"
     ]
    },
    {
     "name": "stderr",
     "output_type": "stream",
     "text": [
      "Building ngram index...\n"
     ]
    },
    {
     "name": "stdout",
     "output_type": "stream",
     "text": [
      "many bare false witness against thee ? , released Barabbas unto them .\n",
      "and said unto him , Although all shall be preached throughout the\n",
      "whole council , and began to salute him , Art thou the King of Israel\n",
      "descend now from the chief priests , to seduce , if› [ it ] . And now\n",
      "when the centurion , he calleth Elias . to drink wine mingled with\n",
      "myrrh : but for the elect 's sake , whom he hath shortened the days.›\n",
      "21 ‹And then if any man shall say to you , I know not this\n",
      "Book: Hosea\n"
     ]
    },
    {
     "name": "stderr",
     "output_type": "stream",
     "text": [
      "Building ngram index...\n"
     ]
    },
    {
     "name": "stdout",
     "output_type": "stream",
     "text": [
      "killing , and by his strength he had power over the angel , and\n",
      "stealing , and separated themselves unto [ that ] doth not understand\n",
      "shall fall with them . , for joy , as the latter [ and ] former rain\n",
      "unto the LORD . and not sacrifice ; and I knew [ it ] not my people ,\n",
      "and he knoweth not . For now they shall be , like people , and I will\n",
      "be thy plagues ; O grave , I will spread my net upon them ; I will\n",
      "destroy her vines and her\n",
      "Book: Joel\n",
      "men , and gather yourselves together round about . , in those days\n",
      "will I pour out my spirit . apple tree , [ even ] a meat offering and\n",
      "the moon shall be full of wheat , and as a destruction from the house\n",
      "of our God ? Judah and Jerusalem , 2 I will cleanse their blood [ that\n",
      "] the mountains : a great lion . there hath not been ever the like ,\n",
      "neither shall be satisfied therewith : and my people shall be turned\n",
      "into darkness , and their children , and rejoice in the\n",
      "Book: Amos\n"
     ]
    },
    {
     "name": "stderr",
     "output_type": "stream",
     "text": [
      "Building ngram index...\n",
      "Building ngram index...\n"
     ]
    },
    {
     "name": "stdout",
     "output_type": "stream",
     "text": [
      "my name , saith the Lord standing upon the altar : and I will raise up\n",
      "his ruins , and the sabbath , that we may buy the poor of the land of\n",
      "Judah , and the needy for a pair of shoes ; [ yea ] , and from the\n",
      "north even to the east , they shall fall by the sword , which say ,\n",
      "The end is come upon my people of Israel among all nations , like as [\n",
      "corn ] is sifted in a polluted land : and behold a basket of summer\n",
      "fruit .\n",
      "Book: Jonah\n",
      "laid his robe from him , and covered [ him ] with sackcloth , and put\n",
      "on sackcloth , and there was a mighty tempest in the belly of the king\n",
      "of Nineveh believed God , if so be that God prepared a great fish to\n",
      "swallow up Jonah , and he did [ it ] not this my saying , Let neither\n",
      "man nor beast , herd nor flock , taste any thing : let them not feed ,\n",
      "nor drink water : 8 But let man and beast be covered with sackcloth ,\n",
      "and wished in himself to\n",
      "Book: Micah\n"
     ]
    },
    {
     "name": "stderr",
     "output_type": "stream",
     "text": [
      "Building ngram index...\n",
      "Building ngram index...\n"
     ]
    },
    {
     "name": "stdout",
     "output_type": "stream",
     "text": [
      "midst of many people as a young lion among the Gentiles in the\n",
      "entrances thereof : thus shall he be great unto the LORD thy God ? ,\n",
      "but not be satisfied ; and the LORD ; Behold , against this family do\n",
      "I devise an evil , from which ye shall not lift up a sword against\n",
      "nation , neither shall ye go haughtily : for the sons of men . anoint\n",
      "thee with oil ; and he that putteth not into their mouths , they\n",
      "practise it , because I have afflicted ; 7 And all the hires\n",
      "Book: Nahum\n",
      "loins , and filled his holes with prey , and filled his holes with\n",
      "prey , and the palace shall be opened , and will not at all acquit [\n",
      "the wicked shall no more of thy messengers shall no more . , make [\n",
      "thy ] power mightily . and of the house of thy bruise ; thy wound is\n",
      "grievous : all that dwell therein . I will afflict thee no more be\n",
      "heard . them ] afraid ? ] glory out of the place thereof , and a great\n",
      "number of carcases ; and [ is ]\n",
      "Book: Habakkuk\n"
     ]
    },
    {
     "name": "stderr",
     "output_type": "stream",
     "text": [
      "Building ngram index...\n",
      "Building ngram index...\n"
     ]
    },
    {
     "name": "stdout",
     "output_type": "stream",
     "text": [
      "make [ it ] plain upon tables , that I might rest in the midst of it .\n",
      ", because he transgresseth by wine , [ according ] to the oaths of the\n",
      "city , and he shall pass over , and not spare continually to slay the\n",
      "nations ; and the Holy One from mount Paran . and not spare\n",
      "continually to slay the nations ; and the people shall spoil thee ;\n",
      "because of men 's blood , and a teacher of lies , that thou didst ride\n",
      "upon thine horses [ and ] they trembled : the\n",
      "Book: Haggai\n",
      "not . , saith the LORD of hosts . and the spirit of Joshua the son of\n",
      "Josedech , the high priest , saying , 11 Thus saith the LORD 'S temple\n",
      "was laid upon a stone in the first day of the month , even ] from the\n",
      "four and twentieth day of the LORD by the sword of his garment , and\n",
      "said , So [ is it ] . I smote you with blasting and with hail in all\n",
      "the remnant of the ninth [ month ] , in the temple of the ninth [\n",
      "month ,\n",
      "Book: Malachi\n"
     ]
    },
    {
     "name": "stderr",
     "output_type": "stream",
     "text": [
      "Building ngram index...\n",
      "Building ngram index...\n"
     ]
    },
    {
     "name": "stdout",
     "output_type": "stream",
     "text": [
      "law . , out of the spirit . am ] the LORD [ is ] contemptible . Behold\n",
      ", I pray you , and a book of remembrance was written before him for\n",
      "them that feared the LORD to Israel by Malachi . they shall be stubble\n",
      ": and the wife of his coming ? [ is ] good in the day of his coming ?\n",
      "gold and silver , that despise my name shall the Sun of righteousness\n",
      "arise with healing in his flock a male , and discern between the\n",
      "righteous and the wife of his coming ?\n",
      "Book: Matthew\n"
     ]
    },
    {
     "name": "stderr",
     "output_type": "stream",
     "text": [
      "Building ngram index...\n"
     ]
    },
    {
     "name": "stdout",
     "output_type": "stream",
     "text": [
      "law , had in reputation among all the nation of the city , Peter rose\n",
      "up , and the God of our fathers , unto that same Jesus , that thou\n",
      "mightest receive thy sight , and praising God : and God gave them the\n",
      "decrees for to preach the gospel . , moved with envy , sold [ it ] ,\n",
      "and they that were of one soul : and a great number believed , being\n",
      "grieved , turned and said unto him from Galilee , after that shall\n",
      "they come forth , the Lord Jesus Christ , which\n",
      "Book: John\n"
     ]
    },
    {
     "name": "stderr",
     "output_type": "stream",
     "text": [
      "Building ngram index...\n"
     ]
    },
    {
     "name": "stdout",
     "output_type": "stream",
     "text": [
      "long abstinence Paul stood on the shore , and [ then ] let the young\n",
      "man depart , and Bernice came unto Caesarea : and having caught Gaius\n",
      "and Aristarchus , men of what province he was accused of the law , and\n",
      "fell down from Jerusalem into the hands of Paul , thou shalt hear him\n",
      ". , presented Paul also before him . and prayed with them , I am , and\n",
      "overcame them , and horsemen threescore and sixteen souls . But none\n",
      "of these matters . to do.› 11 And I punished them oft in every\n",
      "Book: Mark\n"
     ]
    },
    {
     "name": "stderr",
     "output_type": "stream",
     "text": [
      "Building ngram index...\n"
     ]
    },
    {
     "name": "stdout",
     "output_type": "stream",
     "text": [
      "may be healed ; and the waves beat into the fire is not lawful for\n",
      "thee , cut it off : it is ] ‹thy name ? , receiveth me : and they had\n",
      "heard of Jesus , moved with compassion , put forth [ his ] hand , in\n",
      "whom I beheaded : he is risen from the people [ unto him , ‹Go home to\n",
      "thy friends , and one for Elias . because they were afraid . Capernaum\n",
      "; and his disciples , and began to teach by the hand , and chief [\n",
      "estates ] of\n",
      "Book: James\n"
     ]
    },
    {
     "name": "stderr",
     "output_type": "stream",
     "text": [
      "Building ngram index...\n"
     ]
    },
    {
     "name": "stdout",
     "output_type": "stream",
     "text": [
      "it , until he receive the greater condemnation . , neither shadow of\n",
      "turning . and latter rain . 11 Doth a fountain send forth at the same\n",
      "mouth proceedeth blessing and cursing . this ] , there [ is ] your\n",
      "life ? [ is ] a perfect man , [ and ] easy to be intreated , full of\n",
      "deadly poison . for a little fire kindleth ! , and been wanton ; ye\n",
      "have respect to persons , ye that say , Thou hast faith , and setteth\n",
      "on fire the course of nature ; and therewith\n",
      "Book: Luke\n"
     ]
    },
    {
     "name": "stderr",
     "output_type": "stream",
     "text": [
      "Building ngram index...\n"
     ]
    },
    {
     "name": "stdout",
     "output_type": "stream",
     "text": [
      "my Father 's business ? , that , when the parents brought in a manger\n",
      ". as the voice of one crying in the company of publicans and sinners !\n",
      "He hath a devil.› 34 ‹The Son of God came unto him , they went out to\n",
      "sow his seed for ever . to land , they fled , and when the Lord .\n",
      "about fourscore and four years , which was [ the son ] of Maath ,\n",
      "which was [ the son ] of Jesse , which was [ the son ] of James , and\n",
      "rebuked the\n",
      "Book: Acts\n",
      "of Galilee , why stand ye gazing up into an upper room , where abode\n",
      "both Peter , and , they asked of him , saying , Lord , wilt thou at\n",
      "this time restore again the kingdom of God : 4 And , being assembled\n",
      "together with [ them ] , ‹ye have heard of me.› 5 ‹For John truly\n",
      "baptized with water ; but ye shall be witnesses unto me both in\n",
      "Jerusalem , and speaking of the Father hath put in his own power.› 8\n",
      "‹But ye shall be baptized with water ; but ye shall receive\n",
      "Book: Romans\n"
     ]
    },
    {
     "name": "stderr",
     "output_type": "stream",
     "text": [
      "Building ngram index...\n",
      "Building ngram index...\n"
     ]
    },
    {
     "name": "stdout",
     "output_type": "stream",
     "text": [
      "law , are a law unto themselves : 15 Because the creature itself also\n",
      "shall be called an adulteress : but the doers of the creature itself\n",
      "also shall be saved by hope : but judge this rather , that thou shalt\n",
      "confess with thy meat , for the love of Christ . , our helper in\n",
      "Christ Jesus : 4 For as many as have sinned : 13 ( For not the natural\n",
      "branches , [ let us put on the vessels of mercy , which are with them\n",
      "that know the law of sin . also joy in\n",
      "Book: 1 Corinthians\n"
     ]
    },
    {
     "name": "stderr",
     "output_type": "stream",
     "text": [
      "Building ngram index...\n"
     ]
    },
    {
     "name": "stdout",
     "output_type": "stream",
     "text": [
      "judged , we bless ; being persecuted , we are chastened of the Spirit\n",
      "of God . , not discerning the Lord from heaven . all spake with\n",
      "tongues , and all authority and power . ? this day . Wherefore I\n",
      "beseech you , brethren , by man [ came ] also the wife unto the Jews I\n",
      "became as a child , I know not the things which God hath chosen the\n",
      "weak became I as weak , but the wife due benevolence : and [ that ]\n",
      "shall be changed . for another . . came ]\n",
      "Book: 2 Corinthians\n",
      "manifestly declared to be present with the Lord . , that as ye are\n",
      "straitened in us , but in part : that I may not overcharge you all .\n",
      "appearance , and a door was opened unto me of the new testament ;\n",
      "which [ I say ] , and [ yet ] true ; 9 As unknown , and doth deliver :\n",
      "in whom we trust that he which raised up the Lord ; and I will receive\n",
      "you , when I came , I should have sorrow from them of whom I ought to\n",
      "rejoice ; having\n",
      "Book: Titus\n"
     ]
    },
    {
     "name": "stderr",
     "output_type": "stream",
     "text": [
      "Building ngram index...\n",
      "Building ngram index...\n"
     ]
    },
    {
     "name": "stdout",
     "output_type": "stream",
     "text": [
      "know God ; but in works they deny [ him ] , being abominable , and\n",
      "disobedient , deceived , serving divers lusts and pleasures , living\n",
      "in malice and envy , hateful , [ but ] gentle , shewing all good\n",
      "fidelity ; that he may be ashamed , having faithful children not\n",
      "accused of riot or unruly . , sincerity , 8 Sound speech , that [ they\n",
      "be not unfruitful . and profitable unto men . But avoid foolish\n",
      "questions , and exhort , and strivings about the law ; for they are\n",
      "unprofitable and vain talkers\n",
      "Book: Galatians\n",
      "law , but a son ; and if a man be overtaken in a fault , ye that\n",
      "desire to make a fair shew in the Jews ' religion above many my equals\n",
      "in mine own nation , being made a curse for us : for I bear you record\n",
      ", that he might deliver us from this present evil world , according to\n",
      "this rule , peace , longsuffering , gentleness , goodness , faith ,\n",
      "preached before the gospel might continue with you . , so say I now\n",
      "persuade men , I make myself a transgressor .\n"
     ]
    },
    {
     "name": "stderr",
     "output_type": "stream",
     "text": [
      "Building ngram index...\n"
     ]
    },
    {
     "name": "stdout",
     "output_type": "stream",
     "text": [
      "Book: Ephesians\n",
      "may be able to stand against the rulers of the apostles and prophets ,\n",
      "Jesus Christ , so [ let ] the exceeding greatness of his bones . , or\n",
      "any such thing ; but be filled with all the fulness of God , who is an\n",
      "idolater , hath quickened us together with Christ , ( by grace are ye\n",
      "saved through faith ; that ye [ being ] in Christ Jesus throughout all\n",
      "ages , world without end . be joined unto his holy apostles and\n",
      "prophets , Jesus Christ for you , which are at Ephesus ,\n",
      "Book: Philippians\n"
     ]
    },
    {
     "name": "stderr",
     "output_type": "stream",
     "text": [
      "Building ngram index...\n",
      "Building ngram index...\n"
     ]
    },
    {
     "name": "stdout",
     "output_type": "stream",
     "text": [
      "it ] until the day of Jesus Christ . , so soon as I shall be magnified\n",
      "in my body , that ye had heard that he hath served with me in the\n",
      "defence of the Hebrews ; as touching the righteousness which is\n",
      "through the faith of Christ ; which is in the form of a sweet smell ,\n",
      "a Pharisee ; 6 Concerning zeal , persecuting the church ; touching the\n",
      "law , a sacrifice acceptable , wellpleasing to God . always obeyed ,\n",
      "not having mine own righteousness , which ye saw in me . Christ ;\n",
      "Book: Colossians\n",
      "lest any man have a quarrel against any : even as Christ forgave you ,\n",
      "as [ it is ] our life , shall appear , then shall ye also walked some\n",
      "time , when ye lived in them . , shall appear , then shall ye also\n",
      "appear with him in glory . and longsuffering with joyfulness ; 12 ¶\n",
      "Giving thanks unto the kingdom of God ; 11 Strengthened with all might\n",
      ", according to his saints : 27 To whom God would make known unto you\n",
      "all things , and teaching every man perfect in Christ Jesus\n",
      "Book: 1 Thessalonians\n"
     ]
    },
    {
     "name": "stderr",
     "output_type": "stream",
     "text": [
      "Building ngram index...\n",
      "Building ngram index...\n"
     ]
    },
    {
     "name": "stdout",
     "output_type": "stream",
     "text": [
      "love , and brought us good tidings of your faith : 8 For from you\n",
      "sounded out the word in much assurance ; as ye know , at the coming of\n",
      "the Thessalonians [ which is lacking in your faith and charity , and\n",
      "Timotheus , our brother , and in much affliction , with the Lord make\n",
      "you to increase and abound in love one another , and exhort [ you ] by\n",
      "the Lord so cometh as a thief . , not in heart , endeavoured the more\n",
      "abundantly to see your face with great desire . and\n",
      "Book: 2 Thessalonians\n",
      "means . , shewing himself that he might be revealed , the son of\n",
      "perdition ; 4 So that we might not be chargeable to any of you : 2 And\n",
      "that we may be delivered from unreasonable and wicked men : for we\n",
      "behaved not ourselves disorderly among you was believed ) in that day\n",
      "shall not come ] , whose coming is after the tradition which he\n",
      "received of us . are some which walk among you ; 7 And to you who are\n",
      "troubled rest with us , that he as God sitteth in the temple of\n",
      "Book: 1 Timothy\n"
     ]
    },
    {
     "name": "stderr",
     "output_type": "stream",
     "text": [
      "Building ngram index...\n",
      "Building ngram index...\n"
     ]
    },
    {
     "name": "stdout",
     "output_type": "stream",
     "text": [
      "it ] ignorantly in unbelief . , preached unto the doctrine which is in\n",
      "Christ Jesus . and is worse than an infidel . And let these also first\n",
      "be proved ; then let them relieve them that defile themselves with\n",
      "mankind , for the ungodly and for sinners , for a righteous man ,\n",
      "neither be partaker of other men 's sins : keep thyself pure . they\n",
      "have cast off their first faith . [ is ] certain we can carry nothing\n",
      "out . from God our Father and Jesus Christ , they will marry ; 12\n",
      "Having\n",
      "Book: 2 Timothy\n",
      "is Hymenaeus and Philetus ; 18 Who concerning the faith . , manner of\n",
      "life which is in Christ Jesus . all the brethren . But in a great\n",
      "house there are not only vessels of gold and of love , and some to\n",
      "dishonour . they shall turn away . Troas with Carpus , when he was in\n",
      "Rome , he sought me out very diligently , and lead captive silly women\n",
      "laden with sins , led away with divers lusts , 7 Ever learning , and\n",
      "the time will come when they will not endure sound doctrine ;\n",
      "Book: Philemon\n",
      "it ] : albeit I do nothing ; that thy benefit should not be as it were\n",
      "of necessity , but now profitable to thee how thou owest unto me in\n",
      "the Lord Jesus Christ . , mine own bowels : 13 Whom I have begotten in\n",
      "my prayers , 5 Hearing of thy faith may become effectual by the\n",
      "acknowledging of every good thing which is convenient , 9 Yet for love\n",
      "'s sake I rather beseech [ thee ] ought , put that on mine account ;\n",
      "19 I Paul have written [ it ] : albeit I\n"
     ]
    },
    {
     "name": "stderr",
     "output_type": "stream",
     "text": [
      "Building ngram index...\n",
      "Building ngram index...\n"
     ]
    },
    {
     "name": "stdout",
     "output_type": "stream",
     "text": [
      "Book: Hebrews\n"
     ]
    },
    {
     "name": "stderr",
     "output_type": "stream",
     "text": [
      "Building ngram index...\n"
     ]
    },
    {
     "name": "stdout",
     "output_type": "stream",
     "text": [
      "more , as a son over his own house ; by the Levitical priesthood ,\n",
      "have a great high priest over the house . , prepared an ark to the law\n",
      ": 5 Who serve unto the heirs of promise the immutability of his house\n",
      ". be moved , let us consider one another ] : which the Egyptians\n",
      "assaying to do . I sing praise unto thee . thorns and briers [ is ]\n",
      "not with grief : for this he did once , when they had heard , did\n",
      "provoke : howbeit not all ministering spirits , and\n",
      "Book: 1 Peter\n",
      "lusts , excess of wine , revellings , banquetings , and giveth grace\n",
      "to the king , as unto ] a thief , or what manner of conversation ; 16\n",
      "Because it is written , Be ye holy in all things have fervent charity\n",
      "among yourselves : for charity shall cover the multitude of sins . ,\n",
      "should live the rest of [ our ] life may suffice us to God , that ye\n",
      "may be glad also with exceeding joy . as of the Lord God in all manner\n",
      "of time the holy women also , as I suppose\n"
     ]
    },
    {
     "name": "stderr",
     "output_type": "stream",
     "text": [
      "Building ngram index...\n",
      "Building ngram index...\n"
     ]
    },
    {
     "name": "stdout",
     "output_type": "stream",
     "text": [
      "Book: 2 Peter\n",
      "of . , than , after they have exercised with covetous practices ;\n",
      "cursed children : 15 Which have forsaken the right way , and of the\n",
      "scripture is of any private interpretation . better for them not to\n",
      "have known [ it ] , selfwilled , they make [ you that ye look for new\n",
      "heavens and the works that are therein shall be dissolved , and that\n",
      "can not cease from sin ; beguiling unstable souls : an heart they have\n",
      "known [ it ] , a preacher of righteousness , than , after they have\n",
      "exercised with\n",
      "Book: 1 John\n"
     ]
    },
    {
     "name": "stderr",
     "output_type": "stream",
     "text": [
      "Building ngram index...\n",
      "Building ngram index...\n",
      "Building ngram index...\n"
     ]
    },
    {
     "name": "stdout",
     "output_type": "stream",
     "text": [
      "it , and he shall give him life for them that sin not . , little\n",
      "children , let us love one another . another . 11 Beloved , believe\n",
      "not every spirit that confesseth that Jesus is the Spirit which he\n",
      "hath not the world , and the world , [ then ] have we from him , how\n",
      "dwelleth the love [ of compassion ] from him , because it knew him not\n",
      ". to his will , he is in you , and is truth . [ of God : and there is\n",
      "a liar , and\n",
      "Book: 2 John\n",
      "in it . , receive him not into [ your ] house , neither bid him God\n",
      "speed : 11 For he that biddeth him God speed is partaker of his evil\n",
      "deeds . a full reward . 12 ¶ Having many things to write unto you , I\n",
      "would not [ write ] with paper and ink : but I trust to come unto you\n",
      ", mercy , [ and ] peace , from God the Father , in truth , as we have\n",
      "wrought , but also all they that have known the truth 's sake , which\n",
      "Book: 3 John\n",
      "mayest prosper and be in health , even as thou walkest in the truth\n",
      "itself : yea , and casteth [ them ] out of the Gentiles . , receiveth\n",
      "us not . and pen write unto thee : 14 But I trust I shall shortly see\n",
      "thee , and we shall speak face to face . 11 Beloved , I will not with\n",
      "ink and pen write unto thee : 14 But I trust I shall shortly see thee\n",
      ", and casteth [ them ] out of the truth itself : yea , and we shall\n",
      "speak face to\n",
      "Book: Jude\n",
      "mockers in the gainsaying of Core . , praying in the love of God , and\n",
      "our Lord Jesus Christ ; 18 How that they told you there should be\n",
      "mockers in the gainsaying of Core . angels which kept not their first\n",
      "estate , but said , The Lord rebuke thee . Christ . to present [ you ]\n",
      "that ye should earnestly contend for the mercy of our Lord Jesus\n",
      "Christ , and peace , and denying the only Lord God , looking for the\n",
      "faith which was once delivered unto the judgment of the great day .\n"
     ]
    },
    {
     "name": "stderr",
     "output_type": "stream",
     "text": [
      "Building ngram index...\n"
     ]
    },
    {
     "name": "stdout",
     "output_type": "stream",
     "text": [
      "Book: Revelation\n"
     ]
    },
    {
     "name": "stderr",
     "output_type": "stream",
     "text": [
      "Building ngram index...\n"
     ]
    },
    {
     "name": "stdout",
     "output_type": "stream",
     "text": [
      "nations , and frankincense , and under the earth , and on either side\n",
      "of the church in Thyatira , as the sand of the earth , and times , and\n",
      "the last : and the things which were not killed by these plagues : and\n",
      "I heard from heaven , and half a time , and the dead lived not again\n",
      "until the words of God , and half a time , and talked with me ; which\n",
      "said , Amen : Blessing , and ye that dwell in heaven : and her child\n",
      "as soon as it were\n"
     ]
    }
   ],
   "source": [
    "#KJV\n",
    "\n",
    "#This function tokenizes and then runs NLTK's generate on each book of the Bible. \n",
    "# Function to tokenize a given text\n",
    "def tokenize_text(text):\n",
    "    return nltk.tokenize.word_tokenize(text)\n",
    "\n",
    "# Function to generate text based on tokenized input\n",
    "def generate_text(tokens):\n",
    "    nltk.Text(tokens).generate()\n",
    "\n",
    "# Assuming you have a dictionary 'bible_books' where each key is a book of the Bible and the value is the text of that book\n",
    "# You can tokenize each book separately and generate text\n",
    "for book, text in Split_KJV.items():\n",
    "    tokens = tokenize_text(text)\n",
    "    print(f\"Book: {book}\")\n",
    "    generate_text(tokens)"
   ]
  },
  {
   "cell_type": "code",
   "execution_count": 8,
   "id": "6ee17a5f-a449-44a7-b78e-5d3a252a0720",
   "metadata": {},
   "outputs": [
    {
     "name": "stdout",
     "output_type": "stream",
     "text": [
      "Book: Genesis\n"
     ]
    },
    {
     "name": "stderr",
     "output_type": "stream",
     "text": [
      "Building ngram index...\n"
     ]
    },
    {
     "name": "stdout",
     "output_type": "stream",
     "text": [
      "in Benjamin 's mess was five times so much as any of theirs . , do .\n",
      "and let us consent unto them , 2 that they will say , Let there be a\n",
      "serpent in the cities , and Kedemah : 16 And Judah said unto Joseph ,\n",
      "I am standing by the Fear of his old age . Abraham buried , and I ,\n",
      "behold , behind [ him ] a wild ass among men ; and he said unto Joseph\n",
      ", but to-day . these are the sons of Jacob ; And he brought back his\n",
      "hand\n",
      "Book: Exodus\n"
     ]
    },
    {
     "name": "stderr",
     "output_type": "stream",
     "text": [
      "Building ngram index...\n"
     ]
    },
    {
     "name": "stdout",
     "output_type": "stream",
     "text": [
      "none . , mine angel shall go out free : 6 and showing lovingkindness\n",
      "unto thousands of them that were men , such as have not hearkened unto\n",
      "me , Bring up this people that is born ye shall take of its blood ,\n",
      "and how Jehovah delivered them out of Egypt . away from the earth ,\n",
      "and all his host ; and there shall be sold for his theft . Chapter 27\n",
      "1 And God dealt well with the rod , and bare a son , thy servants ,\n",
      "and the two ends of the trumpet , and\n",
      "Book: Leviticus\n"
     ]
    },
    {
     "name": "stderr",
     "output_type": "stream",
     "text": [
      "Building ngram index...\n"
     ]
    },
    {
     "name": "stdout",
     "output_type": "stream",
     "text": [
      "of Egypt , to sacrifice it unto Jehovah . , or any that is to be done\n",
      ", and it shall be the priest ; and they shall be holy convocations ,\n",
      "to make atonement for her , and the garments , and be unclean until\n",
      "the even . carnally with thy neighbor , 3 What man soever there be of\n",
      "the head of the assembly shall offer an oblation of your children\n",
      "after you , and offer thy sin-offering , and all the people . This is\n",
      "the law for all that any man mortally shall surely be put\n",
      "Book: Numbers\n"
     ]
    },
    {
     "name": "stderr",
     "output_type": "stream",
     "text": [
      "Building ngram index...\n"
     ]
    },
    {
     "name": "stdout",
     "output_type": "stream",
     "text": [
      "of Arad , who was slain with a high hand , if I have pardoned\n",
      "according to their number , from twenty years old shalt thou do . , or\n",
      "all her vows shall stand . as he was fled : and Jehovah 's anger was\n",
      "kindled against Israel . Elim : and it be done to him , for Jehovah's\n",
      "heave-offering . these commandments , which are upon her all this evil\n",
      "congregation , thou , and put thereon the dishes , and bathe himself\n",
      "in water , I give unto the children of Israel , because thy way\n",
      "Book: Deuteronomy\n"
     ]
    },
    {
     "name": "stderr",
     "output_type": "stream",
     "text": [
      "Building ngram index...\n"
     ]
    },
    {
     "name": "stdout",
     "output_type": "stream",
     "text": [
      "of Caphtor , destroyed them from the day of the cloud by day . , or an\n",
      "enchanter , or if the first-born before the son of the fire , one that\n",
      "maketh a graven image in the legs , with a familiar spirit , and upon\n",
      "the crown of the way to Bashan : and thou shalt not oppress a hired\n",
      "servant that is in the midst of thee , but turn aside out of thy hands\n",
      ", and as the apple of his house , and , though they chasten him , nor\n",
      "thy fathers ; 7 then\n",
      "Book: Joshua\n"
     ]
    },
    {
     "name": "stderr",
     "output_type": "stream",
     "text": [
      "Building ngram index...\n"
     ]
    },
    {
     "name": "stdout",
     "output_type": "stream",
     "text": [
      "man , and devour the men of Gilead . , he and his servant with him .\n",
      "and put them to death , And Naphtali , upon the mountains , and smote\n",
      "it so that it fell , and went after his wife 's sons grew up , and do\n",
      "as I have delivered it into thy hand . And it came to Laish , and bear\n",
      "a son , that a tribe be not slothful to go his way ; and he sold them\n",
      "into his house . thirty daughters he sent away the land to destroy it\n",
      ".\n",
      "Book: Job\n",
      "it might not rain ; and the Lord : 15 and the Lord , how that the Lord\n",
      "shall raise him up ; and the earth , nor by the heaven gave rain , and\n",
      "pray one for another , that he who converteth a sinner from the truth\n",
      ", and he prayed fervently that it might not rain ; and let them pray\n",
      "over him , anointing him with oil in the name of the church ; and if\n",
      "he have committed sins , it shall be forgiven him . , nay ; that ye\n",
      "may be healed .\n",
      "Book: Judges\n",
      "name of Hebron beforetime was Luz . ) , of the hand of those that\n",
      "despoiled them . and saved them out . And it came to pass , when\n",
      "Israel was waxed strong , that they put the Canaanites that dwelt in\n",
      "Hebron ( now the name thereof Luz , which is in the lowland . they\n",
      "gave Hebron unto Caleb , as Moses had spoken , and they fought against\n",
      "him , and Talmai . Naphtali drove not out the inhabitants of Kitron ,\n",
      "nor of Rehob ; 32 but the Canaanites ; and Jehovah was against them\n"
     ]
    },
    {
     "name": "stderr",
     "output_type": "stream",
     "text": [
      "Building ngram index...\n",
      "Building ngram index...\n"
     ]
    },
    {
     "name": "stdout",
     "output_type": "stream",
     "text": [
      "Book: Ruth\n",
      "leave it , and that they shall not touch thee ? , my daughter . and\n",
      "let thy house be like the house . ? thou hast left thy father and thy\n",
      "mother , and gave to her . Ruth her daughter-in-law , who is better to\n",
      "thee , and wept . harvest . , and a nourisher of thine old age , for\n",
      "thy daughter-in-law , who loveth thee , and his name was Boaz . down .\n",
      "14 And at meal-time Boaz said unto him , Why have I yet sons in my\n",
      "womb , that thou go\n"
     ]
    },
    {
     "name": "stderr",
     "output_type": "stream",
     "text": [
      "Building ngram index...\n"
     ]
    },
    {
     "name": "stdout",
     "output_type": "stream",
     "text": [
      "Book: 1 Samuel\n"
     ]
    },
    {
     "name": "stderr",
     "output_type": "stream",
     "text": [
      "Building ngram index...\n"
     ]
    },
    {
     "name": "stdout",
     "output_type": "stream",
     "text": [
      "kissed him , I pray thee , and in coverts , and I have provided me a\n",
      "man that bare the shield went before him . , he and his men were holy\n",
      ", though it be in safeguard . and perverted justice . And he arose and\n",
      "departed : and I have seen a son , he shall go down with an ephod in\n",
      "his hand . this day ; give it me now a man , fled from him , she said\n",
      "unto thee , where the ark of God unto Eli , Hophni and Phinehas , are\n",
      "Book: 2 Samuel\n"
     ]
    },
    {
     "name": "stderr",
     "output_type": "stream",
     "text": [
      "Building ngram index...\n"
     ]
    },
    {
     "name": "stdout",
     "output_type": "stream",
     "text": [
      "king 's house , but the poor man 's lamb , which I have served in thy\n",
      "presence . , go forth : for this day have saved thy life ; and the\n",
      "king , that thou hast declared this day of my lord the king 's dale ;\n",
      "for Joab held back the people return from following Abner : and thus\n",
      "did he unto all the people , even from Giloh , while the child may\n",
      "live ? an end of nine months and twenty days . Amasa lay wallowing in\n",
      "his bedchamber , they have there with them\n",
      "Book: 1 Kings\n"
     ]
    },
    {
     "name": "stderr",
     "output_type": "stream",
     "text": [
      "Building ngram index...\n"
     ]
    },
    {
     "name": "stdout",
     "output_type": "stream",
     "text": [
      "made . , in Makaz , and the king died , and his statutes , and left\n",
      "his servant there . and palm-trees and open flowers , and Asherim ,\n",
      "provoking Jehovah to anger Jehovah , and a little oil in the chariot\n",
      "cities , and will be a proverb and a cruse of honey , and let Zadok\n",
      "the priest and Nathan the prophet came near , and the people answered\n",
      "the people , and die . Benaiah the son of Ahijah , Behold , I will add\n",
      "to your yoke heavy , but make me thereof a little\n",
      "Book: 2 Kings\n"
     ]
    },
    {
     "name": "stderr",
     "output_type": "stream",
     "text": [
      "Building ngram index...\n"
     ]
    },
    {
     "name": "stdout",
     "output_type": "stream",
     "text": [
      "let a double portion of the sons of the Hittites , and Judah with thee\n",
      "? , he and all the sins of Jeroboam , wherewith he made Israel to sin\n",
      ", but the horses ' entry to the masons and the creditor is come unto\n",
      "thee , to go out on the wall ; and she went with Joram the son of\n",
      "Rechab coming to meet him , and went out , and the sun shone upon the\n",
      "king 's house , by the way , neither repair the breaches of the acts\n",
      "of Joram the son of Nebat\n",
      "Book: Zechariah\n",
      "me , This is the month Shebat , in the holy land , and saw , and saw ,\n",
      "and sought to go forth from standing before the angel that talked with\n",
      "me with good words , [ even ] comfortable words . , my lord . and said\n",
      "unto him , 4 and said , No , my lord . ? these are ? Then said I ,\n",
      "Whither do these bear the ephah ; and in the second year of Darius ,\n",
      "came the word of Jehovah that stood before him , saying , Behold , I\n",
      "will\n"
     ]
    },
    {
     "name": "stderr",
     "output_type": "stream",
     "text": [
      "Building ngram index...\n"
     ]
    },
    {
     "name": "stdout",
     "output_type": "stream",
     "text": [
      "Book: Jeremiah\n"
     ]
    },
    {
     "name": "stderr",
     "output_type": "stream",
     "text": [
      "Building ngram index...\n"
     ]
    },
    {
     "name": "stdout",
     "output_type": "stream",
     "text": [
      "likewise . , kneeling to him in the marketplaces , and mercy , and\n",
      "said unto him , saying , Is it lawful [ for a rich man to enter . and\n",
      "said unto him , Answerest thou nothing ? 14 And he also that [\n",
      "received ] the two brethren . things are ready : come to pass when\n",
      "Jesus had finished these words , he said unto them , tell it unto one\n",
      "he gave him no answer , saying , All hail . Then said Jesus to the\n",
      "governor 's ears , we have left the other\n",
      "Book: 1 Chronicles\n"
     ]
    },
    {
     "name": "stderr",
     "output_type": "stream",
     "text": [
      "Building ngram index...\n"
     ]
    },
    {
     "name": "stdout",
     "output_type": "stream",
     "text": [
      "and Ahimoth . , and Casluhim ( from whence came the Philistines ) ,\n",
      "and Molid . Cheran . the genealogy of their fathers ' houses : Michael\n",
      ", and at Tolad , 30 Shimea his son , and Judah , and Asaiah , and Ben-\n",
      "zoheth . Abraham ) . The sons of Hur , and Tochen , and in all the [\n",
      "land ] east of Gilead , the father of Lecah , and Hur , and Sabteca .\n",
      ", and Benaiah , 37 and Zabad begat Ephlal , and Manahath , and Neariah\n",
      ", and Carmi , and\n",
      "Book: Zephaniah\n"
     ]
    },
    {
     "name": "stderr",
     "output_type": "stream",
     "text": [
      "Building ngram index...\n"
     ]
    },
    {
     "name": "stdout",
     "output_type": "stream",
     "text": [
      "nail , from Geba to Rimmon south of Jerusalem , as that plague . ,\n",
      "like as ye were a curse among the nations of the inhabitants of\n",
      "Jerusalem , the sojourner , nor heal that which is known unto Jehovah\n",
      "; 13 the family of the idols out of the tenth , shall be scattered ;\n",
      "and the pots in Jehovah of hosts : If it be marvellous in mine eyes\n",
      "upon the land , who will not be cut off , neither [ shall be ] a very\n",
      "great valley ; and they shall devour all the peoples\n",
      "Book: Obadiah\n",
      "nations , [ saying ] , Arise ye , and foreigners entered into his\n",
      "gates , and the house of Joseph a flame , and prevailed against thee ;\n",
      "thy dealing shall return upon thine own head . , neither lay ye [\n",
      "hands ] on their affliction in the day of his disaster , and prevailed\n",
      "against thee ; thy dealing shall return upon thine own head . be cut\n",
      "off ! ) Esau ? thee , and thou shalt be cut off ! ) against her in\n",
      "battle . heart , Who shall bring me down to the\n",
      "Book: 2 Chronicles\n"
     ]
    },
    {
     "name": "stderr",
     "output_type": "stream",
     "text": [
      "Building ngram index...\n",
      "Building ngram index...\n"
     ]
    },
    {
     "name": "stdout",
     "output_type": "stream",
     "text": [
      "me , O Jehovah God , which God had David brought up from Kiriath-\n",
      "jearim to [ the place whereof thou hast promised him , were before\n",
      "Judah , and sought not unto the words of Jehovah our God above all his\n",
      "days . , nor fight against your brethren : return every man his\n",
      "tribute , vessels of gold went to Tarshish with the servants of\n",
      "Solomon , even from heaven , or on earth ; who keepest covenant and\n",
      "lovingkindness with thy servants for his kingdom . are these thy\n",
      "servants , 9 and Adoraim , and worship them\n",
      "Book: Ezra\n"
     ]
    },
    {
     "name": "stderr",
     "output_type": "stream",
     "text": [
      "Building ngram index...\n"
     ]
    },
    {
     "name": "stdout",
     "output_type": "stream",
     "text": [
      "me . , the God of heaven and earth , and of every one to its place .\n",
      "and seventeen . Darius king of Israel ( he is God ) , which is at\n",
      "Jerusalem ; and we sacrifice unto him since the days of Esar-haddon\n",
      "king of Babylon , and let the king in this sort : 9 then [ wrote ]\n",
      "Rehum the chancellor , and in the rest [ of the house of God , which\n",
      "is in Jerusalem , and that rebellion and sedition have been made , and\n",
      "it is written in the house of\n",
      "Book: Haggai\n",
      "new wine , and upon the oil , and I will overthrow the chariots , and\n",
      "my Spirit abode among you that saw this house lieth waste , while ye\n",
      "run every man to his own house . , saith Jehovah of hosts : Consider\n",
      "your ways . and the spirit of Joshua the son of Jehozadak , the son of\n",
      "Jehozadak , the high priest , and I will take pleasure in it , and the\n",
      "spirit of Joshua the son of Shealtiel , and upon the new wine , or\n",
      "pottage , or oil , or oil ,\n",
      "Book: Nehemiah\n"
     ]
    },
    {
     "name": "stderr",
     "output_type": "stream",
     "text": [
      "Building ngram index...\n",
      "Building ngram index...\n"
     ]
    },
    {
     "name": "stdout",
     "output_type": "stream",
     "text": [
      "nobles , and drink the sweet , and mocked the Jews and the Nethinim ,\n",
      "and do so , and the peoples of the wall ; and I set him a time . , nor\n",
      "memorial , in the lowest parts of the heaps of rubbish , seeing they\n",
      "are burned with fire : come , the children of Hatipha . and rose up ,\n",
      "and God had brought their counsel to nought , that thou didst allot\n",
      "after their families with their swords , their wives , and on the dry\n",
      "land ; and that we returned all of\n",
      "Book: Esther\n"
     ]
    },
    {
     "name": "stderr",
     "output_type": "stream",
     "text": [
      "Building ngram index...\n"
     ]
    },
    {
     "name": "stdout",
     "output_type": "stream",
     "text": [
      "message unto Mordecai , whereunto the king 's gate , bowed down , and\n",
      "the horse , as thou hast spoken . , on the king and Haman come this\n",
      "day 's decree , and they that did the king 's chamberlains , and to\n",
      "stand for their lives , and weeping , and took upon them . be hanged\n",
      "upon the couch whereon Esther was . Haman hasted to bring Haman unto\n",
      "the banquet of wine , What honor and dignity hath been bestowed on\n",
      "Mordecai for this ? they laid not their hand . and in every province\n",
      "Book: Psalm\n",
      "firmament of his power . . Praise God in his sanctuary : Praise him\n",
      "with timbrel and dance : Praise him with stringed instruments and pipe\n",
      ". sounding cymbals . 5 Praise him with high sounding cymbals . Psalm\n",
      "150 1 Praise ye Jehovah . 1 Praise ye Jehovah . Praise him with loud\n",
      "cymbals : Praise him with high sounding cymbals . with high sounding\n",
      "cymbals . dance : Praise him with stringed instruments and pipe .\n",
      "timbrel and dance : Praise him with stringed instruments and pipe . 3\n",
      "Praise him with trumpet sound : Praise him with\n"
     ]
    },
    {
     "name": "stderr",
     "output_type": "stream",
     "text": [
      "Building ngram index...\n"
     ]
    },
    {
     "name": "stdout",
     "output_type": "stream",
     "text": [
      "Book: Proverbs\n"
     ]
    },
    {
     "name": "stderr",
     "output_type": "stream",
     "text": [
      "Building ngram index...\n"
     ]
    },
    {
     "name": "stdout",
     "output_type": "stream",
     "text": [
      "is [ as ] prudent . . a man that feareth Jehovah , And [ so is he that\n",
      "is needful for me , and not evil All the words of the wise , And let\n",
      "thine eyelids ; 5 Deliver thyself as a bird that wandereth from her\n",
      "nest , So is ] a sweeping rain which leaveth no food . 12 I wisdom\n",
      "have made [ them with ] words , [ even ] all the day of thy words .\n",
      "the land . Jehovah ; But he that is abhorred of Jehovah , He shall\n",
      "give all\n",
      "Book: Ecclesiastes\n"
     ]
    },
    {
     "name": "stderr",
     "output_type": "stream",
     "text": [
      "Building ngram index...\n"
     ]
    },
    {
     "name": "stdout",
     "output_type": "stream",
     "text": [
      "made crooked ? , or the pitcher is broken , or the pitcher is broken\n",
      "at the fountain , or whether it be good , or whether they both shall\n",
      "be ; for thou knowest not what evil shall be upon the earth ?\n",
      "befalleth the sons of men , musical instruments , and yet the appetite\n",
      "is not filled . I labor , is far off and exceeding deep ; who can eat\n",
      ", or the wheel broken at the matter ; all hath been long ago , in the\n",
      "hand of God : for this is the sight\n",
      "Book: Song of Solomon\n"
     ]
    },
    {
     "name": "stderr",
     "output_type": "stream",
     "text": [
      "Building ngram index...\n"
     ]
    },
    {
     "name": "stdout",
     "output_type": "stream",
     "text": [
      "his : He feedeth [ his flock ] among the lilies . , and behold king\n",
      "Solomon , With me from Lebanon . Yea , he cometh , Leaping upon the\n",
      "Shulammite , As the curtains of Solomon . 11 Go forth , O [ my ] bride\n",
      ": I sought him , but he gave me no answer . the juice of my beloved ,\n",
      "and to gather lilies . Let my beloved , That spoil the vineyards ; For\n",
      "my head , And to the mountain of myrrh , Upon the mountains of spices\n",
      ", [ As ]\n",
      "Book: Isaiah\n"
     ]
    },
    {
     "name": "stderr",
     "output_type": "stream",
     "text": [
      "Building ngram index...\n"
     ]
    },
    {
     "name": "stdout",
     "output_type": "stream",
     "text": [
      "loss , not believing that he was a Roman , and let her fall off . ,\n",
      "nor against Caesar , saying , May I say something unto thee Simon ,\n",
      "who was surnamed Peter , she opened not the land ; 44 and the\n",
      "strangers sojourning there spent their time in nothing else , but the\n",
      "stern began to speak the word of the Gentiles also hath God granted\n",
      "repentance unto life . and of the Jews , Felix came with Drusilla ,\n",
      "his wife , who proclaim unto you therefore , being Lord of heaven ,\n",
      "above the\n",
      "Book: Lamentations\n"
     ]
    },
    {
     "name": "stderr",
     "output_type": "stream",
     "text": [
      "Building ngram index...\n"
     ]
    },
    {
     "name": "stdout",
     "output_type": "stream",
     "text": [
      "in Zion , The virgins of Jerusalem , [ And ] forsake us so long time ?\n",
      ", let tears run down like a flaming fire , which is desolate : The\n",
      "Lord is become as a mark for the multitude of his lovingkindnesses .\n",
      "and my young men are fallen by the rod of his quiver to enter into my\n",
      "bones . 12 Is it nothing to you , all ye that pass by clap their hands\n",
      "at thee ; They were more ruddy in body than rubies , their polishing\n",
      "was as of sapphire . the field .\n",
      "Book: Ezekiel\n"
     ]
    },
    {
     "name": "stderr",
     "output_type": "stream",
     "text": [
      "Building ngram index...\n"
     ]
    },
    {
     "name": "stdout",
     "output_type": "stream",
     "text": [
      "of Eden , that they may walk in my hand against thee , [ for ]\n",
      "Jerusalem , to accomplish my wrath is upon my face , and thou shalt\n",
      "remove from thy place out of their multitude ; her rust [ goeth not\n",
      "forth ] by five hundred . , or can thy hands together , bone to its\n",
      "bone . both the shields and the arches thereof , and prophesy unto\n",
      "them , and the earth , who hast despised my holy things , nor with any\n",
      "of the temple , and deliver my sheep became a byword\n",
      "Book: Daniel\n"
     ]
    },
    {
     "name": "stderr",
     "output_type": "stream",
     "text": [
      "Building ngram index...\n"
     ]
    },
    {
     "name": "stdout",
     "output_type": "stream",
     "text": [
      "mouth , and have indignation against the God of Daniel ; for Jehovah\n",
      "our God , because of their kingdom , that hast brought thy people ;\n",
      "and they shall set his heart was lifted up mine eyes , and talked with\n",
      "me , Daniel , O Lord , hear ; O Lord our God , as at this day ; we\n",
      "have sinned against thee . , he shall even return , and said , Let my\n",
      "lord ? breath left in me . King Darius , and against our judges that\n",
      "judged us , and cometh to the\n",
      "Book: Hosea\n"
     ]
    },
    {
     "name": "stderr",
     "output_type": "stream",
     "text": [
      "Building ngram index...\n"
     ]
    },
    {
     "name": "stdout",
     "output_type": "stream",
     "text": [
      "lamb in a large place . , king of Israel return , and my drink . and\n",
      "return unto Jehovah ; and I have answered , and the new wine shall\n",
      "fail her . Beth-arbel in the days of Gibeah : he hath torn , and as\n",
      "the rain , as the bread of mourners ; all that eat thereof shall be\n",
      "put to shame because of their tongue : this shall be as the vine : the\n",
      "enemy shall pursue him . thereof . [ her ] friend , and I will also\n",
      "cause all her mirth to cease\n",
      "Book: Joel\n",
      "lovingkindness , and cry unto Jehovah your God , and cry unto Jehovah\n",
      ". , its forepart into the valley of Shittim . are made white . Hear\n",
      "this , ye beasts of the children of Zion , and barked my fig-tree : he\n",
      "hath made it clean bare , and there shall be a refuge unto his people\n",
      ". there is none else ; and that which the canker-worm , and utter his\n",
      "voice from Jerusalem ; and your daughters into the eastern sea , and\n",
      "cry unto Jehovah . among the nations ; prepare war ; and I\n",
      "Book: Amos\n"
     ]
    },
    {
     "name": "stderr",
     "output_type": "stream",
     "text": [
      "Building ngram index...\n",
      "Building ngram index...\n"
     ]
    },
    {
     "name": "stdout",
     "output_type": "stream",
     "text": [
      "nor a thirst for water , but of hearing the words of Jehovah , that\n",
      "the plowman shall overtake the reaper , and a dresser of sycomore-\n",
      "trees : 15 and Jehovah took me from following the flock , and not for\n",
      "good . , like as [ grain ] is sifted in a land that is unclean , and\n",
      "the treader of grapes him that soweth seed ; and I will bring\n",
      "sackcloth upon all loins , and the sabbath , that I will send a famine\n",
      "of bread , nor a thirst for water , but of hearing the\n",
      "Book: Jonah\n",
      "king and his nobles , saying , 2 Arise , go unto Nineveh , that it\n",
      "might be a shade over his head , to deliver him from his fierce anger\n",
      ", that we perish not ? , if so be that God prepared a gourd , for\n",
      "whose cause this evil is upon you . and put on sackcloth , and covered\n",
      "him with sackcloth , from the pit , O Jehovah my God . 11 Then said\n",
      "they unto him , and abundant in lovingkindness , and he was fleeing\n",
      "from the presence of Jehovah . thou art\n",
      "Book: Micah\n"
     ]
    },
    {
     "name": "stderr",
     "output_type": "stream",
     "text": [
      "Building ngram index...\n",
      "Building ngram index...\n"
     ]
    },
    {
     "name": "stdout",
     "output_type": "stream",
     "text": [
      "mount Zion from henceforth even for ever , because I have made thee\n",
      "desolate because of thee ; and I will pour down the stones thereof\n",
      "into the valley , and the mountain of Jehovah's house shall be night\n",
      "unto you , that pangs have taken hold of thee : and Jehovah at the\n",
      "head of them that devise iniquity and work evil upon their mouth . ,\n",
      "but not be satisfied ; and the cities of Egypt will I lay desolate ;\n",
      "for there is no cluster to eat ; my soul ? as of a forest . Hear\n",
      "Book: Nahum\n",
      "lions , and drunken as with their drink , they are consumed utterly as\n",
      "dry stubble . , fortify thy power mightily . are opened , and drunken\n",
      "as with the first-ripe figs : if they be shaken , they fall into the\n",
      "clay , and all that hear the report of thee , and filled his caves\n",
      "with prey , and the mantelet is prepared . ? their drink , they are\n",
      "consumed utterly as dry stubble . against thee , and the glittering\n",
      "spear , and all her great men were bound in chains . hast multiplied\n",
      "thy\n",
      "Book: Habakkuk\n"
     ]
    },
    {
     "name": "stderr",
     "output_type": "stream",
     "text": [
      "Building ngram index...\n",
      "Building ngram index...\n"
     ]
    },
    {
     "name": "stdout",
     "output_type": "stream",
     "text": [
      "land , to make dumb idols ? , even the teacher of lies , that bitter\n",
      "and hasty nation , that he may set his nest on high , that he may run\n",
      "that readeth it . and princes are a derision unto him ; but the\n",
      "righteous shall live by his faith . 11 The sun and moon stood still in\n",
      "their habitation , At the light of thine anointed ; Thou woundest the\n",
      "head out of the earth was full of his warriors : They came as a\n",
      "whirlwind to scatter me ; and their dignity proceed from\n",
      "Book: Malachi\n"
     ]
    },
    {
     "name": "stderr",
     "output_type": "stream",
     "text": [
      "Building ngram index...\n"
     ]
    },
    {
     "name": "stdout",
     "output_type": "stream",
     "text": [
      "lay it to heart . , profaning the covenant of our fathers ? and\n",
      "ordinances . 12 But ye are turned aside from mine ordinances , and the\n",
      "wicked , between him that he regardeth not the offering of Judah and\n",
      "Jerusalem be pleasant unto Jehovah offerings in righteousness .\n",
      "thought upon his name . My covenant was with him of life and peace ;\n",
      "and ye shall know that I make , saith Jehovah of hosts . had respect\n",
      "of persons in the law . , and a servant his master : if then I am a\n",
      "master ,\n",
      "Book: Matthew\n"
     ]
    },
    {
     "name": "stderr",
     "output_type": "stream",
     "text": [
      "Building ngram index...\n"
     ]
    },
    {
     "name": "stdout",
     "output_type": "stream",
     "text": [
      "judge , and charged them , shall be healed . , mending their nets ;\n",
      "and from him that knocketh it shall be more tolerable for the morrow :\n",
      "for there is nothing covered , that except your righteousness shall\n",
      "exceed [ the righteousness ] of Zebedee , and all manner of sickness .\n",
      "and ministered unto him , 6 And blessed is he that receiveth a prophet\n",
      "shall receive a righteous man 's foes [ shall be likened unto a\n",
      "foolish man , and despise the other side into the city of the house ,\n",
      "the son of David\n",
      "Book: John\n",
      "know God , how turn ye back again to every man that receiveth\n",
      "circumcision , that I might live unto God . , so also it is written ,\n",
      "Cursed is every one who continueth not in all things under sin , that\n",
      "they walked not uprightly according to promise . and one by the\n",
      "freewoman . 12 For before that certain came from James , he ate with\n",
      "the Gentiles might come the blessing of Abraham . this Hagar is mount\n",
      "Sinai in Arabia and answereth to the truth of the time came , we are\n",
      "not children of\n"
     ]
    },
    {
     "name": "stderr",
     "output_type": "stream",
     "text": [
      "Building ngram index...\n"
     ]
    },
    {
     "name": "stdout",
     "output_type": "stream",
     "text": [
      "Book: Mark\n"
     ]
    },
    {
     "name": "stderr",
     "output_type": "stream",
     "text": [
      "Building ngram index...\n"
     ]
    },
    {
     "name": "stdout",
     "output_type": "stream",
     "text": [
      "it , and becometh greater than all the multitude , hearing what great\n",
      "things he did , when they could not so much as eat bread . , he\n",
      "falleth at his teaching , 3 Hearken : Behold , the son of Mary , and\n",
      "glorified God , saying , Thy sins are forgiven . and not understand ;\n",
      "lest haply they should not make him known . 13 And he answereth them ,\n",
      "Know ye not yet faith ? they let down the bed , and walked ; for she\n",
      "was twelve years old . Zebedee , and entered\n",
      "Book: James\n",
      "it , until it receive the early and latter rain . , sensual , devilish\n",
      ". and one of you ] teachers , my beloved brethren ; did not God choose\n",
      "them that reaped have entered into the perfect law , thou art become a\n",
      "transgressor of the Lord , and themselves drag you before the\n",
      "judgment-seats ? 12 Can a fig tree , my brethren , these things ought\n",
      "not so to be . they are so great and are driven by rough winds , are\n",
      "yet turned about by a very small rudder , whither the impulse of\n"
     ]
    },
    {
     "name": "stderr",
     "output_type": "stream",
     "text": [
      "Building ngram index...\n"
     ]
    },
    {
     "name": "stdout",
     "output_type": "stream",
     "text": [
      "Book: Luke\n"
     ]
    },
    {
     "name": "stderr",
     "output_type": "stream",
     "text": [
      "Building ngram index...\n"
     ]
    },
    {
     "name": "stdout",
     "output_type": "stream",
     "text": [
      "life , or look we for another ? , saying , His name is John . and\n",
      "remained dumb . And his father David : 33 and he cried out with a\n",
      "great multitude of his servant David 70 ( As he spake also a parable\n",
      "unto them . things shall come upon thee , and were washing their nets\n",
      "were breaking ; 7 and they were all filled with good things ; And the\n",
      "angel Gabriel was sent from God shall be filled with good things ; 29\n",
      "and they sought to touch him ; 34 and Simeon blessed\n",
      "Book: Acts\n"
     ]
    },
    {
     "name": "stderr",
     "output_type": "stream",
     "text": [
      "Building ngram index...\n"
     ]
    },
    {
     "name": "stdout",
     "output_type": "stream",
     "text": [
      "men , but thrust him from them , and John , and Jesus standing on the\n",
      "earth beneath ; Blood , and fire , and exhorted them , that none of\n",
      "them of Cilicia and Asia , disputing with Stephen . , like as of the\n",
      "prophets , and Jacob the twelve patriarchs . and of them . But of the\n",
      "] people after him , and shall change the customs which Moses\n",
      "delivered unto us . thousand . a hundred and twenty ) , 16 Brethren ,\n",
      "I know that in their turn , brought in with Joshua when\n",
      "Book: Romans\n"
     ]
    },
    {
     "name": "stderr",
     "output_type": "stream",
     "text": [
      "Building ngram index...\n"
     ]
    },
    {
     "name": "stdout",
     "output_type": "stream",
     "text": [
      "maketh intercession for [ us ] with groanings which can not please God\n",
      ". , saith the Lord Jesus Christ . are not under law , 19 and art\n",
      "confident that thou thyself art a transgressor of the sea , it hath\n",
      "been their good pleasure of Macedonia and Achaia to make him stand .\n",
      "And if Christ is in Christ . think as to think ; but the spirit , and\n",
      "gloriest in the Lord shall be the root , but obey unrighteousness , [\n",
      "that ] in the fulness of the Lord . [ is ] not by\n",
      "Book: 1 Corinthians\n"
     ]
    },
    {
     "name": "stderr",
     "output_type": "stream",
     "text": [
      "Building ngram index...\n"
     ]
    },
    {
     "name": "stdout",
     "output_type": "stream",
     "text": [
      "law , as men doomed to death : for I expect him with the temptation\n",
      "make also the wife , whether thou shalt save thy husband ? , or a\n",
      "drunkard , or in love . and of the Lord , I am : and greater is he\n",
      "that is unmarried and the things that are Christ 's sake , but ye are\n",
      "mad ? 12 But as touching Apollos the brother for whose sake Christ\n",
      "died for our sins according to the scriptures ; 4 and that ye are God\n",
      "'s building . thinketh himself to be as though\n",
      "Book: 2 Corinthians\n"
     ]
    },
    {
     "name": "stderr",
     "output_type": "stream",
     "text": [
      "Building ngram index...\n"
     ]
    },
    {
     "name": "stdout",
     "output_type": "stream",
     "text": [
      "me , but are helpers of your ability . , that I might present you [ as\n",
      "] a new creature : the old covenant the same mind ; live in peace :\n",
      "and where the Spirit . as of sincerity , but [ speak ] as giving you\n",
      "occasion of glorying on your behalf to them ] . God ; 13 seeing that\n",
      "through the comfort . to me a thorn in the ministering to the Lord ,\n",
      "the veil is taken away . a man ] hath not . have been commended of you\n",
      ": for I shall\n",
      "Book: Galatians\n",
      "my countrymen , being more exceedingly zealous for the traditions of\n",
      "my fathers . , or an angel from heaven , should preach unto you any\n",
      "gospel other than that which ye received , let him be anathema . any\n",
      "man preacheth unto you , and God the Father , who raised him from the\n",
      "dead ) , 2 and all the brethren that are with me , unto the\n",
      "apostleship of the gospel which I preach among the Gentiles ) ; 9 and\n",
      "when they perceived the grace of Christ unto a different gospel ; 7\n",
      "which is not\n",
      "Book: Ephesians\n"
     ]
    },
    {
     "name": "stderr",
     "output_type": "stream",
     "text": [
      "Building ngram index...\n",
      "Building ngram index...\n"
     ]
    },
    {
     "name": "stdout",
     "output_type": "stream",
     "text": [
      "no corrupt speech proceed out of your calling ; 5 one Lord , and shall\n",
      "cleave to his wife ; and that not of yourselves , [ I say therefore ,\n",
      "the gospel of peace ; 16 redeeming the time , because of the Spirit ,\n",
      "and forbear threatening : knowing that he would grant you , which God\n",
      "afore prepared that we should walk in love , 18 being darkened in\n",
      "their understanding , alienated from the commonwealth of Israel , and\n",
      "through all , who is an earnest of our inheritance , unto the work of\n",
      "ministering ,\n",
      "Book: Philippians\n",
      "make full my joy and crown , so soon as I shall abide , yea , and\n",
      "rejoice with me of grace . , that I may hear of your salvation , and\n",
      "if there be any praise , think on these things do : and the power of\n",
      "his glory , according to his riches in glory in Christ throughout the\n",
      "whole praetorian guard , and now tell you even weeping , [ so ] now\n",
      "also Christ shall be with your spirit . as lights in the Lord , being\n",
      "confident of this very thing , that now\n",
      "Book: Colossians\n"
     ]
    },
    {
     "name": "stderr",
     "output_type": "stream",
     "text": [
      "Building ngram index...\n",
      "Building ngram index...\n"
     ]
    },
    {
     "name": "stdout",
     "output_type": "stream",
     "text": [
      "my ] fellow-workers unto the kingdom of God . , so also do ye subject\n",
      "yourselves to ordinances , 21 Handle not , nor taste , nor taste , nor\n",
      "taste , nor touch 22 ( all which things are to perish with the using )\n",
      ", after the rudiments of the body is Christ 's . blemish and\n",
      "unreproveable before him : 11 in whom we proclaim , admonishing every\n",
      "man and teaching every man and teaching every man and teaching every\n",
      "man in all wisdom , that is being renewed unto knowledge after the\n",
      "rudiments of the things\n",
      "Book: 1 Thessalonians\n",
      "might have claimed authority as apostles of Christ , 10 and to comfort\n",
      "[ you ] , how holily and righteously and unblameably we behaved\n",
      "ourselves toward you that believe in Macedonia and in Achaia . ,\n",
      "rejecteth not man , but also in power , and toward all the brethren .\n",
      "as travail upon a woman with child ; and how ye turned unto God from\n",
      "idols , to meet the Lord , that , when ye received from us the word in\n",
      "much affliction , with joy of the day : we are of the archangel , and\n",
      "Book: 2 Thessalonians\n",
      "not , that the word of the Lord Jesus : 9 who shall establish you , If\n",
      "any will not work , and Timothy , unto the church of the truth : 14\n",
      "whereunto he called you through our gospel , to the end that he may be\n",
      "glorified in his own season . , that our God may count you worthy of\n",
      "the Lord may run and be glorified in you , I told you these things ?\n",
      "belief of the Lord Jesus : 9 not because we have not faith . Lord\n",
      "Jesus Christ . unto salvation in\n",
      "Book: 1 Timothy\n"
     ]
    },
    {
     "name": "stderr",
     "output_type": "stream",
     "text": [
      "Building ngram index...\n",
      "Building ngram index...\n",
      "Building ngram index...\n"
     ]
    },
    {
     "name": "stdout",
     "output_type": "stream",
     "text": [
      "life , in faith and love which is falsely so called ; 21 which some\n",
      "professing have erred concerning the faith : 20 of whom I am chief :\n",
      "16 howbeit for this is acceptable in the sight of God is good , and\n",
      "Lord of lords ; 16 who only hath immortality , dwelling in light\n",
      "unapproachable ; whom no man despise thy youth ; but be thou an\n",
      "ensample to them ; that thy progress may be in quietness . , orderly ,\n",
      "given to much wine , not given to much wine , not contentious , no\n",
      "Book: 2 Timothy\n",
      "joy ; 5 having been taken captive by him unto his will . , no lovers\n",
      "of pleasure rather than lovers of money , boastful , haughty , railers\n",
      ", disobedient to parents , unthankful , unholy , 3 without natural\n",
      "affection , implacable , slanderers , without self-control , fierce ,\n",
      "no lovers of self , lovers of God may give them repentance unto the\n",
      "knowledge of the Lord grant unto him to find mercy of the Lord 's\n",
      "servant must not strive , but according to the subverting of them that\n",
      "oppose themselves ; if peradventure God may\n",
      "Book: Titus\n"
     ]
    },
    {
     "name": "stderr",
     "output_type": "stream",
     "text": [
      "Building ngram index...\n",
      "Building ngram index...\n",
      "Building ngram index...\n",
      "Building ngram index...\n"
     ]
    },
    {
     "name": "stdout",
     "output_type": "stream",
     "text": [
      "masters , [ and ] to be ] sober-minded , chaste , workers at home ,\n",
      "kind , being abominable , and disobedient , deceived , serving divers\n",
      "lusts and pleasures , living in malice and envy , hateful , hating one\n",
      "another . , sober-minded , just , holy , self-controlled ; 9 holding\n",
      "to the intent that , denying ungodliness and worldly lusts , we should\n",
      "live soberly and righteously and godly in this present world ; 13\n",
      "looking for the blessed hope and appearing of the great God and our\n",
      "Saviour ; 4 that they who have\n",
      "Book: Philemon\n",
      "making mention of thee in the knowledge of every good thing which is\n",
      "befitting , 9 yet for love 's sake I rather beseech , being such a one\n",
      "as Paul the aged , and to the church in thy love , and now a prisoner\n",
      "also of Christ Jesus , and now a prisoner of Christ Jesus , and toward\n",
      "all the saints have been refreshed through thee , both in the Lord\n",
      "Jesus Christ be with your spirit . , my fellow-prisoner in Christ to\n",
      "enjoin thee that thou shouldest have him for ever ; 16 no longer\n",
      "Book: Hebrews\n",
      "much also hath Jesus become the surety of a better covenant . ,\n",
      "offered up himself . brethren , that apart from shedding of blood\n",
      "there is no remission . Jesus Christ ; to whom [ be ] any man that\n",
      "hath been said before ) , wandering in deserts and mountains and caves\n",
      ", and all the saints , and through whom are all things subjected to\n",
      "him . things in the wilderness , 9 then hath he been manifested to put\n",
      "away sin by the word of the heavenly Jerusalem , and the\n",
      "sanctification without which no man\n",
      "Book: 1 Peter\n",
      "mighty hand of God of great price . , seeking whom he may exalt you in\n",
      "due time ; 7 casting all your anxiety upon him , because he careth for\n",
      "you , exercising the oversight , not with [ your wives ] according to\n",
      "your own husbands ; that at the revelation of Jesus Christ ; 14 or\n",
      "unto governors , as of a lamb without spot , [ speaking ] as a\n",
      "Christian , let him glorify God in the day of visitation . be\n",
      "multiplied . God ; 11 if any man ministereth , [ even ]\n",
      "Book: 2 Peter\n"
     ]
    },
    {
     "name": "stderr",
     "output_type": "stream",
     "text": [
      "Building ngram index...\n",
      "Building ngram index...\n"
     ]
    },
    {
     "name": "stdout",
     "output_type": "stream",
     "text": [
      "of Balaam the [ son ] of Beor , who loved the hire of wrong-doing ; 16\n",
      "but he was rebuked for his own vomit again , and the elements shall\n",
      "melt with fervent heat ? , that in the mire . called us by his own\n",
      "glory and virtue ; and in [ your ] self-control patience ; and in [\n",
      "all ] holy living and godliness , 12 looking for and earnestly\n",
      "desiring the coming of our God and of Jesus Christ : 2 Grace to you\n",
      "and peace be multiplied in the day-time , spots and blemishes\n",
      "Book: 1 John\n",
      "is a liar , and the word of God , and our fellowship is with the\n",
      "Father also . , let no man lead you astray . are of the Son . And this\n",
      "commandment have we from him , and the Son of God is love , not that\n",
      "any one teach you ; because the darkness , and the life . this is the\n",
      "truth , and slew his brother 's righteous . ] little children , guard\n",
      "yourselves from idols . he hath not seen him , neither he that\n",
      "overcometh the world , neither with the\n",
      "Book: 2 John\n"
     ]
    },
    {
     "name": "stderr",
     "output_type": "stream",
     "text": [
      "Building ngram index...\n",
      "Building ngram index...\n",
      "Building ngram index...\n",
      "Building ngram index...\n"
     ]
    },
    {
     "name": "stdout",
     "output_type": "stream",
     "text": [
      "it . , receive him not into [ your ] house , and to speak face to face\n",
      ", that we love one another . and it shall be with us , and bringeth\n",
      "not this teaching , receive him not into [ your ] house , and bringeth\n",
      "not this teaching , receive him not into [ your ] house , and it shall\n",
      "be with us for ever : 3 Grace , mercy , peace shall be with us , from\n",
      "God the Father , and bringeth not this teaching , receive him not into\n",
      "[ your ]\n",
      "Book: 3 John\n",
      "none than this , to hear of my children walking in the truth . , that\n",
      "we may be fellow-workers for the sake of the truth . and pen : 14 but\n",
      "I am unwilling to write unto thee , and we shall speak face to face .\n",
      "11 Beloved , I pray that in all things thou mayest prosper and be in\n",
      "health , even as thy soul prospereth . truth . The elder unto Gaius\n",
      "the beloved , whom I love in truth . hath not seen God . . doth he\n",
      "himself receive the brethren , and\n",
      "Book: Jude\n",
      "most holy faith , praying in the Holy Spirit , 21 keep yourselves in\n",
      "the gainsaying of Korah . , prophesied , saying , Behold , the Lord ,\n",
      "[ even ] they who are in doubt ; 23 and some save , snatching them out\n",
      "of the sea , foaming out their own ungodly lusts . are murmurers ,\n",
      "complainers , walking after their lusts ( and their mouth speaketh\n",
      "great swelling [ words ] ) , showing respect of persons for the mercy\n",
      "of our God into lasciviousness , and the cities about them , having in\n",
      "like\n",
      "Book: Revelation\n"
     ]
    },
    {
     "name": "stderr",
     "output_type": "stream",
     "text": [
      "Building ngram index...\n"
     ]
    },
    {
     "name": "stdout",
     "output_type": "stream",
     "text": [
      "nation , 10 and they shall send gifts one to another ; because these\n",
      "two prophets tormented them that beheld them . , lest he walk naked ,\n",
      "and reap : for the time is at hand . be killed even as she rendered ,\n",
      "and devoured them . I saw , and an earthquake , and his name ,\n",
      "standing before the throne , saying , Amen . they overcame him because\n",
      "of the pit of the abyss . and none shall shut , and [ merchandise ] of\n",
      "every unclean and hateful bird . heaven , he persecuted\n"
     ]
    }
   ],
   "source": [
    "#ASV\n",
    "\n",
    "#This function tokenizes and then runs NLTK's generate on each book of the Bible. \n",
    "# Function to tokenize a given text\n",
    "def tokenize_text(text):\n",
    "    return nltk.tokenize.word_tokenize(text)\n",
    "\n",
    "# Function to generate text based on tokenized input\n",
    "def generate_text(tokens):\n",
    "    nltk.Text(tokens).generate()\n",
    "\n",
    "# Assuming you have a dictionary 'bible_books' where each key is a book of the Bible and the value is the text of that book\n",
    "# You can tokenize each book separately and generate text\n",
    "for book, text in Split_ASV.items():\n",
    "    tokens = tokenize_text(text)\n",
    "    print(f\"Book: {book}\")\n",
    "    generate_text(tokens)"
   ]
  },
  {
   "cell_type": "code",
   "execution_count": 10,
   "id": "1e86641d-3515-428f-91a1-ee2cba433dcf",
   "metadata": {},
   "outputs": [
    {
     "name": "stdout",
     "output_type": "stream",
     "text": [
      "Book: Genesis\n"
     ]
    },
    {
     "name": "stderr",
     "output_type": "stream",
     "text": [
      "Building ngram index...\n"
     ]
    },
    {
     "name": "stdout",
     "output_type": "stream",
     "text": [
      "him , `` Get up , passed over in front of him . , he and his sons and\n",
      "daughters . Shinar , and became the father of Abram 's wife was Sarai\n",
      ", Abram 's wife , that the daughters of Canaan they came in with him ,\n",
      "a virgin , neither do anything until you return to you . 13 In the\n",
      "beginning , between Bethel and Ai on the surface of all the more .\n",
      "them . Eve , because he had done . daughters , or else by the waters .\n",
      ", and Togarmah . arise\n",
      "Book: Hebrews\n"
     ]
    },
    {
     "name": "stderr",
     "output_type": "stream",
     "text": [
      "Building ngram index...\n"
     ]
    },
    {
     "name": "stdout",
     "output_type": "stream",
     "text": [
      "many , will appear a second time , `` As I swore in my wrath , 'They\n",
      "will not change his mind , 'You are a priest at all , when he had\n",
      "testimony given to them ; but the word of God , 22 let 's draw near to\n",
      "God , and to the law , nearly everything is cleansed with these ; but\n",
      "you are also in another place , `` If even an animal touches the\n",
      "mountain . '' , not after the order of Melchizedek . ' before the eyes\n",
      "of him , `` A new\n",
      "Book: Exodus\n",
      "him , and every daughter you shall come , you and the God of the hand\n",
      "of the other Puah , 16 and he sat down by a well . , in mortar and in\n",
      "brick , and God remembered his covenant with Abraham , of whom the\n",
      "name of the children of Israel has come to me , saying , `` Why have\n",
      "you done this thing is known . '' She opened it , and God remembered\n",
      "his covenant with Abraham , the God of Isaac , and said , `` Because\n",
      "the Hebrew women are n't like\n"
     ]
    },
    {
     "name": "stderr",
     "output_type": "stream",
     "text": [
      "Building ngram index...\n"
     ]
    },
    {
     "name": "stdout",
     "output_type": "stream",
     "text": [
      "Book: Leviticus\n"
     ]
    },
    {
     "name": "stderr",
     "output_type": "stream",
     "text": [
      "Building ngram index...\n"
     ]
    },
    {
     "name": "stdout",
     "output_type": "stream",
     "text": [
      "my Sabbaths , and the priest shall burn on it , and after he has shown\n",
      "himself to the Tent of Meeting , and with its filth , and say to them\n",
      ", who has had no husband ; for the Holy Place , and do n't die : for\n",
      "he is clean may eat of it in a holy thing of skin ; it shall be a holy\n",
      "convocation . , or an itching disease , or in anything of skin ; he\n",
      "shall kill one of these abominations , even he who has damaged\n",
      "testicles ; 21 but\n",
      "Book: Numbers\n"
     ]
    },
    {
     "name": "stderr",
     "output_type": "stream",
     "text": [
      "Building ngram index...\n"
     ]
    },
    {
     "name": "stdout",
     "output_type": "stream",
     "text": [
      "not . '' , over and above the surface of the Ardites ; of Shuni , the\n",
      "family of the second month , on the south side shall be free , and we\n",
      "will go up by the tabernacle before they arrived . and said to Balak ,\n",
      "`` Behold , I have worked among them . Canaan , 11 `` 'In the\n",
      "beginnings of your months , you and your sons . then it shall go down\n",
      "from there the Amalekite and the prince of the tribe of their slain :\n",
      "Evi , and lay incense on them !\n",
      "Book: Deuteronomy\n"
     ]
    },
    {
     "name": "stderr",
     "output_type": "stream",
     "text": [
      "Building ngram index...\n"
     ]
    },
    {
     "name": "stdout",
     "output_type": "stream",
     "text": [
      "of Caphtor , destroyed them from the day that God created man on the\n",
      "hills , and the seagull , and the firstborn : 17 but he shall see it\n",
      "no more go out and come up to the other end of every seven years , in\n",
      "the midst of the cities of these nations from before you , and your\n",
      "mother , or to the elders , and he deal with them ; for he who lies\n",
      "with any kind of loan , you and your kneading trough shall be iron . ,\n",
      "or an enchanter , or if\n",
      "Book: Joshua\n",
      "of Armies , `` Behold , the high priest ; 12 and speak to him , saying\n",
      ", 'Thus says Yahweh of Armies , `` Behold , the man whose name is the\n",
      "Branch : and he shall grow up out of his place ; and he shall build\n",
      "the temple of Yahweh your God . '' , if you will diligently obey the\n",
      "voice of Yahweh ; and he shall build the temple of Yahweh . and speak\n",
      "to him , saying , 'Thus says Yahweh of Armies , `` Behold , the man\n",
      "whose name is the Branch\n",
      "Book: Judges\n",
      "land . , obeying the commandments of Yahweh came up from Gilgal to\n",
      "Bochim . and of Beth Anath ; but he lived among the Canaanites who\n",
      "lived in Hebron ( now the name of Debir . Benjamin did not drive out [\n",
      "the inhabitants of ] Beth Shean and its towns , nor the inhabitants of\n",
      "] the hill country of Ephraim , on the north of the mountain of Gaash\n",
      ". they played the prostitute after other gods to serve them , who\n",
      "saved them out of the valley , because they had chariots of iron . The\n",
      "Book: Micah\n"
     ]
    },
    {
     "name": "stderr",
     "output_type": "stream",
     "text": [
      "Building ngram index...\n",
      "Building ngram index...\n",
      "Building ngram index...\n"
     ]
    },
    {
     "name": "stdout",
     "output_type": "stream",
     "text": [
      "justly , to declare to Jacob his disobedience , and executes judgment\n",
      "for me , my enemy will see and be ashamed of all their might . , in\n",
      "nakedness and shame will cover her shame . about these things . '' 11\n",
      "I will arise . to it . Judah , out of the hire of a forest , in the\n",
      "majesty of the vineyard : There is no one to deliver . for blood ;\n",
      "every man hunts his brother with a bag of deceitful weights ? .\n",
      "confounded . 14 You shall eat , but wo n't\n",
      "Book: Ruth\n",
      "heavens said , `` Joseph , the devil left him , `` Again , the husband\n",
      "of Mary , from whom was born Jesus , for Herod will seek the young\n",
      "child and his mother , and not willing to make her a public example ,\n",
      "intended to put her away secretly . , if you will fall down and\n",
      "worship him . Sadducees coming for his baptism , he asked them where\n",
      "the young child and his mother , and not willing to make her a public\n",
      "example , intended to put her away secretly . 10 Then Jesus\n",
      "Book: 1 Samuel\n"
     ]
    },
    {
     "name": "stderr",
     "output_type": "stream",
     "text": [
      "Building ngram index...\n",
      "Building ngram index...\n"
     ]
    },
    {
     "name": "stdout",
     "output_type": "stream",
     "text": [
      "is , and came to the wilderness , and God has departed from me , nor\n",
      "anything that they could not follow David , whom also they had taken\n",
      "out of the earth away from their masters these days . , like the feast\n",
      "of a cake of figs , and to those who were in the rear with Achish at\n",
      "Gath , saying , `` Go on before me . all the while he has cut off his\n",
      "armor bearer would not ; for they have driven me out of Nabal , that I\n",
      "should put forth my hand\n",
      "Book: 2 Samuel\n"
     ]
    },
    {
     "name": "stderr",
     "output_type": "stream",
     "text": [
      "Building ngram index...\n"
     ]
    },
    {
     "name": "stdout",
     "output_type": "stream",
     "text": [
      "in Baal Hazor , which is left , and I have no delight in you ; '\n",
      "behold , Hushai the Archite also , if he be gone into a troop . , he\n",
      "came to the place where he knew that valiant men were on the ground\n",
      "before the king 's servants came to meet the king , 20 it shall be\n",
      "established forever . '' ] his sword in his apparel of war , so your\n",
      "shall servant do . '' 13 He said , `` Behold , they came to David in\n",
      "Hebron . there in the\n",
      "Book: 1 Kings\n"
     ]
    },
    {
     "name": "stderr",
     "output_type": "stream",
     "text": [
      "Building ngram index...\n"
     ]
    },
    {
     "name": "stdout",
     "output_type": "stream",
     "text": [
      "king 's house , that the word of Yahweh , and of Israel , that is\n",
      "before the one , even the elders and to drink . '' , is rising out of\n",
      "the house of Arza , who was over the household . and on the earth ,\n",
      "and ate and drank , and taken Gezer , and has also struck the horses\n",
      "and chariots : and his wives turned away his heart , and eighty\n",
      "thousand who were left . After the earthquake . they have made this\n",
      "house holy , which Hiram made an end of building\n",
      "Book: 2 Kings\n"
     ]
    },
    {
     "name": "stderr",
     "output_type": "stream",
     "text": [
      "Building ngram index...\n"
     ]
    },
    {
     "name": "stdout",
     "output_type": "stream",
     "text": [
      "journey . , from Aroer , which they made a circuit of seven days '\n",
      "journey . a man of God , and behold , an army with horses ; and the\n",
      "commandment , which is by Ibleam . 12 He arose , and behold , they are\n",
      "written in the portion of your mother . '' them . Naaman my servant to\n",
      "you , 'Do n't go ? ' from Gilgal . , and be clean ? ' carried away\n",
      "from Jerusalem . 16 Then Menahem struck Tiphsah , and struck it ; and\n",
      "he will deliver you out\n",
      "Book: Zechariah\n"
     ]
    },
    {
     "name": "stderr",
     "output_type": "stream",
     "text": [
      "Building ngram index...\n",
      "Building ngram index...\n"
     ]
    },
    {
     "name": "stdout",
     "output_type": "stream",
     "text": [
      "longer be a blessing . , give me my wages thirty pieces of silver ,\n",
      "and turned their backs , and turned their backs , and rejoice . and\n",
      "silver , and from the River to the potter , the handsome price that I\n",
      "had not cast them off : for I have set free your prisoners from the\n",
      "city . Armies : `` I am Yahweh their God , like the jewels of a\n",
      "foolish shepherd . they shall mourn for him , as you were a curse\n",
      "among the nations which they have told false dreams . Yahweh\n",
      "Book: Jeremiah\n",
      "now the Chaldeans , who were with him in Babylon , came Nebuzaradan\n",
      "the captain of the land of Hamath ; and he burned the house of Yahweh\n",
      "did it happen in Jerusalem and Judah , until he had cast them out from\n",
      "his presence . , in silver , in the land ; and its thickness was four\n",
      "fingers : it was hollow . bread for the house of Yahweh , according to\n",
      "all that Jehoiakim had done . Nebuzaradan the captain of the Chaldeans\n",
      "break in pieces , and the basins , and carried him up to the\n",
      "Book: 1 Chronicles\n"
     ]
    },
    {
     "name": "stderr",
     "output_type": "stream",
     "text": [
      "Building ngram index...\n"
     ]
    },
    {
     "name": "stdout",
     "output_type": "stream",
     "text": [
      "at Beersheba , and Tappuah , and Asshur , and Epher , and Eliashib ,\n",
      "and Epher , and Abimael , and Husham of the Zorathites . , and\n",
      "Casluhim ( where the Philistines came from ) , and Molid . Hadad died\n",
      ". the father of Tekoa . Ahimaaz , 9 and eastward he lived even to Nebo\n",
      "and Baal Hanan the son of Jephunneh : Iru , Elah , and Sheba , and\n",
      "Tochen , and the Arkite , and Jada . Yahweh , after that the ark had\n",
      "rest . , and Benaiah , 37 and Zabad\n",
      "Book: Zephaniah\n",
      "is a day of distress and anguish , a day of Yahweh 's anger comes on\n",
      "you . , so that no one will make an end , of all those who have kept\n",
      "his ordinances . a desolation . 12 It will happen at that time will I\n",
      "gather you ; for I will search Jerusalem with lamps , and against the\n",
      "people of Canaan are undone ! then I will sweep away man and animal .\n",
      "I will punish the princes , the oppressing city ! dregs , who fill\n",
      "their master 's house with violence and deceit\n",
      "Book: Joel\n"
     ]
    },
    {
     "name": "stderr",
     "output_type": "stream",
     "text": [
      "Building ngram index...\n",
      "Building ngram index...\n"
     ]
    },
    {
     "name": "stdout",
     "output_type": "stream",
     "text": [
      "his army ; for the pastures of the field . , in the midst of Israel ,\n",
      "and Jerusalem , 2 I will send you grain , new wine , that the swarming\n",
      "locust has left , the animals of the field pant to you the years that\n",
      "the mountains do they run . `` Prepare for war ! 13 Put in the earth :\n",
      "blood , before the great locust has eaten . their children , another\n",
      "generation . I will pour out my Spirit . dream dreams . , and among\n",
      "the nations . be afraid . 16\n",
      "Book: 2 Chronicles\n"
     ]
    },
    {
     "name": "stderr",
     "output_type": "stream",
     "text": [
      "Building ngram index...\n"
     ]
    },
    {
     "name": "stdout",
     "output_type": "stream",
     "text": [
      "made . , of Huram ; once every three years ; for his pleasure in\n",
      "Jerusalem , and to the house , the beams , the city of David , [ to be\n",
      "chief , [ and of the seventh month . and precious stones . Huram made\n",
      "an altar of Yahweh , `` For his loving kindness endures forever ! ''\n",
      "this house ? ' against his lord . have built the house which I have\n",
      "built you a house for his loving kindness endures for ever . '' , and\n",
      "all the land , and the Tent of\n",
      "Book: Obadiah\n",
      "in Mount Zion , there will be Yahweh 's . , swallow down , and though\n",
      "your nest is set among the nations drink continually . Zarephath ; and\n",
      "the captives of Jerusalem , even you were like one of them . 13 Do n't\n",
      "enter into the gate of my people in the day of their calamity ,\n",
      "neither seize their wealth on the other side , in the day that you\n",
      "stood on the other side , in the day of their calamity . they had not\n",
      "been . I in that day , '' Arise , and\n",
      "Book: Ezra\n"
     ]
    },
    {
     "name": "stderr",
     "output_type": "stream",
     "text": [
      "Building ngram index...\n",
      "Building ngram index...\n"
     ]
    },
    {
     "name": "stdout",
     "output_type": "stream",
     "text": [
      "men , that the people of the Jews build this house of God , trembling\n",
      "because of the province , who took a wife of the Levites , the\n",
      "children of Senaah , three hundred sixty males . , seven hundred\n",
      "seventy-five . and of the captivity , and Joel , Benaiah . Cyrus king\n",
      "of Israel , and brought again to the God of Israel ; and he was\n",
      "entreated of us . them before the king , do that after the order of\n",
      "David king of Persia . The children of Harim : Eliezer , and Beeroth ,\n",
      "Book: Nehemiah\n"
     ]
    },
    {
     "name": "stderr",
     "output_type": "stream",
     "text": [
      "Building ngram index...\n"
     ]
    },
    {
     "name": "stdout",
     "output_type": "stream",
     "text": [
      "men , besides forty shekels of silver , and Hananiah the son of\n",
      "Berechiah as wife . , on his left hand , 6 Daniel , Ginnethon , Baruch\n",
      ", 7 Meshullam , Hezir , 21 Meshezabel , Zadok , Jaddua , 22 Pelatiah ,\n",
      "Hanan , the children of Jaala , the children of Neziah , the priests\n",
      "who minister in the courts of the army of Samaria , and worshiped\n",
      "Yahweh their God a fourth part of the law , and Shema , and their bows\n",
      ". and our vineyards , and God had brought their counsel to\n",
      "Book: Esther\n",
      "month , when the king , let it be granted to the Jews , nor the memory\n",
      "of them had fallen on them . , let it be written to reverse the\n",
      "letters devised by Haman , the daughter of Abihail , and accepted by\n",
      "the multitude of his people , and a good day , the enemy of all the\n",
      "words of peace and truth , 31 to confirm these days should be ready\n",
      "for that day to avenge themselves on their enemies . be hanged on the\n",
      "fourteenth and fifteenth days of feasting and gladness . Jew ,\n",
      "Book: Job\n",
      "in the name of the assembly , and let them pray over him , anointing\n",
      "him with oil in the outcome , and he prayed earnestly that it might\n",
      "not rain , and will cover a multitude of sins . , do n't fall into\n",
      "hypocrisy . and someone turns him back , 20 let him know that he who\n",
      "turns a sinner from the truth , and he prayed earnestly that it might\n",
      "not rain , and how the Lord is full of compassion and mercy . 13 Is\n",
      "any among you sick ? the earth brought forth its\n",
      "Book: Psalm\n"
     ]
    },
    {
     "name": "stderr",
     "output_type": "stream",
     "text": [
      "Building ngram index...\n",
      "Building ngram index...\n",
      "Building ngram index...\n"
     ]
    },
    {
     "name": "stdout",
     "output_type": "stream",
     "text": [
      "and dancing ! ! Praise Yah ! praise Yah ! Praise him with resounding\n",
      "cymbals ! Praise Yah ! ! Praise him with loud cymbals ! with harp and\n",
      "lyre ! acts of power ! stringed instruments and flute ! 1 Praise Yah !\n",
      "with stringed instruments and flute ! ! Psalm 150 1 Praise Yah ! Let\n",
      "everything that has breath praise Yah ! that has breath praise Yah !\n",
      "Praise him according to his excellent greatness ! Praise him according\n",
      "to his excellent greatness ! Praise him with stringed instruments and\n",
      "flute ! ! ! him with tambourine\n",
      "Book: Proverbs\n"
     ]
    },
    {
     "name": "stderr",
     "output_type": "stream",
     "text": [
      "Building ngram index...\n"
     ]
    },
    {
     "name": "stdout",
     "output_type": "stream",
     "text": [
      "instruction , and do n't lean on your lips . , it bites like a storm ,\n",
      "when he is hungry : 31 but if he steals to satisfy himself when he\n",
      "marked out the mocker , and an ornament of fine gold . a man whose\n",
      "spirit is one who binds a stone in the heart of the poor , yet it is a\n",
      "deep sleep . 13 He who becomes the father of the city is exalted , but\n",
      "envy rots the bones . them . Do n't give your strength is small .\n",
      "flowing brook . .\n",
      "Book: Ecclesiastes\n"
     ]
    },
    {
     "name": "stderr",
     "output_type": "stream",
     "text": [
      "Building ngram index...\n"
     ]
    },
    {
     "name": "stdout",
     "output_type": "stream",
     "text": [
      "know and to drink , and to do ; and do n't all go to the end of the\n",
      "Preacher ; `` Vanity of vanities , '' says the Preacher ; `` Vanity of\n",
      "vanities , as he who regards the clouds are full of evil , and that\n",
      "which is crooked ca n't find out acceptable words , and your princes\n",
      "eat in the sight of the hands the house shall tremble , and in your\n",
      "spirit to be good and proper is for all things . , nor device , nor\n",
      "yet favor to men of skill ;\n",
      "Book: Song of Solomon\n"
     ]
    },
    {
     "name": "stderr",
     "output_type": "stream",
     "text": [
      "Building ngram index...\n"
     ]
    },
    {
     "name": "stdout",
     "output_type": "stream",
     "text": [
      "her , and come away . , so is my love . It is the favorite one of her\n",
      "who bore her . 12 Let 's go early up to the banquet hall . the lilies\n",
      ". Beloved 16 Behold , he is altogether lovely . cheeks are like a\n",
      "round goblet , no mixed wine is wanting . , its blossom is open , and\n",
      "the concubines , and see king Solomon , with every kind of incense\n",
      "tree ; myrrh and frankincense , with the crown with which his mother\n",
      "has crowned him , but he did n't\n",
      "Book: Isaiah\n"
     ]
    },
    {
     "name": "stderr",
     "output_type": "stream",
     "text": [
      "Building ngram index...\n"
     ]
    },
    {
     "name": "stdout",
     "output_type": "stream",
     "text": [
      "him , `` Cornelius , having made inquiry for Simon 's house , and said\n",
      ", `` Put on your sandals . '' , how God anointed him with the assembly\n",
      ", and got close to the disciples , hearing the sound , but they were\n",
      "past the first and the brothers who were in Judea heard that the Lord\n",
      "stood by him weeping , and glorified God , and they turned to the\n",
      "children of Israel . When it happened that Peter entered , Cornelius\n",
      "by name , a man of Tarsus . 14 Here he has authority from\n",
      "Book: Lamentations\n"
     ]
    },
    {
     "name": "stderr",
     "output_type": "stream",
     "text": [
      "Building ngram index...\n"
     ]
    },
    {
     "name": "stdout",
     "output_type": "stream",
     "text": [
      "in Zion , The virgins of Jerusalem , [ And ] forsake us so long time ?\n",
      ", men said among the nations , They shall no more regard them : They\n",
      "chased us on the earth did n't respect the persons of the Lord : wall\n",
      "of the sword bereaves , at my cry . and no man breaks it to them ,\n",
      "Unclean ! 12 Is it nothing to you , that I may comfort you , all you\n",
      "who pass by clap their hands , against whom I am the man that he\n",
      "commanded in the night\n",
      "Book: Ezekiel\n"
     ]
    },
    {
     "name": "stderr",
     "output_type": "stream",
     "text": [
      "Building ngram index...\n"
     ]
    },
    {
     "name": "stdout",
     "output_type": "stream",
     "text": [
      "not according to the priests shall prepare a lamb a year old without\n",
      "blemish and a half long , and they shall eat it as a barber 's razor\n",
      "to you all your ways . , out of the nations shall know that I am\n",
      "Yahweh ; and they shall bring you out of his ornament , he shall live\n",
      "in them , Defile the house all around . birds of the earth , and all\n",
      "Edom , her kings and all its multitude . Lord Yahweh , between Hauran\n",
      "and Damascus and Gilead , and six cubits on this\n",
      "Book: Daniel\n"
     ]
    },
    {
     "name": "stderr",
     "output_type": "stream",
     "text": [
      "Building ngram index...\n"
     ]
    },
    {
     "name": "stdout",
     "output_type": "stream",
     "text": [
      "mouths , and have indignation against the God of Daniel ; for Yahweh\n",
      "our God , because of their kingdom , that he dealt proudly , he cried\n",
      "with a mighty hand , and made proclamation concerning him , and\n",
      "substance : yes , also the children of the first king . , in the\n",
      "latter time of the kingdom , and looked , and the higher came up last\n",
      ". broke his two horns , and cast him down to the law of his princes ;\n",
      "and there was a nation even to me , which I saw in\n",
      "Book: Hosea\n"
     ]
    },
    {
     "name": "stderr",
     "output_type": "stream",
     "text": [
      "Building ngram index...\n"
     ]
    },
    {
     "name": "stdout",
     "output_type": "stream",
     "text": [
      "in Baal , he mixes himself among the nations , I will also be so\n",
      "toward you . , in justice , in the fig tree at its first season ; but\n",
      "I discipline all of them , but she wo n't find in me any iniquity that\n",
      "is bereaved of her cubs , and will put a yoke on their beds .\n",
      "Therefore his blood will be , like Adam , have broken the covenant .\n",
      "12 Jacob fled into the country of Aram , and because your hostility is\n",
      "great . they have made themselves idols , that\n",
      "Book: Amos\n"
     ]
    },
    {
     "name": "stderr",
     "output_type": "stream",
     "text": [
      "Building ngram index...\n"
     ]
    },
    {
     "name": "stdout",
     "output_type": "stream",
     "text": [
      "love good , and the people of Syria shall go into captivity , and sell\n",
      "the sweepings with the best oils ; but I will make it like the\n",
      "children of Israel ? , for four , I will not turn away its punishment\n",
      "; because they have agreed ? and mildew many times in your gardens and\n",
      "your land shall be a prostitute in the city with all that is full of\n",
      "grain . 11 I raised up some of you with blight and mildew many times\n",
      "in your place , as when God overthrew Sodom and Gomorrah ,\n",
      "Book: Jonah\n",
      "in a night , and said to Jonah , `` Is it right for you to be angry\n",
      "about the vine . , herd nor flock , taste anything ; let them cry\n",
      "mightily to God . Yahweh . 11 Should n't I be concerned for the sea\n",
      "grew more and more stormy against them . this great storm is on you .\n",
      "'' I have been banished from your sight ; yet I will sacrifice to you\n",
      "with the voice of thanksgiving . do it . , and do n't let us die for\n",
      "this man 's life ,\n",
      "Book: Nahum\n",
      "his adversaries , and the pine spears are brandished . , he will make\n",
      "your grave , for the siege . The heart melts , the glittering spear ,\n",
      "and the voice of doves , beating on their way . 12 The lion tore in\n",
      "pieces at the head of all the streets , and the feeding place of the\n",
      "eater . their drink , they are consumed utterly like dry stubble .\n",
      "Chapter 2 1 He who dashes in pieces at the head of all the streets ,\n",
      "and likewise many , even so they will be cut down\n"
     ]
    },
    {
     "name": "stderr",
     "output_type": "stream",
     "text": [
      "Building ngram index...\n",
      "Building ngram index...\n",
      "Building ngram index...\n"
     ]
    },
    {
     "name": "stdout",
     "output_type": "stream",
     "text": [
      "Book: Habakkuk\n",
      "in Yahweh . , moreover , wine is treacherous . Yahweh . 13 You went\n",
      "forth for the day of trouble , for the violence done to the city and\n",
      "to those who deal treacherously , and burns incense to his net , and\n",
      "who enriches himself by extortion ! them come for violence . ? eternal\n",
      ". , and ca n't be satisfied , but gathers to himself all peoples .\n",
      "bones , and for the wicked surround the righteous ; therefore justice\n",
      "goes forth ; for I am working a work in your days , which made them\n",
      "Book: Haggai\n"
     ]
    },
    {
     "name": "stderr",
     "output_type": "stream",
     "text": [
      "Building ngram index...\n",
      "Building ngram index...\n"
     ]
    },
    {
     "name": "stdout",
     "output_type": "stream",
     "text": [
      "looked for much , and the words of Haggai , Yahweh 's house to be\n",
      "built . ' , spoke Yahweh 's messenger , spoke Yahweh 's message to the\n",
      "people feared Yahweh . Yahweh came by Haggai , Yahweh 's house to be\n",
      "built . ' 10 Therefore for your sake the heavens withhold the dew ,\n",
      "and the people feared Yahweh . the mountain , bring wood , and to\n",
      "Jehozadak , the prophet , saying , 2 `` Speak now to Zerubbabel , the\n",
      "son of Jehozadak , the time for Yahweh 's message to the mountain\n",
      "Book: Malachi\n",
      "is ! ' , even its food , is n't that evil ? You say also , 'Behold ,\n",
      "what a weariness it is ! ' 12 `` All nations shall call you blessed ,\n",
      "for those who oppress the hireling in his lips . to my name is awesome\n",
      "among the nations , '' says Yahweh of Armies ? I have loved you , ''\n",
      "says Yahweh , `` Yahweh is great among the nations , '' says Yahweh of\n",
      "Armies . down , but I will come near to you who fear my name is great\n",
      "-- even\n",
      "Book: Matthew\n",
      "and Judas the son of Alphaeus , Simon the Zealot , and Judas the son\n",
      "of , and Judas the son of James the son of Matthew , James the son of\n",
      "the son of Alphaeus , Simon the Zealot , and Judas the son of Alphaeus\n",
      ", Simon the Zealot , and Judas the son of Alphaeus , Simon the Zealot\n",
      ", and Judas the son of Alphaeus , Simon the Zealot , and Judas the son\n",
      "of Alphaeus , Simon the Zealot , and Judas the son of Simon the Zealot\n",
      ", and Judas the son of Alphaeus\n"
     ]
    },
    {
     "name": "stderr",
     "output_type": "stream",
     "text": [
      "Building ngram index...\n",
      "Building ngram index...\n",
      "Building ngram index...\n"
     ]
    },
    {
     "name": "stdout",
     "output_type": "stream",
     "text": [
      "Book: John\n",
      "is Christ . , sexual immorality , uncleanness , lustfulness , 20\n",
      "idolatry , sorcery , hatred , strife , jealousies , outbursts of anger\n",
      ", rivalries , divisions , heresies , 21 envyings , murders ,\n",
      "drunkenness , orgies , and do n't use your freedom for gain to the\n",
      "truth , before whose eyes Jesus Christ be with your spirit , brothers\n",
      ", were held in bondage all over again ? a man thinks himself to be in\n",
      "bondage all over again ? 12 For before some people came from James ,\n",
      "he ate with the Gentiles to\n",
      "Book: Mark\n",
      "a kiss of love . . Peace be to you all who are in Christ Jesus . son .\n",
      "Amen . Greet one another with a kiss of love . . Mark , my son . you\n",
      "all who are in Christ Jesus . Peace be to you all who are in Christ\n",
      "Jesus . to you all who are in Christ Jesus . . with a kiss of love . .\n",
      "Jesus . Peace be to you all who are in Christ Jesus . to you all who\n",
      "are in Christ Jesus . Peace be to you all who\n",
      "Book: James\n"
     ]
    },
    {
     "name": "stderr",
     "output_type": "stream",
     "text": [
      "Building ngram index...\n"
     ]
    },
    {
     "name": "stdout",
     "output_type": "stream",
     "text": [
      "in a day of slaughter . , or a vine figs ? adultery , but a doer , he\n",
      "has become guilty of all . 12 Can a fig tree , my brothers , these\n",
      "things ought not to be rich in faith , without any doubting , for an\n",
      "example of suffering and of the patience of things ought not to be\n",
      "religious while he does . God . enemy of God . , bird , creeping thing\n",
      ", and the Scripture was fulfilled which says , `` God resists the\n",
      "proud , but a doer of the patience\n",
      "Book: Luke\n"
     ]
    },
    {
     "name": "stderr",
     "output_type": "stream",
     "text": [
      "Building ngram index...\n"
     ]
    },
    {
     "name": "stdout",
     "output_type": "stream",
     "text": [
      "is John . '' , saying , `` My soul magnifies the Lord . '' added this\n",
      "also to them , `` A great prophet has arisen among us , 2 even as your\n",
      "Father is also merciful . 13 He said , `` But I tell this one , ``\n",
      "Stretch out your name as evil , for behold , when they had\n",
      "accomplished all things accurately from the land of Sidon , who warned\n",
      "you to flee from the Jordan , preaching the baptism of repentance ,\n",
      "and keeping watch by night over their flock . time .\n",
      "Book: Jude\n",
      "like the creatures without reason , they are destroyed in these things\n",
      ". , remember the words which have been spoken before by the roots ; 13\n",
      "wild waves of the great day . and of all the hard things which ungodly\n",
      "sinners have spoken against him . '' Balaam for hire , and Lord ,\n",
      "Jesus Christ : 2 Mercy to you exhorting you to contend earnestly for\n",
      "the mercy of our Lord Jesus Christ , and denying our only Master , God\n",
      ", looking for the faith which was once for all delivered to the saints\n",
      ". to\n",
      "Book: Acts\n",
      "is Peter , John , James , Andrew , Philip , Thomas , Bartholomew , ,\n",
      "he commanded them , he commanded them , `` It is n't for you to know\n",
      "times or seasons which the Father has set within his own authority .\n",
      "after he suffered , by many proofs , appearing to them over a period\n",
      "of forty days , and a cloud received him out of their sight . 12 Then\n",
      "they returned to Jerusalem from the mountain called Olivet , which is\n",
      "near Jerusalem , but you will be baptized in water , but you\n",
      "Book: 1 Peter\n"
     ]
    },
    {
     "name": "stderr",
     "output_type": "stream",
     "text": [
      "Building ngram index...\n",
      "Building ngram index...\n",
      "Building ngram index...\n"
     ]
    },
    {
     "name": "stdout",
     "output_type": "stream",
     "text": [
      "live as to God through Jesus Christ , to abstain from fleshly lusts ,\n",
      "which now have obtained mercy , but on your part he is blasphemed ,\n",
      "but now have returned to the good and gentle , but now have been\n",
      "announced to you , 5 who will give account to him who is in Babylon ,\n",
      "chosen , and of wearing jewels of gold , from the dead , that you may\n",
      "obey Jesus Christ -- 14 as children of obedience , not for dishonest\n",
      "gain , but chosen by God , having died to sins , might\n",
      "Book: Romans\n"
     ]
    },
    {
     "name": "stderr",
     "output_type": "stream",
     "text": [
      "Building ngram index...\n"
     ]
    },
    {
     "name": "stdout",
     "output_type": "stream",
     "text": [
      "joined to another , to the promise are counted as a seed , are one\n",
      "body , that those who practice such things , we die , we will be saved\n",
      "by his life . , or anguish , or peril , or an occasion for falling .\n",
      "all the seed , are a doer of the law written in their knowledge , God\n",
      ", which is by nature , if by the works of the law through faith . 12\n",
      "He is the first fruit is holy , so is the profit of circumcision to\n",
      "those who practice them\n",
      "Book: 1 Corinthians\n"
     ]
    },
    {
     "name": "stderr",
     "output_type": "stream",
     "text": [
      "Building ngram index...\n"
     ]
    },
    {
     "name": "stdout",
     "output_type": "stream",
     "text": [
      "is Christ 's , and that you also be in subjection to such , and our\n",
      "brother Sosthenes , 2 to the feet , `` I follow Apollos , or things to\n",
      "him who speaks in another language speaks not to God , and I no right\n",
      "to not work ? , nor covetous , or things present , judged him who\n",
      "thinks he stands be careful that he knows anything , let him not\n",
      "become uncircumcised . a price . 13 For in Christ . those who believe\n",
      ". I have no company with sexual sinners ; 10 and\n",
      "Book: 2 Corinthians\n"
     ]
    },
    {
     "name": "stderr",
     "output_type": "stream",
     "text": [
      "Building ngram index...\n",
      "Building ngram index...\n"
     ]
    },
    {
     "name": "stdout",
     "output_type": "stream",
     "text": [
      "made glorious has not been made glorious has not been made glorious\n",
      "has not been made glorious in this respect , by me , but life in you\n",
      "the patient enduring of the unbelieving , that what is mortal may be\n",
      "able to comfort those who are in the face of Jesus Christ . , thanks\n",
      "may be revealed in our hearts , known and read by all men ; 3 if so be\n",
      "that being clothed we will not be blamed , 4 but in the grace , being\n",
      "multiplied through the comfort with which we also suffer .\n",
      "Book: Titus\n",
      "many unruly men , vain talkers and deceivers , especially those of the\n",
      "circumcision , 11 whose mouths must be stopped ; men who turn away\n",
      "from the truth which is good ; 4 that they may not be unfruitful . ,\n",
      "self-controlled ; 9 holding to the faithful word which is good ; 4\n",
      "that they may train the young women to love their husbands , that God\n",
      "'s word may not be unfruitful . as I directed you ; 6 if anyone is\n",
      "blameless , the husband of one wife , having no evil thing to say\n",
      "about\n",
      "Book: Galatians\n",
      "me , James and Cephas and , or an angel from heaven , should preach to\n",
      "you any `` good news '' other than that which you received , let him\n",
      "be cursed . an apostle ( not from men , I 'm not lying . Chapter 1 1\n",
      "Paul , an apostle ( not from men , I would n't be a servant of Christ\n",
      "to a different `` good news '' ; 7 and there is n't another `` good\n",
      "news '' other than that which we preached to you and peace from God\n",
      "the Father , and\n",
      "Book: Ephesians\n"
     ]
    },
    {
     "name": "stderr",
     "output_type": "stream",
     "text": [
      "Building ngram index...\n",
      "Building ngram index...\n"
     ]
    },
    {
     "name": "stdout",
     "output_type": "stream",
     "text": [
      "mystery is great , but rather let him labor , working with his hands\n",
      "the thing that is named , not only in this age , and all uncleanness\n",
      "with greediness . , nor covetous man , who in the Beloved , 7 that in\n",
      "the discipline and instruction of the Lord . both one , and dominion ,\n",
      "and , having heard the word of God from the Lord Jesus Christ , 15 and\n",
      "having fitted your feet with the preparation of the apostles and\n",
      "prophets in the discipline and instruction of the body of Christ ; 16\n",
      "above\n",
      "Book: Philippians\n",
      "latter out of envy and strife , and rejoice in Christ Jesus , 6 who ,\n",
      "existing in the Good News ; 13 so that it became evident to the things\n",
      "which happened to me indeed is not tiresome , but God had mercy on him\n",
      "; and not on him ; and not on him ; and not on him only , but to you ,\n",
      "4 always in every way , even as you have revived your thought for me\n",
      "to think the same way in the Lord , my brothers , beloved and longed\n",
      "for you it\n",
      "Book: Colossians\n"
     ]
    },
    {
     "name": "stderr",
     "output_type": "stream",
     "text": [
      "Building ngram index...\n",
      "Building ngram index...\n",
      "Building ngram index...\n"
     ]
    },
    {
     "name": "stdout",
     "output_type": "stream",
     "text": [
      "me , Paul , with my own hand : remember my bonds . , since the day you\n",
      "heard and knew the grace of God ; 11 in whom you were also circumcised\n",
      "with a circumcision not made with hands , in word or in drinking , or\n",
      "with respect to a feast day or a Sabbath day , 17 which are a shadow\n",
      "of the inheritance of the Good News which you heard , which is Christ\n",
      "'s . be partakers of the Lord , and Demas greet you . God . to please\n",
      "him in all the treasures\n",
      "Book: 1 Thessalonians\n",
      "men ( neither from you the word in much affliction , with joy of the\n",
      "Thessalonians in God the Father and the Lord , having received the\n",
      "word of the assemblies of God which are in , so we speak ; not as\n",
      "pleasing men , but also in power , and with much assurance . and labor\n",
      "of love and patience of hope in our prayers , 3 remembering without\n",
      "ceasing , that we might have claimed authority as apostles of Christ .\n",
      "For they themselves report concerning us what kind of men , but , as\n",
      "you know\n",
      "Book: 2 Thessalonians\n",
      "might , 10 and with all power and signs and lying wonders , 10 when he\n",
      "comes to be admired among all those who have believed ( because our\n",
      "testimony to you was believed ) in that day . , that the name of our\n",
      "Lord Jesus , 9 who will pay the penalty : eternal destruction from the\n",
      "face of the glory of our Lord Jesus , 9 who will pay the penalty :\n",
      "eternal destruction from the face of the Lord and from the glory of\n",
      "his might , 10 when he comes to be quickly shaken in\n",
      "Book: 1 Timothy\n"
     ]
    },
    {
     "name": "stderr",
     "output_type": "stream",
     "text": [
      "Building ngram index...\n",
      "Building ngram index...\n"
     ]
    },
    {
     "name": "stdout",
     "output_type": "stream",
     "text": [
      "knowledge of the devil . , not covetous ; 4 who desires all people to\n",
      "be saved through her childbearing , if she has been hospitable to\n",
      "strangers , if she has been hospitable to strangers , if she has\n",
      "washed the saints ' feet , if they are brothers , but to be idle , but\n",
      "for the unholy and profane , for when they have rejected their first\n",
      "pledge . are in high places ; that it might relieve those who hear you\n",
      ". 11 But refuse profane and old wives ' fables . those who have served\n",
      "Book: 2 Timothy\n",
      "in Asia turned away from these , also . , my beloved child : Grace ,\n",
      "mercy , and fulfill your ministry . about words , to no profit , to no\n",
      "profit , to no profit , to no profit , to no profit , to the\n",
      "subverting of those who oppose him : perhaps God may give them\n",
      "repentance leading to a full knowledge of the mouth of the testimony\n",
      "of our Savior , Christ Jesus . 12 For this , I am not ashamed ,\n",
      "properly handling the Word of Truth . this cause I also suffer\n",
      "Book: Philemon\n",
      "joy and comfort in your obedience , I write to you . , my fellow\n",
      "prisoner in Christ Jesus , and of the saints have been refreshed\n",
      "through you , both in the Lord Jesus Christ . a prisoner of Christ\n",
      "Jesus , and Luke , my own heart , 13 whom I desired to keep with me ,\n",
      "that is , my fellow prisoner in Christ Jesus , and Luke , my fellow\n",
      "prisoner in Christ Jesus , greets you , brother , let me have joy from\n",
      "you for a while , that you will do even beyond\n"
     ]
    },
    {
     "name": "stderr",
     "output_type": "stream",
     "text": [
      "Building ngram index...\n",
      "Building ngram index...\n",
      "Building ngram index...\n"
     ]
    },
    {
     "name": "stdout",
     "output_type": "stream",
     "text": [
      "Book: 2 Peter\n",
      "n't bring a railing judgment against them before the Lord and Savior ,\n",
      "Jesus Christ . , that in the night ; in which righteousness dwells .\n",
      "by the word of God , which the heavens will pass away with a man's\n",
      "voice and stopped the madness of the world by lust . Many will follow\n",
      "their immoral ways , and committed them to pits of darkness has been\n",
      "reserved forever . to life and godliness , through the knowledge of\n",
      "God ; 6 by which means the world through the knowledge of God ; 6 by\n",
      "which he has\n",
      "Book: 1 John\n"
     ]
    },
    {
     "name": "stderr",
     "output_type": "stream",
     "text": [
      "Building ngram index...\n",
      "Building ngram index...\n"
     ]
    },
    {
     "name": "stdout",
     "output_type": "stream",
     "text": [
      "is God 's love was revealed to take away our sins , and he in him . ,\n",
      "little children , let us love one another , and to cleanse us from all\n",
      "unrighteousness . and persuade our hearts before him , '' and hates\n",
      "his brother . 12 I write a new commandment to you , that God is love ,\n",
      "not that we have seen with our eyes , that God gave to us . to us .\n",
      "Jesus Christ . have believed the love which God has come in the Son of\n",
      "God . . does n't\n",
      "Book: 2 John\n",
      "is love , that we receive a full reward . , that our joy may be made\n",
      "full . and love . 12 Having many things to write to you , and do n't\n",
      "want to do so with paper and ink , but that which we had from the\n",
      "beginning , that we should walk in it . truth , even as we have been\n",
      "commanded by the Father and the Antichrist . Now I beg you , and do\n",
      "n't confess that Jesus Christ , the same has both the Father , in\n",
      "truth ; and not I\n",
      "Book: 3 John\n",
      "is evil , but that which is evil , but Diotrephes , who loves to be\n",
      "first among them , does n't accept what we say . , that we may be\n",
      "fellow workers for the sake of the assembly . about your truth , even\n",
      "as you walk in truth . 11 Beloved , I pray that you may prosper in all\n",
      "things and be healthy , even as your soul prospers . walking in truth\n",
      ". He who does evil has n't seen God . faithful work in whatever you\n",
      "accomplish for those who would , he forbids\n"
     ]
    },
    {
     "name": "stderr",
     "output_type": "stream",
     "text": [
      "Building ngram index...\n"
     ]
    },
    {
     "name": "stdout",
     "output_type": "stream",
     "text": [
      "Book: Revelation\n"
     ]
    },
    {
     "name": "stderr",
     "output_type": "stream",
     "text": [
      "Building ngram index...\n"
     ]
    },
    {
     "name": "stdout",
     "output_type": "stream",
     "text": [
      "living God . '' , oppression , and the small and the End . and reigned\n",
      "with Christ for a denarius ! 12 I heard , like a great thunder . those\n",
      "who had the seven bowls came and spoke with me in white , pure , fine\n",
      "linen , purple , and of Hades . The great city , in the Lamb , 17 for\n",
      "the word of their wings was like a man , that he might devour her\n",
      "child . great and marvelous are your judgments . '' , and blood came\n",
      "out , clothed with a\n"
     ]
    }
   ],
   "source": [
    "#WEB\n",
    "\n",
    "#This function tokenizes and then runs NLTK's generate on each book of the Bible. \n",
    "# Function to tokenize a given text\n",
    "def tokenize_text(text):\n",
    "    return nltk.tokenize.word_tokenize(text)\n",
    "\n",
    "# Function to generate text based on tokenized input\n",
    "def generate_text(tokens):\n",
    "    nltk.Text(tokens).generate()\n",
    "\n",
    "# Assuming you have a dictionary 'bible_books' where each key is a book of the Bible and the value is the text of that book\n",
    "# You can tokenize each book separately and generate text\n",
    "for book, text in Split_WEB.items():\n",
    "    tokens = tokenize_text(text)\n",
    "    print(f\"Book: {book}\")\n",
    "    generate_text(tokens)"
   ]
  },
  {
   "cell_type": "code",
   "execution_count": 14,
   "id": "27c85c88-23f6-4df2-8c72-2b7afdc231c1",
   "metadata": {},
   "outputs": [
    {
     "name": "stdout",
     "output_type": "stream",
     "text": [
      "Book: Genesis\n"
     ]
    },
    {
     "name": "stderr",
     "output_type": "stream",
     "text": [
      "Building ngram index...\n"
     ]
    },
    {
     "name": "stdout",
     "output_type": "stream",
     "text": [
      "it , and all the people who are here , for my brothers ! , treating\n",
      "the godly with the gifts they had done so , she said , “ Where is the\n",
      "LORD has granted me success on my journey . a name for him . 14 He had\n",
      "so many sheep and cattle , male and female servants , “ This is the\n",
      "gate of Ephron the son whom Hagar had borne to Abraham– mocking . to\n",
      "her father ’ s just a little balm and a tower with its top in the\n",
      "troughs in front of me\n",
      "Book: Hebrews\n"
     ]
    },
    {
     "name": "stderr",
     "output_type": "stream",
     "text": [
      "Building ngram index...\n"
     ]
    },
    {
     "name": "stdout",
     "output_type": "stream",
     "text": [
      "much greater punishment do you think that person deserves who has\n",
      "contempt for the people by his powerful word , and their lawless deeds\n",
      "I will be changed , but we seek the city that is not his own blood ,\n",
      "Jesus also suffered outside the camp , bearing the abuse he\n",
      "experienced . , that is , the priests enter continually into the inner\n",
      "tent , and no one will see the Lord . blood of the angels as he has\n",
      "appeared once for all time . God for themselves all over again and\n",
      "again , “ He makes\n",
      "Book: Exodus\n"
     ]
    },
    {
     "name": "stderr",
     "output_type": "stream",
     "text": [
      "Building ngram index...\n"
     ]
    },
    {
     "name": "stdout",
     "output_type": "stream",
     "text": [
      "men and sorcerers , and take in your hand ? , were Hanoch and Pallu ,\n",
      "Hezron and Carmi . all the words in his hand , and Judah , 3 then the\n",
      "hand of the Deliverer These are the heads of their discouragement and\n",
      "hard labor . But Pharaoh hardened his heart . to him . Nile and pour\n",
      "it out from Pharaoh , Moses ! ground , and even the ground became\n",
      "gnats throughout all the signs in the wilderness ! . cry because of\n",
      "the Nile with the Egyptians oppress them . 19 The LORD said to\n",
      "Book: Leviticus\n"
     ]
    },
    {
     "name": "stderr",
     "output_type": "stream",
     "text": [
      "Building ngram index...\n"
     ]
    },
    {
     "name": "stdout",
     "output_type": "stream",
     "text": [
      "not allow the salt of the sanctuary , and I have given it as a\n",
      "perpetual covenant . , or a limb too long , 19 and he must show\n",
      "himself to the LORD who sanctifies them. clean . Then it will be\n",
      "accounted to any man from the Herd “ ‘ When you enter the land ,\n",
      "harvest its aftergrowth , or the wool , or the goats– he must present\n",
      "it before the LORD had commanded . times before the LORD. are\n",
      "satisfied , and maintain my covenant with Abraham , and you must not\n",
      "subject him to\n",
      "Book: Numbers\n"
     ]
    },
    {
     "name": "stderr",
     "output_type": "stream",
     "text": [
      "Building ngram index...\n"
     ]
    },
    {
     "name": "stdout",
     "output_type": "stream",
     "text": [
      "numbered , by the road to the LORD commanded , for life was good for\n",
      "us . , the cucumbers , the onions , and Abihu , Eleazar and Ithamar\n",
      "ministered as priests in the land , lived . and our children should\n",
      "become plunder ? Egypt . ) to him , “ Has the LORD your God , and they\n",
      "will be unclean seven days ? Those of them full of fine flour mixed\n",
      "with olive oil on it all its utensils . have brought us into this land\n",
      "only to bring you a red heifer without blemish ,\n",
      "Book: Joshua\n",
      "of , there will be clothed in splendor , sitting as king on his throne\n",
      ". and he will be a priest with him on his throne and they will see eye\n",
      "to eye on everything . Armies says , “ Look– here is the man whose\n",
      "name is Branch , who will sprout up from his place and build the\n",
      "temple of the LORD . to eye on everything . LORD . high priest , the\n",
      "son of Jehozadak . , he will build the temple of the LORD . everything\n",
      ". 12 Then say to him , ‘\n"
     ]
    },
    {
     "name": "stderr",
     "output_type": "stream",
     "text": [
      "Building ngram index...\n"
     ]
    },
    {
     "name": "stdout",
     "output_type": "stream",
     "text": [
      "Book: Deuteronomy\n"
     ]
    },
    {
     "name": "stderr",
     "output_type": "stream",
     "text": [
      "Building ngram index...\n"
     ]
    },
    {
     "name": "stdout",
     "output_type": "stream",
     "text": [
      "nations , from one end of the Historical Resume “ During those days .\n",
      ", the LORD your God may bless all the people of the fields of Gomorrah\n",
      ". be hostile toward them , 4 for the LORD your God is giving you today\n",
      ". Israelite from one direction but flee from them and should not\n",
      "consider it difficult to let the mother bird sitting on them , because\n",
      "worms will eat them in pieces . venom , their tents , and stay in your\n",
      "festival , you must by all means slaughter the inhabitants of that\n",
      "area confronted\n",
      "Book: Judges\n"
     ]
    },
    {
     "name": "stderr",
     "output_type": "stream",
     "text": [
      "Building ngram index...\n"
     ]
    },
    {
     "name": "stdout",
     "output_type": "stream",
     "text": [
      "it , Caleb gave him sons . , wife of Heber the Kenite , Moses ’\n",
      "father-in-law , went up to meet him . Then she told the young man from\n",
      "Bethlehem in Judah to find another place to live . 17 Gilead stayed\n",
      "put beyond the Jordan River. to him , “ I solemnly dedicate this\n",
      "silver to a woman. It remains in Lehi . exhausted , they gave him his\n",
      "daughter Achsah as a burnt sacrifice on the threshing floor . .\n",
      "brother , captured it . 23 When the leaders of Shechem who helped him\n",
      "murder them\n",
      "Book: Micah\n"
     ]
    },
    {
     "name": "stderr",
     "output_type": "stream",
     "text": [
      "Building ngram index...\n"
     ]
    },
    {
     "name": "stdout",
     "output_type": "stream",
     "text": [
      "like a lion among the flocks of sheep , which attacks when it passes\n",
      "through ; it will grow dark , and have a strong commitment to justice\n",
      ". , that does not stay angry forever , but there you will no longer\n",
      "train for war . a new nation , and Israel with its rebellion , my\n",
      "offspring– my own flesh and blood– for my rebellion , and you will no\n",
      "longer be able to read the omens . 12 I will bring them together like\n",
      "sheep in a fold , like a yoke from which you promised on\n",
      "Book: Ruth\n",
      "involving redemption in Israel : A man would remove his sandal and\n",
      "give it to the leaders and all the people who were at the gate and the\n",
      "elders replied , “ We are witnesses today that I have also acquired\n",
      "Ruth the Moabite , the wife of our deceased relative , in order to\n",
      "preserve his family name by raising up a descendant who will inherit\n",
      "his property so the name of the deceased might not disappear from\n",
      "among his relatives and from his village . , the wife of our deceased\n",
      "relative , in order to preserve his\n",
      "Book: 1 Samuel\n",
      "from among his sons . . I have selected a king for myself from among\n",
      "his sons . 1 Samuel Anoints David as King The LORD said to Samuel , “\n",
      "How long do you intend to mourn for Saul ? sons . David as King The\n",
      "LORD said to Samuel , “ How long do you intend to mourn for Saul ? and\n",
      "go ! 1 Samuel Anoints David as King The LORD said to Samuel , “ How\n",
      "long do you intend to mourn for Saul ? Saul ? 1 Samuel Anoints David\n",
      "as King The LORD said\n"
     ]
    },
    {
     "name": "stderr",
     "output_type": "stream",
     "text": [
      "Building ngram index...\n",
      "Building ngram index...\n"
     ]
    },
    {
     "name": "stdout",
     "output_type": "stream",
     "text": [
      "Book: 2 Samuel\n"
     ]
    },
    {
     "name": "stderr",
     "output_type": "stream",
     "text": [
      "Building ngram index...\n"
     ]
    },
    {
     "name": "stdout",
     "output_type": "stream",
     "text": [
      "king ! , you are like thorns– all of King David heard about this ?\n",
      "When he turned around and saw me , and how the campaign was going up\n",
      "the LORD ’ s aid , striking the Philistine forces and drew some water\n",
      "to drink from his bed with the dedicated silver and gold that he\n",
      "should do . 16 Now Ishbi-Benob , one of the palace , the LORD your God\n",
      "be with you ! to express his sympathy ? Israel All the men of Israel ,\n",
      "for Ahithophel has advised Absalom and finished him off . for\n",
      "Book: 1 Kings\n"
     ]
    },
    {
     "name": "stderr",
     "output_type": "stream",
     "text": [
      "Building ngram index...\n"
     ]
    },
    {
     "name": "stdout",
     "output_type": "stream",
     "text": [
      "march out and fight their enemies , 12 I grant your request , and put\n",
      "her dead son in my presence with all his servants ; Shimei went and\n",
      "executed Shimei . , so he can make judicial decisions . and its rim\n",
      "was like that of a cup shaped like lilies . All of Adonijah ’ s Final\n",
      "Words to Solomon when he heard that he possessed divine wisdom to make\n",
      "judicial decisions for this place . to his father ’ s outer walls so\n",
      "the beams supported by the LORD ’ s wings was seven and a half\n",
      "Book: 2 Kings\n"
     ]
    },
    {
     "name": "stderr",
     "output_type": "stream",
     "text": [
      "Building ngram index...\n"
     ]
    },
    {
     "name": "stdout",
     "output_type": "stream",
     "text": [
      "made , for he was sitting on the hill , he said , “ Set it before the\n",
      "king ! , while Athaliah was ruling over the boy ; he did so . advisers\n",
      "replied , “ Go ! Adrammelech and Anammelech , the Abana and Pharpar ,\n",
      "are better than any of the LORD ’ s Reign over Judah Manasseh was\n",
      "twelve years old when he fought against King Hazael of Syria was sick\n",
      ". to her husband is dead . LORD has said , “ Is everything all right ,\n",
      "I ’ m sure that the king of\n",
      "Book: 1 Chronicles\n"
     ]
    },
    {
     "name": "stderr",
     "output_type": "stream",
     "text": [
      "Building ngram index...\n"
     ]
    },
    {
     "name": "stdout",
     "output_type": "stream",
     "text": [
      "and Abishur . , and Benjamin ; Naphtali , Gad , and Joash and Saraph ,\n",
      "both of whom ruled in Moab and Jashubi Lehem . Caleb son of Asiel ) ,\n",
      "36 Eleoenai , Jaakobah , Jeshohaiah , Asaiah , Adiel , Jesimiel ,\n",
      "Benaiah , 37 Ziza son of Shobal , the father of Boaz . the father of\n",
      "Sismai , and Nedabiah . 36 Attai was the father of Almodad , Sheleph ,\n",
      "Hazarmaveth , Jerah , 21 Hadoram , Uzal , Diklah , 22 Jokim , the\n",
      "father of Uri , and Jahath was the father\n",
      "Book: Jeremiah\n"
     ]
    },
    {
     "name": "stderr",
     "output_type": "stream",
     "text": [
      "Building ngram index...\n"
     ]
    },
    {
     "name": "stdout",
     "output_type": "stream",
     "text": [
      "man came to Jesus saying , “ Elijah does indeed come first ? , ‘\n",
      "Because no one separate. and said to him , 15 and said , “ Your\n",
      "teacher pays the double drachma tax , doesn ’ t he ? ? up a high\n",
      "mountain . The Transfiguration Six days later Jesus took with him .\n",
      "have been released in heaven. . drink ? 23 They will kill him , “ What\n",
      "do you think , Simon ? “ Do not murder , do not commit adultery , do\n",
      "not give false testimony , 19 and will inherit\n",
      "Book: Obadiah\n",
      "not be a fire , and you will be a fire , and it will be a remnant of\n",
      "those who had conquered them . , they would leave some behind for the\n",
      "poor ! a remnant of those who escape , and it will be ransacked ! 13\n",
      "You should not have boasted when they endured distress . was sent\n",
      "among the nations , saying , “ Arise ! LORD is approaching for all the\n",
      "nations , saying , “ Look ! from Esau ’ s mountain.Then the LORD . .\n",
      "descendants of Jacob , shame will cover you\n",
      "Book: Zechariah\n"
     ]
    },
    {
     "name": "stderr",
     "output_type": "stream",
     "text": [
      "Building ngram index...\n",
      "Building ngram index...\n"
     ]
    },
    {
     "name": "stdout",
     "output_type": "stream",
     "text": [
      "of Babylonia . , “ I see a menorah of pure gold with a receptacle at\n",
      "the top , with seven pipes going to the prophet Zechariah son of\n",
      "Berechiah son of Zephaniah . am about to engrave an inscription on it\n",
      ", ’ this is what the LORD of Heaven ’ s Armies , how long before you\n",
      "have been so angry with for these seventy years ? Branch . was dressed\n",
      "in filthy clothes as he stood there before the angel of the thief and\n",
      "of the First Vision I was a flying scroll thirty feet long and\n",
      "Book: 2 Chronicles\n"
     ]
    },
    {
     "name": "stderr",
     "output_type": "stream",
     "text": [
      "Building ngram index...\n"
     ]
    },
    {
     "name": "stdout",
     "output_type": "stream",
     "text": [
      "may the promise he made two pillars ( each latticework had two rows\n",
      "and had placed it in the ark of the covenant of the covenant of the\n",
      "temple ; your very own son will build the temple he made two images of\n",
      "cherubim and plated it with fine gold , and bowls . , praising and\n",
      "giving thanks to the kings of Syria . and obey my law as you did my\n",
      "father David ’ s temple . God of Israel , after the census his father\n",
      "David ( the most holy place . to its assigned place in\n",
      "Book: Ezra\n",
      "descendants of Elam : Mattaniah , Zechariah , Jehiel , Abdi , Jeremoth\n",
      ", and Manasseh . , and Benaiah . From the descendants of Binnui :\n",
      "Shimei , 39 Shelemiah , Shemariah , 42 Shallum , Amariah , and Benaiah\n",
      ". the elders of each town and its judges , until the hot anger of our\n",
      "God to send away their wives ; their guilt offering was a ram from the\n",
      "descendants of Harim : Eliezer , Ishijah , Malkijah , Mijamin ,\n",
      "Eleazar , Malkijah , Mijamin , Eleazar , Malkijah , Shemaiah , Shimeon\n",
      ", 32 Benjamin\n",
      "Book: Daniel\n"
     ]
    },
    {
     "name": "stderr",
     "output_type": "stream",
     "text": [
      "Building ngram index...\n",
      "Building ngram index...\n"
     ]
    },
    {
     "name": "stdout",
     "output_type": "stream",
     "text": [
      "many . , stopping the daily sacrifice is removed and the east and\n",
      "toward the four winds of the south and one of the sky one like a human\n",
      "being , and there was none who could deliver the ram to the king of\n",
      "the former one did . and plundered for some time . 14 The LORD was\n",
      "mindful of the river , “ Daniel , was exhausted and sick for days .\n",
      "trade lies with one another at the vision , I have now come to you ,\n",
      "for your own sake , O king , “ O\n",
      "Book: Nehemiah\n"
     ]
    },
    {
     "name": "stderr",
     "output_type": "stream",
     "text": [
      "Building ngram index...\n"
     ]
    },
    {
     "name": "stdout",
     "output_type": "stream",
     "text": [
      "men and women and those children who could consult the Urim and\n",
      "Thummim . , the descendants of Parosh 26 and the Dung Gate . adjacent\n",
      "to them , in addition to forty shekels of silver . 14 Malkijah son of\n",
      "Hacaliah : It so happened that in the plaza in front of his colleagues\n",
      "and the Levites , to the LORD , the descendants of Tabbaoth , 47 the\n",
      "descendants of Neziah , the son of Hakoz , worked on the money , the\n",
      "descendants of Ater ( through Kadmiel , through the family leaders\n",
      "contributed to the Gentiles\n",
      "Book: Esther\n",
      "month ( that is , the month of Adar ) , on its thirteenth day of the\n",
      "king ’ s provinces ? , the Jews gave themselves rest from their\n",
      "enemies . annual basis . Haman stood to beg Queen Esther , and if the\n",
      "king ’ s provinces ? this letter and what had happened to them , 27\n",
      "the Jews who are throughout all the way from India to Ethiopia– a\n",
      "hundred and twenty-seven provinces in all– to each people in their own\n",
      "script and their own language , and sending gifts to one another , and\n",
      "it\n",
      "Book: Job\n"
     ]
    },
    {
     "name": "stderr",
     "output_type": "stream",
     "text": [
      "Building ngram index...\n",
      "Building ngram index...\n"
     ]
    },
    {
     "name": "stdout",
     "output_type": "stream",
     "text": [
      "no , so that you may not fall into judgment . . another so that you\n",
      "may be healed . Elijah was a human being like us , and they should\n",
      "pray . there was no rain on the land sprouted with a harvest . among\n",
      "you suffering ? he has committed sins , he will be forgiven . 13\n",
      "Prayer for the Sick Is anyone in good spirits ? fall into judgment .\n",
      "14 Is anyone among you suffering ? your sins to one another and pray\n",
      "for one another and pray for him and anoint him with olive\n",
      "Book: Psalm\n",
      "dancing ! ! Praise him in the sky , which testifies to his strength !\n",
      "the blast of the horn ! Praise him with stringed instruments and the\n",
      "flute ! Praise him with loud cymbals ! ! Praise him with loud cymbals\n",
      "! with clanging cymbals ! breath praise the LORD ! the LORD ! 1 Praise\n",
      "the LORD ! with stringed instruments and the harp ! ! acts ! 5 Praise\n",
      "him in the sky , which testifies to his strength ! Let everything that\n",
      "has breath praise the LORD ! the LORD ! Praise him for his mighty\n"
     ]
    },
    {
     "name": "stderr",
     "output_type": "stream",
     "text": [
      "Building ngram index...\n"
     ]
    },
    {
     "name": "stdout",
     "output_type": "stream",
     "text": [
      "Book: Proverbs\n"
     ]
    },
    {
     "name": "stderr",
     "output_type": "stream",
     "text": [
      "Building ngram index...\n"
     ]
    },
    {
     "name": "stdout",
     "output_type": "stream",
     "text": [
      "laugh when disaster strikes you like a charm for the day of battle ,\n",
      "but the lack of subjects is the person passing by who becomes furious\n",
      "over a poor person who lies will not go unpunished . , four that I may\n",
      "fill their treasuries . at reparation , but folly leads to death , and\n",
      "your plans will be paid back from his mouth ! 12 Hope deferred makes\n",
      "the face is reflected as a face , so a proverb has gone up into the\n",
      "dish , and you are found guilty . to instruction , to a\n",
      "Book: Ecclesiastes\n"
     ]
    },
    {
     "name": "stderr",
     "output_type": "stream",
     "text": [
      "Building ngram index...\n"
     ]
    },
    {
     "name": "stdout",
     "output_type": "stream",
     "text": [
      "joy , and a time to throw away ; 7 A time to embrace , and a time to\n",
      "be loyal to him , “ I am determined to comprehend this ” – but it was\n",
      "beyond my grasp . , no one ever listens to his eternal home , and to\n",
      "observe the activity on earth– even though he had been born poor in\n",
      "what would become his kingdom . are made for laughter , and a\n",
      "burdensome task that keeps them occupied . For no one can be added to\n",
      "it , no one knows his appointed time\n",
      "Book: Song of Solomon\n"
     ]
    },
    {
     "name": "stderr",
     "output_type": "stream",
     "text": [
      "Building ngram index...\n"
     ]
    },
    {
     "name": "stdout",
     "output_type": "stream",
     "text": [
      "his ; he grazes among the young does of the forest , so is my\n",
      "companion , O nobleman ’ s daughter ! , nursing at my mother ’ s\n",
      "VineyardThe Beloved to Her Lover : Tell me , they bruised me ; they\n",
      "made their rounds in the city . Plan and the Daughters of JerusalemThe\n",
      "Beloved to Her Lover : Set me like a flock of sheep coming up from the\n",
      "wilderness , leaning on her a battlement of silver ; but if she is\n",
      "spoken for ? 12 I was a wall , and to gather lilies\n",
      "Book: Isaiah\n"
     ]
    },
    {
     "name": "stderr",
     "output_type": "stream",
     "text": [
      "Building ngram index...\n"
     ]
    },
    {
     "name": "stdout",
     "output_type": "stream",
     "text": [
      "listen ! , the LORD has said to the message about Judah and captured\n",
      "it . all the stones ! 14 Like a frightened gazelle or a signal flag\n",
      "for a payoff , they will not be handed over to destruction , together\n",
      "with a broom , ” says the LORD previously announced about Moab :\n",
      "Indeed , you will call you , its evergreens , firs will grow in her\n",
      "again . too have become weak like us ! Look , his anger does not\n",
      "deliver him from his own vomit . from a scroll , so my deeds\n",
      "Book: Lamentations\n"
     ]
    },
    {
     "name": "stderr",
     "output_type": "stream",
     "text": [
      "Building ngram index...\n"
     ]
    },
    {
     "name": "stdout",
     "output_type": "stream",
     "text": [
      "her . ) The LORD himself has scattered them ; he has made those in\n",
      "Zion ; it is dried up , like an enemy has prevailed . Qof ) Those who\n",
      "died by the blood of the whole earth ! 14 The elders are gone from the\n",
      "hunter . these things ; my eyes flow with tears . Dalet ) The Lord has\n",
      "covered Daughter Zion ! do not let your tears flow like a yoke ; they\n",
      "found no resting place . . because my people are cruel , like an enemy\n",
      ", destroyed Israel . 19 ק\n",
      "Book: Ezekiel\n"
     ]
    },
    {
     "name": "stderr",
     "output_type": "stream",
     "text": [
      "Building ngram index...\n"
     ]
    },
    {
     "name": "stdout",
     "output_type": "stream",
     "text": [
      "near , the LORD when I speak to the LORD , my eye will not escape ! ,\n",
      "son of man , turn toward Sidon and Arvad were your clients ; they gave\n",
      "you your splendor . as fuel for the great abominations that the glory\n",
      "of the outer court . Hauran . up by his righteousness and practices\n",
      "wrongdoing according to his iniquity before his face so that your\n",
      "beauty . a lion among the nations . his burnt offering , the LORD when\n",
      "I turn the land of Egypt . . feet . 18 When I regather you\n",
      "Book: Hosea\n"
     ]
    },
    {
     "name": "stderr",
     "output_type": "stream",
     "text": [
      "Building ngram index...\n"
     ]
    },
    {
     "name": "stdout",
     "output_type": "stream",
     "text": [
      "increased in numbers , the more they rebelled against her God . , reap\n",
      "unfailing love . The Shameful Sinners Will Be Brought to Shame They\n",
      "consume their royal citadels . 12 I spelled out my fierce anger ! to\n",
      "her . I who lavished on her neck . distress on their beds ; They slash\n",
      "themselves for grain and new wine only deceives them . . became guilty\n",
      "by worshiping Baal and died . 16 “ At that time , ” declares the LORD\n",
      "is the place where Israel sins . you , O Israel ? him understand them\n",
      "Book: Joel\n"
     ]
    },
    {
     "name": "stderr",
     "output_type": "stream",
     "text": [
      "Building ngram index...\n"
     ]
    },
    {
     "name": "stdout",
     "output_type": "stream",
     "text": [
      "in Jerusalem there will not be anything like it ever before , and\n",
      "columns of smoke . , stomp the grapes , for the grain has dried up ;\n",
      "the stars refuse to shine . Those in front will be ! 14 Crowds , great\n",
      "crowds are in the Valley of Acacia Trees . they go in through the\n",
      "windows like a thief . I will pour out my Spirit in those days . drink\n",
      ". . been cut off right before our eyes ! 18 On that day will be turned\n",
      "to darkness and the gazam-locust– my great army\n",
      "Book: Amos\n"
     ]
    },
    {
     "name": "stderr",
     "output_type": "stream",
     "text": [
      "Building ngram index...\n"
     ]
    },
    {
     "name": "stdout",
     "output_type": "stream",
     "text": [
      "left ; the fire will consume her fortresses . , which you made the\n",
      "stench from the LORD says : “ Gather on the dirt-covered heads of all\n",
      "the people : “ I sent against you ! The Restoration of the altar and\n",
      "he said , “ when the plowman will catch up to the people , Israel ! 13\n",
      "For here he is ! too weak ! I will not happen either. festivals ! 1\n",
      "Listen to this message , you visionary ! city , is speaking ! 21 “ I\n",
      "sent against you in the morning , your\n",
      "Book: Jonah\n",
      "in it who do not know right from wrong , as well as many animals ! , “\n",
      "Are you really so very angry about the little plant ? about the little\n",
      "plant , something for which you have not worked nor did you do\n",
      "anything to make it grow . 11 Should I not be even more concerned\n",
      "about Nineveh , this enormous city ? upset about this little plant ?\n",
      "It grew up overnight and died the next day . do anything to make it\n",
      "grow . . be ! It grew up overnight and died the next\n",
      "Book: Nahum\n",
      "king of Assyria ! , the hills convulse ; the gates of your gods .\n",
      "against the sea , the hills convulse ; the mighty soldiers are dressed\n",
      "in scarlet garments . 12 The Assyrian Defenses Will Fail All your\n",
      "fortifications will be totally consumed like entangled thorn bushes ,\n",
      "like very dry stubble . tremble ; every stomach churns , all their\n",
      "faces have turned pale ! Nineveh The chariot drivers will crack their\n",
      "whips ; the chariot wheels will shake the ground ; the mighty soldiers\n",
      "are dressed in scarlet garments . feet . 11 Taunt against the\n"
     ]
    },
    {
     "name": "stderr",
     "output_type": "stream",
     "text": [
      "Building ngram index...\n",
      "Building ngram index...\n"
     ]
    },
    {
     "name": "stdout",
     "output_type": "stream",
     "text": [
      "Book: Habakkuk\n",
      "it . . a metal image that gives misleading oracles ? 13 You are too\n",
      "just to tolerate evil ; you are unable to condone wrongdoing . to his\n",
      "throw net . I long for the song leader . flattened . . commission your\n",
      "arrows . 16 Habakkuk Declares His Confidence I listened and my stomach\n",
      "churned ; the primeval hills were flattened . you , “ Violence ! in\n",
      "with his throw net ? violent acts against lands , cities , and the\n",
      "wooden rafters will answer back . 6 The Proud Babylonians Are as Good\n",
      "as Dead “\n",
      "Book: Zephaniah\n"
     ]
    },
    {
     "name": "stderr",
     "output_type": "stream",
     "text": [
      "Building ngram index...\n",
      "Building ngram index...\n"
     ]
    },
    {
     "name": "stdout",
     "output_type": "stream",
     "text": [
      "of David and of the idols from the earthquake in the land , and their\n",
      "wives by themselves ; 13 the clan of the streets in battle . , the\n",
      "LORD of Heaven ’ s Armies , so that they will remember in far-off\n",
      "places– they and their wives by themselves– 14 all the nations , and\n",
      "will stay in its own place from the way I was not sorry , 15 so , they\n",
      "will remember in far-off places– they and their wives by themselves ;\n",
      "the clan of the fat sheep and become scattered because they have no\n",
      "Book: Haggai\n",
      "of Heaven ’ s message came to the hill country , the LORD energized\n",
      "and encouraged Zerubbabel son of Jehozadak : 2 The Indifference of the\n",
      "People Then Zerubbabel son of Shealtiel , my servant , ’ says the LORD\n",
      "their God , the LORD of Heaven ’ s Armies . , this is what the LORD of\n",
      "Heaven ’ s Armies has said : ‘ I will overthrow chariots and those who\n",
      "ride them , and my Spirit even now testifies to you. all their effort\n",
      "; everything they offer is also unclean . Armies has declared. up to\n",
      "Book: Malachi\n"
     ]
    },
    {
     "name": "stderr",
     "output_type": "stream",
     "text": [
      "Building ngram index...\n",
      "Building ngram index...\n"
     ]
    },
    {
     "name": "stdout",
     "output_type": "stream",
     "text": [
      "not . , “ How have we offended you ? and refine them like gold and\n",
      "silver . Armies . who has even a root or branch . Rebellion of the\n",
      "LORD of Heaven ’ s Armies , “ yet I chose Jacob 3 and rejected Esau .\n",
      "him ? . entire tithe into the storehouse so that my covenant may\n",
      "continue to be happy ; indeed , those who practice evil are successful\n",
      ". 17 “ They will belong to me , so that there may be food in my name ,\n",
      "the sun of vindication will rise with\n",
      "Book: Matthew\n"
     ]
    },
    {
     "name": "stderr",
     "output_type": "stream",
     "text": [
      "Building ngram index...\n"
     ]
    },
    {
     "name": "stdout",
     "output_type": "stream",
     "text": [
      "light , and from the law until everything takes place . , teaching in\n",
      "their synagogues . and put it under a basket but on a road that leads\n",
      "to destruction , and a tooth for a fish , will give him a paralytic\n",
      "lying on a hill can not be like your Father , who sees in secret .\n",
      "Abraham as our father. turn the other to him , “ Yes , Lord. Stand up\n",
      ", take the child . good deeds and give honor to your Father ’ s\n",
      "Servant When he saw two brothers , 3 Judah\n",
      "Book: John\n"
     ]
    },
    {
     "name": "stderr",
     "output_type": "stream",
     "text": [
      "Building ngram index...\n",
      "Building ngram index...\n"
     ]
    },
    {
     "name": "stdout",
     "output_type": "stream",
     "text": [
      "mind , and all who heard about it . , the earth , the religious party\n",
      "of the angel who spoke to him and brought the money and placed it at\n",
      "the doors of the Sadducees ) , both Cyrenians and Alexandrians , as\n",
      "well as some from Cilicia and the star of the name . angel of the Holy\n",
      "Spirit , like your ancestors not persecute ? For there was grain in\n",
      "Egypt , 18 until another king who did not obey it. to his descendants\n",
      "after him , but you did not give any of his possessions was\n",
      "Book: Mark\n",
      "another with a loving kiss . . Peace to all of you who are in Christ .\n",
      "son . Mark , my son . Mark , my son . . Christ . you who are in Christ\n",
      ". all of you who are in Christ . to all of you who are in Christ . .\n",
      "with a loving kiss . . Peace to all of you who are in Christ . 14\n",
      "Greet one another with a loving kiss . Christ . who are in Christ .\n",
      "Peace to all of you who are in Christ . Christ .\n",
      "Book: James\n"
     ]
    },
    {
     "name": "stderr",
     "output_type": "stream",
     "text": [
      "Building ngram index...\n",
      "Building ngram index...\n",
      "Building ngram index...\n"
     ]
    },
    {
     "name": "stdout",
     "output_type": "stream",
     "text": [
      "it , my brothers and sisters . , unstable in all his ways . and not\n",
      "hypocritical . 12 Can a fig tree produce olives , my dear brothers and\n",
      "sisters , take the prophets who spoke in the gentleness that wisdom\n",
      "brings . to him for righteousness , ” for God can not be tempted by\n",
      "God , ” you are a puff of smoke that appears for a short time and then\n",
      "goes out and immediately forgets what sort of person he was . With it\n",
      "we bless the Lord , 8 since he is tempted , “\n",
      "Book: Luke\n",
      "of , most excellent Theophilus , 4 so that you may know for certain\n",
      "the things that have been fulfilled among us , 2 like the accounts\n",
      "passed on to us by those who were eyewitnesses and servants of the\n",
      "things you were taught . been fulfilled among us , 2 like the accounts\n",
      "passed on to us by those who were eyewitnesses and servants of the\n",
      "word from the beginning , to write an orderly account for you , most\n",
      "excellent Theophilus , 4 so that you may know for certain the things\n",
      "you were taught . I have\n",
      "Book: Jude\n",
      "maintain yourselves in the love of God , hating even the clothes\n",
      "stained by the very things that , like irrational animals , they will\n",
      "certainly perish in Korah ’ s rebellion . , peace , and they give\n",
      "bombastic speeches , enchanting folks for their own place of residence\n",
      ", he did not dare to bring a slanderous judgment , but said , “ May\n",
      "the Lord rebuke you ! be lavished on you ! For they have committed ,\n",
      "and insult the glorious ones . to keep you from falling , and to cause\n",
      "you to stand ,\n",
      "Book: Romans\n"
     ]
    },
    {
     "name": "stderr",
     "output_type": "stream",
     "text": [
      "Building ngram index...\n"
     ]
    },
    {
     "name": "stdout",
     "output_type": "stream",
     "text": [
      "long ; we were still sinners , Christ died . , so far as it is showing\n",
      "mercy , and if you do wrong because government does not depend on\n",
      "human desire or exertion , but on God who subjected it– in hope by the\n",
      "things required by the Spirit is your reasonable service . are not\n",
      "under law but under grace . And how are they to believe in him will\n",
      "see , and all who have not known. to governing . The Illustration of\n",
      "Justification Therefore , each of us all 17 ( as it is written ,\n",
      "Book: Acts\n",
      "miraculous signs came about by the predetermined plan and\n",
      "foreknowledge of God , and they began selling their property and\n",
      "possessions and distributing the proceeds to everyone , as many as the\n",
      "Spirit enabled them . , that he both died and was buried , and in all\n",
      "Judea and Samaria , and you will be changed to darkness and the parts\n",
      "of Libya near Cyrene , and you will be saved. and miraculous signs\n",
      "came about by the Holy Spirit from the pains of death , because each\n",
      "one of his descendants on his throne , 31 David by\n",
      "Book: 1 Peter\n"
     ]
    },
    {
     "name": "stderr",
     "output_type": "stream",
     "text": [
      "Building ngram index...\n",
      "Building ngram index...\n"
     ]
    },
    {
     "name": "stdout",
     "output_type": "stream",
     "text": [
      "like Sarah who obeyed Abraham , calling him lord . , since Christ also\n",
      "suffered once for sins , the lasting beauty of a gentle and tranquil\n",
      "spirit , which is much more valuable than gold– gold that is tested by\n",
      "fire is occurring among you , leaving an example for you to do what\n",
      "the non-Christians desire . attitude , because I am holy. Christ and\n",
      "his lips from uttering deceit . to his eternal glory in Christ will\n",
      "himself restore , confirm , strengthen , and so you rejoice with an\n",
      "indescribable and glorious joy , although you\n",
      "Book: 1 Timothy\n",
      "list , because by doing so you will be a good servant of Christ Jesus\n",
      "and the ones that are not only lazy , but godliness is a way of making\n",
      "a profit . , so that it may help the widows who are truly in need .\n",
      "are seared . Be conscientious about how you live and what you teach .\n",
      "to exhortation , to be received with thanksgiving . against an elder\n",
      "unless it can be confirmed by prophetic words when the elders laid\n",
      "hands on anyone hastily and so identify with the teaching that you\n",
      "have followed\n"
     ]
    },
    {
     "name": "stderr",
     "output_type": "stream",
     "text": [
      "Building ngram index...\n",
      "Building ngram index...\n"
     ]
    },
    {
     "name": "stdout",
     "output_type": "stream",
     "text": [
      "Book: 1 Corinthians\n",
      "jealousy ? , seek to abound in order to gain even more people . am not\n",
      "writing these things , believes all things . 13 But God chose what is\n",
      "low and despised in the sea , 2 to the church I want you to be\n",
      "trustworthy . to her husband is living . It is one and the one Spirit\n",
      ". for believers but for unbelievers . . comes , the gospel . 17 The\n",
      "Circumstances of Your Calling Nevertheless , as some of them were ,\n",
      "and to God . you , that our fathers were all baptized\n",
      "Book: 2 Corinthians\n",
      "mortal body . , so that the life of Jesus may also be made visible in\n",
      "our hearts , known and read by everyone , 3 revealing that you\n",
      "experience in your patient endurance of the glory of what replaced it\n",
      ". been removed because only in Christ , 11 as you share in our hearts\n",
      "so that each one may be able to comfort those experiencing any trouble\n",
      "with the comfort with which we ourselves are comforted , it is for\n",
      "your comfort that you may be able to comfort those experiencing any\n",
      "trouble with the Lord , who\n"
     ]
    },
    {
     "name": "stderr",
     "output_type": "stream",
     "text": [
      "Building ngram index...\n",
      "Building ngram index...\n"
     ]
    },
    {
     "name": "stdout",
     "output_type": "stream",
     "text": [
      "Book: Titus\n",
      "left you in Crete was to set in order the remaining matters and to\n",
      "live self-controlled , sound in faith , in love , and fights about the\n",
      "law , because they mislead whole families by teaching for dishonest\n",
      "gain what ought not to be ready for every good work . , quarrels , and\n",
      "in endurance . as it has been taught , so that any opponent will be\n",
      "able to give exhortation in such healthy teaching and correct those\n",
      "who have placed their faith in God may be healthy in the present age ,\n",
      "13 as we wait\n",
      "Book: Galatians\n"
     ]
    },
    {
     "name": "stderr",
     "output_type": "stream",
     "text": [
      "Building ngram index...\n"
     ]
    },
    {
     "name": "stdout",
     "output_type": "stream",
     "text": [
      "let him be condemned to hell ! , so it is written that Abraham had two\n",
      "sons , one by the free woman . and peace to you , 14 and though my\n",
      "physical condition put you to know , brothers and sisters , I am\n",
      "writing to you with my own hand ! And if you are Abraham ’ s\n",
      "Vindication of His Apostleship Now I want you to the promises of God\n",
      "Are Heirs of Promise Now before faith came we were held in custody\n",
      "under the law or by believing what you want . to him as\n",
      "Book: Ephesians\n"
     ]
    },
    {
     "name": "stderr",
     "output_type": "stream",
     "text": [
      "Building ngram index...\n"
     ]
    },
    {
     "name": "stdout",
     "output_type": "stream",
     "text": [
      "near , 18 so that you will be able to do far beyond all that we , who\n",
      "were far off and peace to you for this is right . , putting up with\n",
      "one another . but holy and blameless . Jesus Christ ! to love their\n",
      "wives as their own bodies . and members of his grace in kindness\n",
      "toward us in Christ when he raised us up together with him and were by\n",
      "nature children of wrath even as the truth in love , 3 that by\n",
      "revelation the mystery was made known to you from God\n",
      "Book: Philippians\n",
      "know , at the name that is , I am confident in the Lord because of me\n",
      ". , not because I have received everything , and in the gospel all of\n",
      "you . and peace to you . Father and the effort– for the defense and\n",
      "confirmation of the gospel . this because I received from Epaphroditus\n",
      "what you can be free from anxiety . a gift . goodwill . . do anything\n",
      ". ) 16 The latter do so from love because they think they can cause\n",
      "trouble for me , brothers and sisters , rejoice ! you\n",
      "Book: Colossians\n"
     ]
    },
    {
     "name": "stderr",
     "output_type": "stream",
     "text": [
      "Building ngram index...\n",
      "Building ngram index...\n"
     ]
    },
    {
     "name": "stdout",
     "output_type": "stream",
     "text": [
      "know how great a struggle I have for all the news about me . , so it\n",
      "has also been bearing fruit and growing , so that you heard . as the\n",
      "reward . Demas greet you . to his power that powerfully works in me .\n",
      "against them . have all the news about me . . fill up in him . 15 The\n",
      "Supremacy of Christ He is the image of the church that meets in her\n",
      "house . you , the faithful brothers and sisters in Christ .\n",
      "inheritance in the name of the one who does\n",
      "Book: 1 Thessalonians\n",
      "loved by God , who examines our hearts . , so also we believe that God\n",
      "will bring with him those who labor among you who believe . are not of\n",
      "course you ? For those who have fallen asleep . want you to increase\n",
      "and abound in love because of their work . all our distress and\n",
      "affliction , and so is God , who are asleep , so that they may be\n",
      "saved . go ahead of those who get drunk are drunk at night and day to\n",
      "see us just as we commanded you . . do\n",
      "Book: 2 Thessalonians\n"
     ]
    },
    {
     "name": "stderr",
     "output_type": "stream",
     "text": [
      "Building ngram index...\n",
      "Building ngram index...\n"
     ]
    },
    {
     "name": "stdout",
     "output_type": "stream",
     "text": [
      "may be ashamed . , so that he will strengthen you and protect you from\n",
      "the glory of his arrival . at work . It was not because we did not\n",
      "behave without discipline among you , brothers and sisters , stand\n",
      "firm and hold on to the tradition they received from us , brothers and\n",
      "sisters , that the name of our God will make you worthy of his mouth\n",
      "and wipe out by the Lord Jesus is revealed , whom the Lord Jesus\n",
      "Christ , to keep away from the glory of his calling and fulfill by his\n",
      "Book: 2 Timothy\n"
     ]
    },
    {
     "name": "stderr",
     "output_type": "stream",
     "text": [
      "Building ngram index...\n",
      "Building ngram index...\n"
     ]
    },
    {
     "name": "stdout",
     "output_type": "stream",
     "text": [
      "in Christ Jesus . , my dear child . also oppose the truth . 12 If we\n",
      "are unfaithful , he will also live with him . through the gospel .\n",
      "Lord knows those who listen . faith ! . charge them before the Lord ’\n",
      "s message is not imprisoned ! 14 You , however , have followed my\n",
      "teaching , my endurance , 11 as well . worker who does not need to be\n",
      "ashamed of my hands . his will . trap where they are undermining some\n",
      "people ’ s work , fulfill your ministry . .\n",
      "Book: Philemon\n",
      "knew that you owe me your very self . , greets you . am asking you to\n",
      "do . Chapter 1 1 ¶ Salutation From Paul , a prisoner for the hearts of\n",
      "the Lord Jesus and your love for all the saints have been refreshed\n",
      "through you , brother . too . Love and Faith I always thank my God as\n",
      "I remember you in my prayers , 5 because I hear of your faith in the\n",
      "Lord Jesus Christ be with your spirit . for Onesimus So , although I\n",
      "have become during my imprisonment for the sake\n",
      "Book: 2 Peter\n",
      "men , 8 ( for while he lived among them day after day , the heavens\n",
      "will disappear with a human voice , restrained the prophet ’ s own\n",
      "imagination , 21 for no prophecy was ever borne of human impulse ;\n",
      "rather , men carried along by the error of these things the world\n",
      "through the righteousness of our Lord and Savior Jesus Christ more\n",
      "intimately . , the heavens will disappear with a horrific noise , and\n",
      "to reserve the unrighteous for punishment at the day of judgment and\n",
      "destruction of the day dawns and the morning star\n",
      "Book: 1 John\n"
     ]
    },
    {
     "name": "stderr",
     "output_type": "stream",
     "text": [
      "Building ngram index...\n",
      "Building ngram index...\n"
     ]
    },
    {
     "name": "stdout",
     "output_type": "stream",
     "text": [
      "know . , let no one deceive you . because of his Son . ) Christian is\n",
      "a liar , and in him . to take away sins , and the world ( the desire\n",
      "of the Son of God was revealed , and the blood . according to his will\n",
      ", he hears us . he has not believed in the presence of God so loved us\n",
      ", so that we believe in the light , and this is the gospel message\n",
      "that you received from him , because he has seen can not love his\n",
      "fellow Christian committing\n",
      "Book: 2 John\n",
      "into the world , people who do not lose the things we have had from\n",
      "the beginning ; thus you should walk in it . , mercy , and peace will\n",
      "be with us forever . and love . Conclusion Though I have found some of\n",
      "your children living according to his commandments . ) to face , so\n",
      "that you do not confess Jesus as Christ coming in the teaching of\n",
      "Christ does not have God . Though I have found some of your children\n",
      "living according to the truth , just as you have heard from the\n",
      "beginning\n",
      "Book: 3 John\n",
      "just as it is well with your soul . , just as it is well with you .\n",
      "and that you may be in good health , just as you are living according\n",
      "to the truth . 11 Dear friend , I pray that all may go well with your\n",
      "soul . truth . I hope to see you right away , and we will speak face\n",
      "to face . friend , you demonstrate faithfulness by whatever you do for\n",
      "the brothers ( even though they are strangers ) . . content with that\n",
      ", he not only refuses to\n"
     ]
    },
    {
     "name": "stderr",
     "output_type": "stream",
     "text": [
      "Building ngram index...\n",
      "Building ngram index...\n"
     ]
    },
    {
     "name": "stdout",
     "output_type": "stream",
     "text": [
      "Book: Revelation\n"
     ]
    },
    {
     "name": "stderr",
     "output_type": "stream",
     "text": [
      "Building ngram index...\n"
     ]
    },
    {
     "name": "stdout",
     "output_type": "stream",
     "text": [
      "nor any burning heat , yet they blasphemed God because of the Lamb , 5\n",
      "and from the tribe of Reuben , twelve thousand were sealed , from the\n",
      "temple of my God and of the temple of my mouth . , saying , “ These\n",
      "words are reliable and true . before the throne , 8 and all that is\n",
      "before the throne and from the hour of testing that is , and with him\n",
      "the plagues described in this book . If anyone adds to them , and all\n",
      "the saints ) . to make war with the\n"
     ]
    }
   ],
   "source": [
    "#NET\n",
    "\n",
    "#This function tokenizes and then runs NLTK's generate on each book of the Bible. \n",
    "# Function to tokenize a given text\n",
    "def tokenize_text(text):\n",
    "    return nltk.tokenize.word_tokenize(text)\n",
    "\n",
    "# Function to generate text based on tokenized input\n",
    "def generate_text(tokens):\n",
    "    nltk.Text(tokens).generate()\n",
    "\n",
    "# Assuming you have a dictionary 'bible_books' where each key is a book of the Bible and the value is the text of that book\n",
    "# You can tokenize each book separately and generate text\n",
    "for book, text in Split_NET.items():\n",
    "    tokens = tokenize_text(text)\n",
    "    print(f\"Book: {book}\")\n",
    "    generate_text(tokens)"
   ]
  },
  {
   "cell_type": "code",
   "execution_count": 20,
   "id": "18b6e2a2-fa05-462d-b792-c48c915d7217",
   "metadata": {},
   "outputs": [
    {
     "name": "stdout",
     "output_type": "stream",
     "text": [
      "Topic 22: 0.002*\"unto\" + 0.002*\"lord\" + 0.001*\"shall\" + 0.001*\"thou\" + 0.001*\"thee\" + 0.001*\"came\" + 0.001*\"said\" + 0.001*\"god\" + 0.001*\"thy\" + 0.001*\"ye\"\n",
      "Topic 13: 0.004*\"unto\" + 0.003*\"shall\" + 0.002*\"lord\" + 0.002*\"thy\" + 0.002*\"thee\" + 0.002*\"said\" + 0.002*\"ye\" + 0.001*\"god\" + 0.001*\"thou\" + 0.001*\"upon\"\n",
      "Topic 56: 0.006*\"unto\" + 0.004*\"lord\" + 0.003*\"shall\" + 0.002*\"god\" + 0.002*\"thou\" + 0.002*\"thy\" + 0.002*\"said\" + 0.002*\"thee\" + 0.001*\"ye\" + 0.001*\"israel\"\n",
      "Topic 54: 0.027*\"ye\" + 0.017*\"shall\" + 0.017*\"man\" + 0.011*\"works\" + 0.011*\"lord\" + 0.009*\"things\" + 0.009*\"unto\" + 0.009*\"god\" + 0.008*\"thou\" + 0.008*\"brethren\"\n",
      "Topic 4: 0.033*\"god\" + 0.024*\"christ\" + 0.022*\"ye\" + 0.019*\"unto\" + 0.017*\"things\" + 0.015*\"also\" + 0.012*\"jesus\" + 0.010*\"lord\" + 0.010*\"one\" + 0.010*\"law\"\n",
      "Topic 25: 0.036*\"shall\" + 0.021*\"man\" + 0.017*\"thy\" + 0.014*\"thou\" + 0.010*\"lord\" + 0.010*\"hath\" + 0.010*\"heart\" + 0.009*\"unto\" + 0.007*\"thee\" + 0.007*\"wicked\"\n",
      "Topic 46: 0.003*\"lord\" + 0.003*\"unto\" + 0.003*\"shall\" + 0.002*\"ye\" + 0.002*\"god\" + 0.002*\"said\" + 0.001*\"thou\" + 0.001*\"thee\" + 0.001*\"israel\" + 0.001*\"hath\"\n",
      "Topic 28: 0.040*\"saul\" + 0.032*\"david\" + 0.032*\"lord\" + 0.027*\"said\" + 0.022*\"unto\" + 0.018*\"samuel\" + 0.016*\"thee\" + 0.014*\"philistines\" + 0.012*\"thou\" + 0.010*\"came\"\n",
      "Topic 18: 0.020*\"let\" + 0.017*\"shall\" + 0.014*\"lord\" + 0.010*\"one\" + 0.010*\"neither\" + 0.010*\"earth\" + 0.010*\"pray\" + 0.009*\"pitiful\" + 0.007*\"ye\" + 0.007*\"man\"\n",
      "Topic 7: 0.046*\"levites\" + 0.025*\"god\" + 0.022*\"sabbath\" + 0.021*\"gate\" + 0.020*\"tobiah\" + 0.020*\"children\" + 0.018*\"singers\" + 0.017*\"wall\" + 0.013*\"jerusalem\" + 0.013*\"priests\"\n",
      "Topic 20: 0.004*\"unto\" + 0.003*\"lord\" + 0.002*\"shall\" + 0.002*\"said\" + 0.002*\"thou\" + 0.002*\"israel\" + 0.002*\"thy\" + 0.002*\"man\" + 0.002*\"god\" + 0.001*\"upon\"\n",
      "Topic 27: 0.018*\"unto\" + 0.015*\"lord\" + 0.015*\"ungodly\" + 0.010*\"jesus\" + 0.010*\"god\" + 0.010*\"christ\" + 0.008*\"ye\" + 0.008*\"reserved\" + 0.007*\"beloved\" + 0.006*\"men\"\n",
      "Topic 9: 0.006*\"unto\" + 0.003*\"lord\" + 0.003*\"shall\" + 0.003*\"said\" + 0.003*\"thou\" + 0.002*\"god\" + 0.002*\"thee\" + 0.001*\"upon\" + 0.001*\"thy\" + 0.001*\"ye\"\n",
      "Topic 58: 0.042*\"babylon\" + 0.038*\"king\" + 0.018*\"year\" + 0.018*\"guard\" + 0.017*\"carried\" + 0.014*\"captain\" + 0.014*\"jerusalem\" + 0.014*\"city\" + 0.012*\"month\" + 0.012*\"land\"\n",
      "Topic 33: 0.006*\"unto\" + 0.005*\"shall\" + 0.003*\"lord\" + 0.003*\"said\" + 0.003*\"thou\" + 0.002*\"ye\" + 0.002*\"god\" + 0.002*\"thy\" + 0.002*\"man\" + 0.002*\"came\"\n",
      "Topic 38: 0.002*\"lord\" + 0.002*\"shall\" + 0.001*\"unto\" + 0.001*\"god\" + 0.001*\"said\" + 0.001*\"thee\" + 0.001*\"thy\" + 0.001*\"thou\" + 0.001*\"ye\" + 0.001*\"hath\"\n",
      "Topic 31: 0.004*\"unto\" + 0.003*\"shall\" + 0.002*\"thy\" + 0.002*\"said\" + 0.002*\"lord\" + 0.002*\"god\" + 0.002*\"thou\" + 0.002*\"thee\" + 0.001*\"king\" + 0.001*\"israel\"\n",
      "Topic 37: 0.031*\"unto\" + 0.016*\"shall\" + 0.014*\"said\" + 0.013*\"ye\" + 0.012*\"jesus\" + 0.012*\"man\" + 0.011*\"god\" + 0.010*\"thou\" + 0.009*\"son\" + 0.009*\"came\"\n",
      "Topic 34: 0.039*\"god\" + 0.036*\"ye\" + 0.019*\"us\" + 0.018*\"unto\" + 0.016*\"lord\" + 0.015*\"christ\" + 0.013*\"know\" + 0.012*\"jesus\" + 0.012*\"hath\" + 0.011*\"shall\"\n",
      "Topic 12: 0.002*\"unto\" + 0.001*\"shall\" + 0.001*\"said\" + 0.001*\"god\" + 0.001*\"thou\" + 0.001*\"thy\" + 0.001*\"man\" + 0.001*\"thee\" + 0.001*\"ye\" + 0.001*\"lord\"\n"
     ]
    }
   ],
   "source": [
    "# Assuming you have a dictionary 'bible_books' where each key is a book of the Bible and the value is the text of that book\n",
    "# Tokenization and preprocessing\n",
    "tokenized_books = {book: nltk.tokenize.word_tokenize(text.lower()) for book, text in Split_KJV.items()}\n",
    "stop_words = set(nltk.corpus.stopwords.words('english'))\n",
    "tokenized_books = {book: [word for word in tokens if word not in stop_words and word.isalnum()] for book, tokens in tokenized_books.items()}\n",
    "\n",
    "# Creating a dictionary and corpus\n",
    "dictionary = corpora.Dictionary(tokenized_books.values())\n",
    "corpus = [dictionary.doc2bow(tokens) for tokens in tokenized_books.values()]\n",
    "\n",
    "# Topic modeling using LDA\n",
    "num_topics = 66  \n",
    "lda_model = models.LdaModel(corpus, num_topics=num_topics, id2word=dictionary, passes=10)\n",
    "\n",
    "# Printing the topics\n",
    "for topic_id, topic_words in lda_model.print_topics():\n",
    "    print(f\"Topic {topic_id}: {topic_words}\")"
   ]
  },
  {
   "cell_type": "code",
   "execution_count": 22,
   "id": "32833ce9-c58e-4137-bd6d-ec6a27f27e5e",
   "metadata": {},
   "outputs": [],
   "source": [
    "topic_proportions = []\n",
    "for doc_topics in lda_model[corpus]:\n",
    "    topic_proportions.append({topic_id: proportion for topic_id, proportion in doc_topics})\n",
    "\n",
    "# Create DataFrame from topic proportions\n",
    "df_topics = pd.DataFrame(topic_proportions)"
   ]
  },
  {
   "cell_type": "code",
   "execution_count": 23,
   "id": "2d888b2b-7975-4566-a0fa-64c0658183fc",
   "metadata": {},
   "outputs": [
    {
     "data": {
      "text/plain": [
       "(66, 26)"
      ]
     },
     "execution_count": 23,
     "metadata": {},
     "output_type": "execute_result"
    }
   ],
   "source": [
    "df_topics.shape"
   ]
  },
  {
   "cell_type": "code",
   "execution_count": 24,
   "id": "c36b404a-d48a-4c8b-8bba-05cb11f855b7",
   "metadata": {},
   "outputs": [],
   "source": []
  },
  {
   "cell_type": "code",
   "execution_count": null,
   "id": "8fe3be9e-f11f-4e96-9c12-fbfe6da1ad3d",
   "metadata": {},
   "outputs": [],
   "source": []
  }
 ],
 "metadata": {
  "kernelspec": {
   "display_name": "Python 3 (ipykernel)",
   "language": "python",
   "name": "python3"
  },
  "language_info": {
   "codemirror_mode": {
    "name": "ipython",
    "version": 3
   },
   "file_extension": ".py",
   "mimetype": "text/x-python",
   "name": "python",
   "nbconvert_exporter": "python",
   "pygments_lexer": "ipython3",
   "version": "3.11.7"
  }
 },
 "nbformat": 4,
 "nbformat_minor": 5
}
