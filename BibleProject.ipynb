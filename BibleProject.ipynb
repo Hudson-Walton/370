{
 "cells": [
  {
   "cell_type": "markdown",
   "id": "89c59094-9736-4e0b-a8de-b095ddba4cbf",
   "metadata": {},
   "source": [
    "The main purpose of this notebook is to compare different Translations of the Bible.\n",
    "I will be comparing the different translation to see if the overall structure of the translations stays the same, despite the differences in grammer.\n",
    "I would like to see if different translations tell slighlty different stories, or if the overall message is the same.\n",
    "\n",
    "The main reason that I am using these verison of the bible is because they were easily available. These translations were easy to get off of the web and were very user friendly.\n",
    "\n",
    "My personal main interest is the KJV version. KJV is a very popular version in my church and in christianity in general.\n",
    "\n",
    "I am intending to use this project to help me learn more about the Bible. I think it is really interesting using code to pick apart the Bible like I never have before."
   ]
  },
  {
   "cell_type": "code",
   "execution_count": 2,
   "id": "4bc42c6e-093c-462e-a518-7720f8830581",
   "metadata": {},
   "outputs": [
    {
     "name": "stderr",
     "output_type": "stream",
     "text": [
      "[nltk_data] Downloading package stopwords to\n",
      "[nltk_data]     C:\\Users\\Hudso\\AppData\\Roaming\\nltk_data...\n",
      "[nltk_data]   Package stopwords is already up-to-date!\n",
      "[nltk_data] Downloading package tagsets to\n",
      "[nltk_data]     C:\\Users\\Hudso\\AppData\\Roaming\\nltk_data...\n",
      "[nltk_data]   Package tagsets is already up-to-date!\n",
      "[nltk_data] Downloading package averaged_perceptron_tagger to\n",
      "[nltk_data]     C:\\Users\\Hudso\\AppData\\Roaming\\nltk_data...\n",
      "[nltk_data]   Package averaged_perceptron_tagger is already up-to-\n",
      "[nltk_data]       date!\n"
     ]
    }
   ],
   "source": [
    "#Import all necessary tools and tools that may be used in the future\n",
    "\n",
    "\n",
    "\n",
    "import numpy as np\n",
    "import matplotlib.pyplot as plt\n",
    "import re\n",
    "import nltk\n",
    "import pandas as pd\n",
    "from nltk.tokenize import word_tokenize, wordpunct_tokenize\n",
    "from sklearn.feature_extraction.text import CountVectorizer\n",
    "from nltk.stem import WordNetLemmatizer\n",
    "\n",
    "\n",
    "\n",
    "\n",
    "\n",
    "nltk.download('punkt')\n",
    "from nltk.stem import PorterStemmer\n",
    "import string\n",
    "\n",
    "from nltk.corpus import stopwords\n",
    "nltk.download('stopwords')\n",
    "stoplist = stopwords.words('english')\n",
    "nltk.download(\"tagsets\")\n",
    "nltk.download('averaged_perceptron_tagger')\n",
    "\n",
    "\n",
    "\n",
    "%matplotlib inline\n",
    "plt.rcParams['figure.figsize'] = (12, 6)\n",
    "plt.rcParams['figure.dpi'] = 300"
   ]
  },
  {
   "cell_type": "code",
   "execution_count": 3,
   "id": "79207157-8f4e-4b8e-a4e9-2ab4546ae0ba",
   "metadata": {},
   "outputs": [],
   "source": [
    "#To do List\n",
    "\n",
    "#Break Bibles into Books\n",
    "\n",
    "#Get rid of names in data\n",
    "#Potentially use stopwords list\n"
   ]
  },
  {
   "cell_type": "code",
   "execution_count": 4,
   "id": "a968d729-cc08-42e0-bdad-277132cb15bd",
   "metadata": {},
   "outputs": [],
   "source": [
    "# First we open the file:\n",
    "# TYN is commented out because of errors in the text file, keeping it commented in the case that a use?fix is found for it it the future\n",
    "KJV_file = open('/Users/Hudso/OneDrive/Documents/GitHub/text-as-data/people/Bibledata/kjv.txt', 'r',encoding='utf-8')\n",
    "ASV_file = open('/Users/Hudso/OneDrive/Documents/GitHub/text-as-data/people/Bibledata/asv.txt', 'r',encoding='utf-8')\n",
    "#TYN_file = open('/Users/Hudso/OneDrive/Documents/GitHub/text-as-data/people/Bibledata/tyndale.txt', 'r',encoding='utf-8')\n",
    "WEB_file = open('/Users/Hudso/OneDrive/Documents/GitHub/text-as-data/people/Bibledata/web.txt', 'r',encoding='utf-8')\n",
    "NET_file = open('/Users/Hudso/OneDrive/Documents/GitHub/text-as-data/people/Bibledata/net.txt', 'r',encoding='utf-8')\n",
    "\n",
    "# Then we read the file:\n",
    "KJV = KJV_file.read()\n",
    "ASV = ASV_file.read()\n",
    "#TYN = TYN_file.read()\n",
    "WEB = WEB_file.read()\n",
    "NET = NET_file.read()"
   ]
  },
  {
   "cell_type": "code",
   "execution_count": 7,
   "id": "eab2c224-27f3-4aed-811a-8903154d288a",
   "metadata": {},
   "outputs": [],
   "source": [
    "#Create List\n",
    "#List that contains all of the current data to be used in a vectorizer\n",
    "Bible_List = [KJV,ASV,WEB,NET]\n",
    "\n",
    "KJV_List = [KJV]\n",
    "ASV_List = [ASV]\n",
    "WEB_List = [WEB]\n",
    "NET_List = [NET]"
   ]
  },
  {
   "cell_type": "code",
   "execution_count": 9,
   "id": "765c42ca-5bac-462e-a5e6-a2ec4080ad5d",
   "metadata": {},
   "outputs": [],
   "source": [
    "#Tokenize\n",
    "#Tokenize list\n",
    "KJV_Token = [word for word in re.sub(\"[^a-zA-Z']\",\" \", KJV_List[0]).lower().split()]\n",
    "\n",
    "ASV_Token = [word for word in re.sub(\"[^a-zA-Z']\",\" \", ASV_List[0]).lower().split()]\n",
    "\n",
    "WEB_Token = [word for word in re.sub(\"[^a-zA-Z']\",\" \", WEB_List[0]).lower().split()]\n",
    "\n",
    "NET_Token = [word for word in re.sub(\"[^a-zA-Z']\",\" \", NET_List[0]).lower().split()]\n",
    "\n",
    "Corpus_Token = [word for word in re.sub(\"[^a-zA-Z']\",\" \", Bible_List[3]).lower().split()]\n"
   ]
  },
  {
   "cell_type": "code",
   "execution_count": 12,
   "id": "7559a24a-2415-4c5a-8f4d-1ba8cfa6ab72",
   "metadata": {},
   "outputs": [],
   "source": [
    "#Split the versions into old and new Testament\n",
    "\n",
    "def split(text):\n",
    "    # Find the index of the known point where the Old Testament ends and the New Testament begins\n",
    "    split_index = text.find(\"Matthew\") + len(\"Malachi\")  # Adjust if necessary\n",
    "    \n",
    "    # Split the text into Old Testament and New Testament\n",
    "    old_testament_text = text[:split_index]\n",
    "    new_testament_text = text[split_index:]\n",
    "    \n",
    "    return old_testament_text, new_testament_text"
   ]
  },
  {
   "cell_type": "code",
   "execution_count": 16,
   "id": "e8b298aa-fab9-4d55-8967-b75ddf3fc42e",
   "metadata": {},
   "outputs": [],
   "source": [
    "# Use function to split all translations into old and new\n",
    "\n",
    "Old_Test_KJV, New_Test_KJV = split(KJV)\n",
    "\n",
    "Old_Test_ASV, New_Test_ASV = split(ASV)\n",
    "\n",
    "Old_Test_WEB, New_Test_WEB = split(WEB)\n",
    "\n",
    "Old_Test_NET, New_Test_NET = split(NET)"
   ]
  },
  {
   "cell_type": "code",
   "execution_count": 17,
   "id": "1e0215e9-d89f-4a11-a240-c63a56f95321",
   "metadata": {},
   "outputs": [],
   "source": [
    "# Turn old and new testament variables to List\n",
    "\n",
    "KJV_New = [New_Test_KJV]\n",
    "KJV_Old = [Old_Test_KJV]\n",
    "\n",
    "ASV_New = [New_Test_ASV]\n",
    "ASV_Old = [Old_Test_ASV]\n",
    "\n",
    "WEB_New = [New_Test_WEB]\n",
    "WEB_Old = [Old_Test_WEB]\n",
    "\n",
    "NET_New = [New_Test_NET]\n",
    "NET_Old = [Old_Test_NET]\n"
   ]
  },
  {
   "cell_type": "code",
   "execution_count": 18,
   "id": "9f319dec-70fe-459c-9b0b-e850f2134fbc",
   "metadata": {},
   "outputs": [],
   "source": [
    "#Tokenize Old and New testament versions\n",
    "\n",
    "KJV_Old_Token = [word for word in re.sub(\"[^a-zA-Z']\",\" \", KJV_Old[0]).lower().split()]\n",
    "KJV_New_Token = [word for word in re.sub(\"[^a-zA-Z']\",\" \", KJV_New[0]).lower().split()]\n",
    "\n",
    "ASV_Old_Token = [word for word in re.sub(\"[^a-zA-Z']\",\" \", ASV_Old[0]).lower().split()]\n",
    "ASV_New_Token = [word for word in re.sub(\"[^a-zA-Z']\",\" \", ASV_New[0]).lower().split()]\n",
    "\n",
    "WEB_Old_Token = [word for word in re.sub(\"[^a-zA-Z']\",\" \", WEB_Old[0]).lower().split()]\n",
    "WEB_New_Token = [word for word in re.sub(\"[^a-zA-Z']\",\" \", WEB_New[0]).lower().split()]\n",
    "\n",
    "NET_Old_Token = [word for word in re.sub(\"[^a-zA-Z']\",\" \", NET_Old[0]).lower().split()]\n",
    "NET_New_Token = [word for word in re.sub(\"[^a-zA-Z']\",\" \", NET_New[0]).lower().split()]\n"
   ]
  },
  {
   "cell_type": "code",
   "execution_count": 35,
   "id": "d76bab59-5bb4-4cf7-b213-ccf94f66ac8b",
   "metadata": {},
   "outputs": [],
   "source": [
    "#Vectorize\n",
    "#Vectorizes list of data and shows the shape(colums and rows)\n",
    "\n",
    "vectorizer = CountVectorizer()\n",
    "\n",
    "Corpus_Vector = vectorizer.fit_transform(Bible_List)\n",
    "\n",
    "KJV_Vector = vectorizer.transform(KJV_List)\n",
    "\n",
    "ASV_Vector = vectorizer.transform(ASV_List)\n",
    "\n",
    "WEB_Vector = vectorizer.transform(WEB_List)\n",
    "\n",
    "NET_Vector = vectorizer.transform(NET_List)\n",
    "\n"
   ]
  },
  {
   "cell_type": "code",
   "execution_count": 50,
   "id": "ed27f71a-8889-4430-b315-6270311265c3",
   "metadata": {},
   "outputs": [],
   "source": [
    "# Now vecotrize old and new testament versions\n",
    "\n",
    "KJV_New_Vector = vectorizer.transform(KJV_New)\n",
    "KJV_Old_Vector = vectorizer.transform(KJV_Old)\n",
    "\n",
    "ASV_New_Vector = vectorizer.transform(ASV_New)\n",
    "ASV_Old_Vector = vectorizer.transform(ASV_Old)\n",
    "\n",
    "WEB_New_Vector = vectorizer.transform(WEB_New)\n",
    "WEB_Old_Vector = vectorizer.transform(WEB_Old)\n",
    "\n",
    "NET_New_Vector = vectorizer.transform(NET_New)\n",
    "NET_Old_Vector = vectorizer.transform(NET_Old)\n"
   ]
  },
  {
   "cell_type": "markdown",
   "id": "0517c269-3033-40a0-a4b1-c3e710dce296",
   "metadata": {},
   "source": [
    "I will now make dtms of my 8 different versions"
   ]
  },
  {
   "cell_type": "code",
   "execution_count": 38,
   "id": "8b6cda5f-5721-42e7-a61a-dbaa089ce0fe",
   "metadata": {},
   "outputs": [
    {
     "data": {
      "text/html": [
       "<div>\n",
       "<style scoped>\n",
       "    .dataframe tbody tr th:only-of-type {\n",
       "        vertical-align: middle;\n",
       "    }\n",
       "\n",
       "    .dataframe tbody tr th {\n",
       "        vertical-align: top;\n",
       "    }\n",
       "\n",
       "    .dataframe thead th {\n",
       "        text-align: right;\n",
       "    }\n",
       "</style>\n",
       "<table border=\"1\" class=\"dataframe\">\n",
       "  <thead>\n",
       "    <tr style=\"text-align: right;\">\n",
       "      <th></th>\n",
       "      <th>000</th>\n",
       "      <th>000edomites</th>\n",
       "      <th>005</th>\n",
       "      <th>017</th>\n",
       "      <th>023</th>\n",
       "      <th>034</th>\n",
       "      <th>052</th>\n",
       "      <th>056</th>\n",
       "      <th>067</th>\n",
       "      <th>070</th>\n",
       "      <th>...</th>\n",
       "      <th>zorites</th>\n",
       "      <th>zorobabel</th>\n",
       "      <th>zuar</th>\n",
       "      <th>zuph</th>\n",
       "      <th>zur</th>\n",
       "      <th>zuriel</th>\n",
       "      <th>zurishaddai</th>\n",
       "      <th>zuzim</th>\n",
       "      <th>zuzims</th>\n",
       "      <th>zuzites</th>\n",
       "    </tr>\n",
       "  </thead>\n",
       "  <tbody>\n",
       "    <tr>\n",
       "      <th>0</th>\n",
       "      <td>0</td>\n",
       "      <td>0</td>\n",
       "      <td>0</td>\n",
       "      <td>0</td>\n",
       "      <td>0</td>\n",
       "      <td>0</td>\n",
       "      <td>0</td>\n",
       "      <td>0</td>\n",
       "      <td>0</td>\n",
       "      <td>0</td>\n",
       "      <td>...</td>\n",
       "      <td>1</td>\n",
       "      <td>3</td>\n",
       "      <td>5</td>\n",
       "      <td>3</td>\n",
       "      <td>5</td>\n",
       "      <td>1</td>\n",
       "      <td>5</td>\n",
       "      <td>0</td>\n",
       "      <td>1</td>\n",
       "      <td>0</td>\n",
       "    </tr>\n",
       "    <tr>\n",
       "      <th>1</th>\n",
       "      <td>0</td>\n",
       "      <td>0</td>\n",
       "      <td>0</td>\n",
       "      <td>0</td>\n",
       "      <td>0</td>\n",
       "      <td>0</td>\n",
       "      <td>0</td>\n",
       "      <td>0</td>\n",
       "      <td>0</td>\n",
       "      <td>0</td>\n",
       "      <td>...</td>\n",
       "      <td>1</td>\n",
       "      <td>0</td>\n",
       "      <td>5</td>\n",
       "      <td>3</td>\n",
       "      <td>9</td>\n",
       "      <td>1</td>\n",
       "      <td>5</td>\n",
       "      <td>1</td>\n",
       "      <td>0</td>\n",
       "      <td>0</td>\n",
       "    </tr>\n",
       "    <tr>\n",
       "      <th>2</th>\n",
       "      <td>0</td>\n",
       "      <td>0</td>\n",
       "      <td>0</td>\n",
       "      <td>0</td>\n",
       "      <td>0</td>\n",
       "      <td>0</td>\n",
       "      <td>0</td>\n",
       "      <td>0</td>\n",
       "      <td>0</td>\n",
       "      <td>0</td>\n",
       "      <td>...</td>\n",
       "      <td>1</td>\n",
       "      <td>0</td>\n",
       "      <td>5</td>\n",
       "      <td>3</td>\n",
       "      <td>9</td>\n",
       "      <td>1</td>\n",
       "      <td>5</td>\n",
       "      <td>1</td>\n",
       "      <td>0</td>\n",
       "      <td>0</td>\n",
       "    </tr>\n",
       "    <tr>\n",
       "      <th>3</th>\n",
       "      <td>180</td>\n",
       "      <td>1</td>\n",
       "      <td>1</td>\n",
       "      <td>2</td>\n",
       "      <td>1</td>\n",
       "      <td>1</td>\n",
       "      <td>2</td>\n",
       "      <td>1</td>\n",
       "      <td>1</td>\n",
       "      <td>1</td>\n",
       "      <td>...</td>\n",
       "      <td>1</td>\n",
       "      <td>0</td>\n",
       "      <td>5</td>\n",
       "      <td>3</td>\n",
       "      <td>9</td>\n",
       "      <td>1</td>\n",
       "      <td>5</td>\n",
       "      <td>0</td>\n",
       "      <td>0</td>\n",
       "      <td>1</td>\n",
       "    </tr>\n",
       "  </tbody>\n",
       "</table>\n",
       "<p>4 rows × 21015 columns</p>\n",
       "</div>"
      ],
      "text/plain": [
       "   000  000edomites  005  017  023  034  052  056  067  070  ...  zorites  \\\n",
       "0    0            0    0    0    0    0    0    0    0    0  ...        1   \n",
       "1    0            0    0    0    0    0    0    0    0    0  ...        1   \n",
       "2    0            0    0    0    0    0    0    0    0    0  ...        1   \n",
       "3  180            1    1    2    1    1    2    1    1    1  ...        1   \n",
       "\n",
       "   zorobabel  zuar  zuph  zur  zuriel  zurishaddai  zuzim  zuzims  zuzites  \n",
       "0          3     5     3    5       1            5      0       1        0  \n",
       "1          0     5     3    9       1            5      1       0        0  \n",
       "2          0     5     3    9       1            5      1       0        0  \n",
       "3          0     5     3    9       1            5      0       0        1  \n",
       "\n",
       "[4 rows x 21015 columns]"
      ]
     },
     "execution_count": 38,
     "metadata": {},
     "output_type": "execute_result"
    }
   ],
   "source": [
    "#Create a DTM of data\n",
    "TranDF = pd.DataFrame(Corpus_Vector.toarray(), columns = vectorizer.get_feature_names_out())\n",
    "\n",
    "TranDF.head(4)"
   ]
  },
  {
   "cell_type": "code",
   "execution_count": 61,
   "id": "e2d58ffe-67ec-4889-ad24-8a46025fd7d4",
   "metadata": {},
   "outputs": [
    {
     "data": {
      "text/html": [
       "<div>\n",
       "<style scoped>\n",
       "    .dataframe tbody tr th:only-of-type {\n",
       "        vertical-align: middle;\n",
       "    }\n",
       "\n",
       "    .dataframe tbody tr th {\n",
       "        vertical-align: top;\n",
       "    }\n",
       "\n",
       "    .dataframe thead th {\n",
       "        text-align: right;\n",
       "    }\n",
       "</style>\n",
       "<table border=\"1\" class=\"dataframe\">\n",
       "  <thead>\n",
       "    <tr style=\"text-align: right;\">\n",
       "      <th></th>\n",
       "      <th>000</th>\n",
       "      <th>000edomites</th>\n",
       "      <th>005</th>\n",
       "      <th>017</th>\n",
       "      <th>023</th>\n",
       "      <th>034</th>\n",
       "      <th>052</th>\n",
       "      <th>056</th>\n",
       "      <th>067</th>\n",
       "      <th>070</th>\n",
       "      <th>...</th>\n",
       "      <th>zorites</th>\n",
       "      <th>zorobabel</th>\n",
       "      <th>zuar</th>\n",
       "      <th>zuph</th>\n",
       "      <th>zur</th>\n",
       "      <th>zuriel</th>\n",
       "      <th>zurishaddai</th>\n",
       "      <th>zuzim</th>\n",
       "      <th>zuzims</th>\n",
       "      <th>zuzites</th>\n",
       "    </tr>\n",
       "  </thead>\n",
       "  <tbody>\n",
       "    <tr>\n",
       "      <th>0</th>\n",
       "      <td>0</td>\n",
       "      <td>0</td>\n",
       "      <td>0</td>\n",
       "      <td>0</td>\n",
       "      <td>0</td>\n",
       "      <td>0</td>\n",
       "      <td>0</td>\n",
       "      <td>0</td>\n",
       "      <td>0</td>\n",
       "      <td>0</td>\n",
       "      <td>...</td>\n",
       "      <td>1</td>\n",
       "      <td>0</td>\n",
       "      <td>5</td>\n",
       "      <td>3</td>\n",
       "      <td>5</td>\n",
       "      <td>1</td>\n",
       "      <td>5</td>\n",
       "      <td>0</td>\n",
       "      <td>1</td>\n",
       "      <td>0</td>\n",
       "    </tr>\n",
       "  </tbody>\n",
       "</table>\n",
       "<p>1 rows × 21015 columns</p>\n",
       "</div>"
      ],
      "text/plain": [
       "   000  000edomites  005  017  023  034  052  056  067  070  ...  zorites  \\\n",
       "0    0            0    0    0    0    0    0    0    0    0  ...        1   \n",
       "\n",
       "   zorobabel  zuar  zuph  zur  zuriel  zurishaddai  zuzim  zuzims  zuzites  \n",
       "0          0     5     3    5       1            5      0       1        0  \n",
       "\n",
       "[1 rows x 21015 columns]"
      ]
     },
     "execution_count": 61,
     "metadata": {},
     "output_type": "execute_result"
    }
   ],
   "source": [
    "KJV_Old_DF = pd.DataFrame(KJV_Old_Vector.toarray(), columns = vectorizer.get_feature_names_out())\n",
    "\n",
    "KJV_Old_DF.head(1)"
   ]
  },
  {
   "cell_type": "code",
   "execution_count": 62,
   "id": "9a24774f-6639-446a-a52a-9634aa7fd2ef",
   "metadata": {},
   "outputs": [
    {
     "data": {
      "text/html": [
       "<div>\n",
       "<style scoped>\n",
       "    .dataframe tbody tr th:only-of-type {\n",
       "        vertical-align: middle;\n",
       "    }\n",
       "\n",
       "    .dataframe tbody tr th {\n",
       "        vertical-align: top;\n",
       "    }\n",
       "\n",
       "    .dataframe thead th {\n",
       "        text-align: right;\n",
       "    }\n",
       "</style>\n",
       "<table border=\"1\" class=\"dataframe\">\n",
       "  <thead>\n",
       "    <tr style=\"text-align: right;\">\n",
       "      <th></th>\n",
       "      <th>000</th>\n",
       "      <th>000edomites</th>\n",
       "      <th>005</th>\n",
       "      <th>017</th>\n",
       "      <th>023</th>\n",
       "      <th>034</th>\n",
       "      <th>052</th>\n",
       "      <th>056</th>\n",
       "      <th>067</th>\n",
       "      <th>070</th>\n",
       "      <th>...</th>\n",
       "      <th>zorites</th>\n",
       "      <th>zorobabel</th>\n",
       "      <th>zuar</th>\n",
       "      <th>zuph</th>\n",
       "      <th>zur</th>\n",
       "      <th>zuriel</th>\n",
       "      <th>zurishaddai</th>\n",
       "      <th>zuzim</th>\n",
       "      <th>zuzims</th>\n",
       "      <th>zuzites</th>\n",
       "    </tr>\n",
       "  </thead>\n",
       "  <tbody>\n",
       "    <tr>\n",
       "      <th>0</th>\n",
       "      <td>0</td>\n",
       "      <td>0</td>\n",
       "      <td>0</td>\n",
       "      <td>0</td>\n",
       "      <td>0</td>\n",
       "      <td>0</td>\n",
       "      <td>0</td>\n",
       "      <td>0</td>\n",
       "      <td>0</td>\n",
       "      <td>0</td>\n",
       "      <td>...</td>\n",
       "      <td>0</td>\n",
       "      <td>3</td>\n",
       "      <td>0</td>\n",
       "      <td>0</td>\n",
       "      <td>0</td>\n",
       "      <td>0</td>\n",
       "      <td>0</td>\n",
       "      <td>0</td>\n",
       "      <td>0</td>\n",
       "      <td>0</td>\n",
       "    </tr>\n",
       "  </tbody>\n",
       "</table>\n",
       "<p>1 rows × 21015 columns</p>\n",
       "</div>"
      ],
      "text/plain": [
       "   000  000edomites  005  017  023  034  052  056  067  070  ...  zorites  \\\n",
       "0    0            0    0    0    0    0    0    0    0    0  ...        0   \n",
       "\n",
       "   zorobabel  zuar  zuph  zur  zuriel  zurishaddai  zuzim  zuzims  zuzites  \n",
       "0          3     0     0    0       0            0      0       0        0  \n",
       "\n",
       "[1 rows x 21015 columns]"
      ]
     },
     "execution_count": 62,
     "metadata": {},
     "output_type": "execute_result"
    }
   ],
   "source": [
    "KJV_New_DF = pd.DataFrame(KJV_New_Vector.toarray(), columns = vectorizer.get_feature_names_out())\n",
    "\n",
    "KJV_New_DF.head(1)"
   ]
  },
  {
   "cell_type": "code",
   "execution_count": 63,
   "id": "c4b453a8-90ca-40a9-8082-ae65e00ef408",
   "metadata": {},
   "outputs": [
    {
     "data": {
      "text/html": [
       "<div>\n",
       "<style scoped>\n",
       "    .dataframe tbody tr th:only-of-type {\n",
       "        vertical-align: middle;\n",
       "    }\n",
       "\n",
       "    .dataframe tbody tr th {\n",
       "        vertical-align: top;\n",
       "    }\n",
       "\n",
       "    .dataframe thead th {\n",
       "        text-align: right;\n",
       "    }\n",
       "</style>\n",
       "<table border=\"1\" class=\"dataframe\">\n",
       "  <thead>\n",
       "    <tr style=\"text-align: right;\">\n",
       "      <th></th>\n",
       "      <th>000</th>\n",
       "      <th>000edomites</th>\n",
       "      <th>005</th>\n",
       "      <th>017</th>\n",
       "      <th>023</th>\n",
       "      <th>034</th>\n",
       "      <th>052</th>\n",
       "      <th>056</th>\n",
       "      <th>067</th>\n",
       "      <th>070</th>\n",
       "      <th>...</th>\n",
       "      <th>zorites</th>\n",
       "      <th>zorobabel</th>\n",
       "      <th>zuar</th>\n",
       "      <th>zuph</th>\n",
       "      <th>zur</th>\n",
       "      <th>zuriel</th>\n",
       "      <th>zurishaddai</th>\n",
       "      <th>zuzim</th>\n",
       "      <th>zuzims</th>\n",
       "      <th>zuzites</th>\n",
       "    </tr>\n",
       "  </thead>\n",
       "  <tbody>\n",
       "    <tr>\n",
       "      <th>0</th>\n",
       "      <td>0</td>\n",
       "      <td>0</td>\n",
       "      <td>0</td>\n",
       "      <td>0</td>\n",
       "      <td>0</td>\n",
       "      <td>0</td>\n",
       "      <td>0</td>\n",
       "      <td>0</td>\n",
       "      <td>0</td>\n",
       "      <td>0</td>\n",
       "      <td>...</td>\n",
       "      <td>1</td>\n",
       "      <td>0</td>\n",
       "      <td>5</td>\n",
       "      <td>3</td>\n",
       "      <td>9</td>\n",
       "      <td>1</td>\n",
       "      <td>5</td>\n",
       "      <td>1</td>\n",
       "      <td>0</td>\n",
       "      <td>0</td>\n",
       "    </tr>\n",
       "  </tbody>\n",
       "</table>\n",
       "<p>1 rows × 21015 columns</p>\n",
       "</div>"
      ],
      "text/plain": [
       "   000  000edomites  005  017  023  034  052  056  067  070  ...  zorites  \\\n",
       "0    0            0    0    0    0    0    0    0    0    0  ...        1   \n",
       "\n",
       "   zorobabel  zuar  zuph  zur  zuriel  zurishaddai  zuzim  zuzims  zuzites  \n",
       "0          0     5     3    9       1            5      1       0        0  \n",
       "\n",
       "[1 rows x 21015 columns]"
      ]
     },
     "execution_count": 63,
     "metadata": {},
     "output_type": "execute_result"
    }
   ],
   "source": [
    "ASV_Old_DF = pd.DataFrame(ASV_Old_Vector.toarray(), columns = vectorizer.get_feature_names_out())\n",
    "\n",
    "ASV_Old_DF.head(1)"
   ]
  },
  {
   "cell_type": "code",
   "execution_count": 64,
   "id": "513b39e7-f54c-4458-b806-9e4bf440c1fe",
   "metadata": {},
   "outputs": [
    {
     "data": {
      "text/html": [
       "<div>\n",
       "<style scoped>\n",
       "    .dataframe tbody tr th:only-of-type {\n",
       "        vertical-align: middle;\n",
       "    }\n",
       "\n",
       "    .dataframe tbody tr th {\n",
       "        vertical-align: top;\n",
       "    }\n",
       "\n",
       "    .dataframe thead th {\n",
       "        text-align: right;\n",
       "    }\n",
       "</style>\n",
       "<table border=\"1\" class=\"dataframe\">\n",
       "  <thead>\n",
       "    <tr style=\"text-align: right;\">\n",
       "      <th></th>\n",
       "      <th>000</th>\n",
       "      <th>000edomites</th>\n",
       "      <th>005</th>\n",
       "      <th>017</th>\n",
       "      <th>023</th>\n",
       "      <th>034</th>\n",
       "      <th>052</th>\n",
       "      <th>056</th>\n",
       "      <th>067</th>\n",
       "      <th>070</th>\n",
       "      <th>...</th>\n",
       "      <th>zorites</th>\n",
       "      <th>zorobabel</th>\n",
       "      <th>zuar</th>\n",
       "      <th>zuph</th>\n",
       "      <th>zur</th>\n",
       "      <th>zuriel</th>\n",
       "      <th>zurishaddai</th>\n",
       "      <th>zuzim</th>\n",
       "      <th>zuzims</th>\n",
       "      <th>zuzites</th>\n",
       "    </tr>\n",
       "  </thead>\n",
       "  <tbody>\n",
       "    <tr>\n",
       "      <th>0</th>\n",
       "      <td>0</td>\n",
       "      <td>0</td>\n",
       "      <td>0</td>\n",
       "      <td>0</td>\n",
       "      <td>0</td>\n",
       "      <td>0</td>\n",
       "      <td>0</td>\n",
       "      <td>0</td>\n",
       "      <td>0</td>\n",
       "      <td>0</td>\n",
       "      <td>...</td>\n",
       "      <td>0</td>\n",
       "      <td>0</td>\n",
       "      <td>0</td>\n",
       "      <td>0</td>\n",
       "      <td>0</td>\n",
       "      <td>0</td>\n",
       "      <td>0</td>\n",
       "      <td>0</td>\n",
       "      <td>0</td>\n",
       "      <td>0</td>\n",
       "    </tr>\n",
       "  </tbody>\n",
       "</table>\n",
       "<p>1 rows × 21015 columns</p>\n",
       "</div>"
      ],
      "text/plain": [
       "   000  000edomites  005  017  023  034  052  056  067  070  ...  zorites  \\\n",
       "0    0            0    0    0    0    0    0    0    0    0  ...        0   \n",
       "\n",
       "   zorobabel  zuar  zuph  zur  zuriel  zurishaddai  zuzim  zuzims  zuzites  \n",
       "0          0     0     0    0       0            0      0       0        0  \n",
       "\n",
       "[1 rows x 21015 columns]"
      ]
     },
     "execution_count": 64,
     "metadata": {},
     "output_type": "execute_result"
    }
   ],
   "source": [
    "ASV_New_DF = pd.DataFrame(ASV_New_Vector.toarray(), columns = vectorizer.get_feature_names_out())\n",
    "\n",
    "ASV_New_DF.head(1)"
   ]
  },
  {
   "cell_type": "code",
   "execution_count": 65,
   "id": "69f1a2b6-3927-43e0-9df0-124f441d0610",
   "metadata": {},
   "outputs": [
    {
     "data": {
      "text/html": [
       "<div>\n",
       "<style scoped>\n",
       "    .dataframe tbody tr th:only-of-type {\n",
       "        vertical-align: middle;\n",
       "    }\n",
       "\n",
       "    .dataframe tbody tr th {\n",
       "        vertical-align: top;\n",
       "    }\n",
       "\n",
       "    .dataframe thead th {\n",
       "        text-align: right;\n",
       "    }\n",
       "</style>\n",
       "<table border=\"1\" class=\"dataframe\">\n",
       "  <thead>\n",
       "    <tr style=\"text-align: right;\">\n",
       "      <th></th>\n",
       "      <th>000</th>\n",
       "      <th>000edomites</th>\n",
       "      <th>005</th>\n",
       "      <th>017</th>\n",
       "      <th>023</th>\n",
       "      <th>034</th>\n",
       "      <th>052</th>\n",
       "      <th>056</th>\n",
       "      <th>067</th>\n",
       "      <th>070</th>\n",
       "      <th>...</th>\n",
       "      <th>zorites</th>\n",
       "      <th>zorobabel</th>\n",
       "      <th>zuar</th>\n",
       "      <th>zuph</th>\n",
       "      <th>zur</th>\n",
       "      <th>zuriel</th>\n",
       "      <th>zurishaddai</th>\n",
       "      <th>zuzim</th>\n",
       "      <th>zuzims</th>\n",
       "      <th>zuzites</th>\n",
       "    </tr>\n",
       "  </thead>\n",
       "  <tbody>\n",
       "    <tr>\n",
       "      <th>0</th>\n",
       "      <td>0</td>\n",
       "      <td>0</td>\n",
       "      <td>0</td>\n",
       "      <td>0</td>\n",
       "      <td>0</td>\n",
       "      <td>0</td>\n",
       "      <td>0</td>\n",
       "      <td>0</td>\n",
       "      <td>0</td>\n",
       "      <td>0</td>\n",
       "      <td>...</td>\n",
       "      <td>1</td>\n",
       "      <td>0</td>\n",
       "      <td>5</td>\n",
       "      <td>3</td>\n",
       "      <td>9</td>\n",
       "      <td>1</td>\n",
       "      <td>5</td>\n",
       "      <td>1</td>\n",
       "      <td>0</td>\n",
       "      <td>0</td>\n",
       "    </tr>\n",
       "  </tbody>\n",
       "</table>\n",
       "<p>1 rows × 21015 columns</p>\n",
       "</div>"
      ],
      "text/plain": [
       "   000  000edomites  005  017  023  034  052  056  067  070  ...  zorites  \\\n",
       "0    0            0    0    0    0    0    0    0    0    0  ...        1   \n",
       "\n",
       "   zorobabel  zuar  zuph  zur  zuriel  zurishaddai  zuzim  zuzims  zuzites  \n",
       "0          0     5     3    9       1            5      1       0        0  \n",
       "\n",
       "[1 rows x 21015 columns]"
      ]
     },
     "execution_count": 65,
     "metadata": {},
     "output_type": "execute_result"
    }
   ],
   "source": [
    "WEB_Old_DF = pd.DataFrame(WEB_Old_Vector.toarray(), columns = vectorizer.get_feature_names_out())\n",
    "\n",
    "WEB_Old_DF.head(1)"
   ]
  },
  {
   "cell_type": "code",
   "execution_count": 66,
   "id": "0d0f8005-5f7a-4045-9d0c-201ec577a400",
   "metadata": {},
   "outputs": [
    {
     "data": {
      "text/html": [
       "<div>\n",
       "<style scoped>\n",
       "    .dataframe tbody tr th:only-of-type {\n",
       "        vertical-align: middle;\n",
       "    }\n",
       "\n",
       "    .dataframe tbody tr th {\n",
       "        vertical-align: top;\n",
       "    }\n",
       "\n",
       "    .dataframe thead th {\n",
       "        text-align: right;\n",
       "    }\n",
       "</style>\n",
       "<table border=\"1\" class=\"dataframe\">\n",
       "  <thead>\n",
       "    <tr style=\"text-align: right;\">\n",
       "      <th></th>\n",
       "      <th>000</th>\n",
       "      <th>000edomites</th>\n",
       "      <th>005</th>\n",
       "      <th>017</th>\n",
       "      <th>023</th>\n",
       "      <th>034</th>\n",
       "      <th>052</th>\n",
       "      <th>056</th>\n",
       "      <th>067</th>\n",
       "      <th>070</th>\n",
       "      <th>...</th>\n",
       "      <th>zorites</th>\n",
       "      <th>zorobabel</th>\n",
       "      <th>zuar</th>\n",
       "      <th>zuph</th>\n",
       "      <th>zur</th>\n",
       "      <th>zuriel</th>\n",
       "      <th>zurishaddai</th>\n",
       "      <th>zuzim</th>\n",
       "      <th>zuzims</th>\n",
       "      <th>zuzites</th>\n",
       "    </tr>\n",
       "  </thead>\n",
       "  <tbody>\n",
       "    <tr>\n",
       "      <th>0</th>\n",
       "      <td>0</td>\n",
       "      <td>0</td>\n",
       "      <td>0</td>\n",
       "      <td>0</td>\n",
       "      <td>0</td>\n",
       "      <td>0</td>\n",
       "      <td>0</td>\n",
       "      <td>0</td>\n",
       "      <td>0</td>\n",
       "      <td>0</td>\n",
       "      <td>...</td>\n",
       "      <td>0</td>\n",
       "      <td>0</td>\n",
       "      <td>0</td>\n",
       "      <td>0</td>\n",
       "      <td>0</td>\n",
       "      <td>0</td>\n",
       "      <td>0</td>\n",
       "      <td>0</td>\n",
       "      <td>0</td>\n",
       "      <td>0</td>\n",
       "    </tr>\n",
       "  </tbody>\n",
       "</table>\n",
       "<p>1 rows × 21015 columns</p>\n",
       "</div>"
      ],
      "text/plain": [
       "   000  000edomites  005  017  023  034  052  056  067  070  ...  zorites  \\\n",
       "0    0            0    0    0    0    0    0    0    0    0  ...        0   \n",
       "\n",
       "   zorobabel  zuar  zuph  zur  zuriel  zurishaddai  zuzim  zuzims  zuzites  \n",
       "0          0     0     0    0       0            0      0       0        0  \n",
       "\n",
       "[1 rows x 21015 columns]"
      ]
     },
     "execution_count": 66,
     "metadata": {},
     "output_type": "execute_result"
    }
   ],
   "source": [
    "WEB_New_DF = pd.DataFrame(WEB_New_Vector.toarray(), columns = vectorizer.get_feature_names_out())\n",
    "\n",
    "WEB_New_DF.head(1)"
   ]
  },
  {
   "cell_type": "code",
   "execution_count": 67,
   "id": "65f95b51-2e50-4685-84b7-49bd5b62aae6",
   "metadata": {},
   "outputs": [
    {
     "data": {
      "text/html": [
       "<div>\n",
       "<style scoped>\n",
       "    .dataframe tbody tr th:only-of-type {\n",
       "        vertical-align: middle;\n",
       "    }\n",
       "\n",
       "    .dataframe tbody tr th {\n",
       "        vertical-align: top;\n",
       "    }\n",
       "\n",
       "    .dataframe thead th {\n",
       "        text-align: right;\n",
       "    }\n",
       "</style>\n",
       "<table border=\"1\" class=\"dataframe\">\n",
       "  <thead>\n",
       "    <tr style=\"text-align: right;\">\n",
       "      <th></th>\n",
       "      <th>000</th>\n",
       "      <th>000edomites</th>\n",
       "      <th>005</th>\n",
       "      <th>017</th>\n",
       "      <th>023</th>\n",
       "      <th>034</th>\n",
       "      <th>052</th>\n",
       "      <th>056</th>\n",
       "      <th>067</th>\n",
       "      <th>070</th>\n",
       "      <th>...</th>\n",
       "      <th>zorites</th>\n",
       "      <th>zorobabel</th>\n",
       "      <th>zuar</th>\n",
       "      <th>zuph</th>\n",
       "      <th>zur</th>\n",
       "      <th>zuriel</th>\n",
       "      <th>zurishaddai</th>\n",
       "      <th>zuzim</th>\n",
       "      <th>zuzims</th>\n",
       "      <th>zuzites</th>\n",
       "    </tr>\n",
       "  </thead>\n",
       "  <tbody>\n",
       "    <tr>\n",
       "      <th>0</th>\n",
       "      <td>178</td>\n",
       "      <td>1</td>\n",
       "      <td>1</td>\n",
       "      <td>2</td>\n",
       "      <td>1</td>\n",
       "      <td>1</td>\n",
       "      <td>2</td>\n",
       "      <td>1</td>\n",
       "      <td>1</td>\n",
       "      <td>1</td>\n",
       "      <td>...</td>\n",
       "      <td>1</td>\n",
       "      <td>0</td>\n",
       "      <td>5</td>\n",
       "      <td>3</td>\n",
       "      <td>9</td>\n",
       "      <td>1</td>\n",
       "      <td>5</td>\n",
       "      <td>0</td>\n",
       "      <td>0</td>\n",
       "      <td>1</td>\n",
       "    </tr>\n",
       "  </tbody>\n",
       "</table>\n",
       "<p>1 rows × 21015 columns</p>\n",
       "</div>"
      ],
      "text/plain": [
       "   000  000edomites  005  017  023  034  052  056  067  070  ...  zorites  \\\n",
       "0  178            1    1    2    1    1    2    1    1    1  ...        1   \n",
       "\n",
       "   zorobabel  zuar  zuph  zur  zuriel  zurishaddai  zuzim  zuzims  zuzites  \n",
       "0          0     5     3    9       1            5      0       0        1  \n",
       "\n",
       "[1 rows x 21015 columns]"
      ]
     },
     "execution_count": 67,
     "metadata": {},
     "output_type": "execute_result"
    }
   ],
   "source": [
    "NET_Old_DF = pd.DataFrame(NET_Old_Vector.toarray(), columns = vectorizer.get_feature_names_out())\n",
    "\n",
    "NET_Old_DF.head(1)"
   ]
  },
  {
   "cell_type": "code",
   "execution_count": 68,
   "id": "c8e6d75c-fcb2-455b-9829-a181f63337a2",
   "metadata": {},
   "outputs": [
    {
     "data": {
      "text/html": [
       "<div>\n",
       "<style scoped>\n",
       "    .dataframe tbody tr th:only-of-type {\n",
       "        vertical-align: middle;\n",
       "    }\n",
       "\n",
       "    .dataframe tbody tr th {\n",
       "        vertical-align: top;\n",
       "    }\n",
       "\n",
       "    .dataframe thead th {\n",
       "        text-align: right;\n",
       "    }\n",
       "</style>\n",
       "<table border=\"1\" class=\"dataframe\">\n",
       "  <thead>\n",
       "    <tr style=\"text-align: right;\">\n",
       "      <th></th>\n",
       "      <th>000</th>\n",
       "      <th>000edomites</th>\n",
       "      <th>005</th>\n",
       "      <th>017</th>\n",
       "      <th>023</th>\n",
       "      <th>034</th>\n",
       "      <th>052</th>\n",
       "      <th>056</th>\n",
       "      <th>067</th>\n",
       "      <th>070</th>\n",
       "      <th>...</th>\n",
       "      <th>zorites</th>\n",
       "      <th>zorobabel</th>\n",
       "      <th>zuar</th>\n",
       "      <th>zuph</th>\n",
       "      <th>zur</th>\n",
       "      <th>zuriel</th>\n",
       "      <th>zurishaddai</th>\n",
       "      <th>zuzim</th>\n",
       "      <th>zuzims</th>\n",
       "      <th>zuzites</th>\n",
       "    </tr>\n",
       "  </thead>\n",
       "  <tbody>\n",
       "    <tr>\n",
       "      <th>0</th>\n",
       "      <td>0</td>\n",
       "      <td>0</td>\n",
       "      <td>0</td>\n",
       "      <td>0</td>\n",
       "      <td>0</td>\n",
       "      <td>0</td>\n",
       "      <td>0</td>\n",
       "      <td>0</td>\n",
       "      <td>0</td>\n",
       "      <td>0</td>\n",
       "      <td>...</td>\n",
       "      <td>0</td>\n",
       "      <td>0</td>\n",
       "      <td>0</td>\n",
       "      <td>0</td>\n",
       "      <td>0</td>\n",
       "      <td>0</td>\n",
       "      <td>0</td>\n",
       "      <td>0</td>\n",
       "      <td>0</td>\n",
       "      <td>0</td>\n",
       "    </tr>\n",
       "  </tbody>\n",
       "</table>\n",
       "<p>1 rows × 21015 columns</p>\n",
       "</div>"
      ],
      "text/plain": [
       "   000  000edomites  005  017  023  034  052  056  067  070  ...  zorites  \\\n",
       "0    0            0    0    0    0    0    0    0    0    0  ...        0   \n",
       "\n",
       "   zorobabel  zuar  zuph  zur  zuriel  zurishaddai  zuzim  zuzims  zuzites  \n",
       "0          0     0     0    0       0            0      0       0        0  \n",
       "\n",
       "[1 rows x 21015 columns]"
      ]
     },
     "execution_count": 68,
     "metadata": {},
     "output_type": "execute_result"
    }
   ],
   "source": [
    "WEB_New_DF = pd.DataFrame(WEB_New_Vector.toarray(), columns = vectorizer.get_feature_names_out())\n",
    "\n",
    "WEB_New_DF.head(1)"
   ]
  },
  {
   "cell_type": "markdown",
   "id": "5c472b85-5e56-4b73-b3a9-91e3acf3f005",
   "metadata": {},
   "source": [
    "I could not figure out how to get the DTM's to show different results, the results that show in all of them are numbers and names, so they are going to show up the same amount of times in every translation. So I feel I did not get a very accurate view of how different my corpus is through these DTM's"
   ]
  },
  {
   "cell_type": "markdown",
   "id": "fb7886a7-ec1f-467d-a704-1e51c7362811",
   "metadata": {},
   "source": [
    "# Outsdie cell hit \"m\" to turn into markdown cell\n",
    "\n",
    "0 = KJV,\n",
    "1 = ASV,\n",
    "2 = WEB,\n",
    "3 = NET,\n",
    "\n",
    "Tyndale txt file replaces all J's with I's for some reason, may not be able to use this file\n",
    "\n",
    "Found a weird problem with the translations later in the list(TYN,WEB,NET), where Jesus is spelt Iesus, even though only the tyndale text file replaces J's with I's\n",
    "\n",
    "Discovered my reason for the error with repetitive data issues"
   ]
  },
  {
   "cell_type": "code",
   "execution_count": 60,
   "id": "e6503367-1338-43f8-bdbd-ea6ae135db55",
   "metadata": {},
   "outputs": [
    {
     "data": {
      "text/html": [
       "<div>\n",
       "<style scoped>\n",
       "    .dataframe tbody tr th:only-of-type {\n",
       "        vertical-align: middle;\n",
       "    }\n",
       "\n",
       "    .dataframe tbody tr th {\n",
       "        vertical-align: top;\n",
       "    }\n",
       "\n",
       "    .dataframe thead th {\n",
       "        text-align: right;\n",
       "    }\n",
       "</style>\n",
       "<table border=\"1\" class=\"dataframe\">\n",
       "  <thead>\n",
       "    <tr style=\"text-align: right;\">\n",
       "      <th></th>\n",
       "      <th>0</th>\n",
       "      <th>1</th>\n",
       "      <th>2</th>\n",
       "      <th>3</th>\n",
       "    </tr>\n",
       "  </thead>\n",
       "  <tbody>\n",
       "    <tr>\n",
       "      <th>the</th>\n",
       "      <td>64019</td>\n",
       "      <td>59125</td>\n",
       "      <td>57669</td>\n",
       "      <td>58296</td>\n",
       "    </tr>\n",
       "    <tr>\n",
       "      <th>and</th>\n",
       "      <td>51708</td>\n",
       "      <td>52077</td>\n",
       "      <td>34695</td>\n",
       "      <td>27575</td>\n",
       "    </tr>\n",
       "    <tr>\n",
       "      <th>of</th>\n",
       "      <td>34749</td>\n",
       "      <td>34512</td>\n",
       "      <td>33641</td>\n",
       "      <td>25216</td>\n",
       "    </tr>\n",
       "    <tr>\n",
       "      <th>to</th>\n",
       "      <td>13630</td>\n",
       "      <td>13889</td>\n",
       "      <td>21360</td>\n",
       "      <td>22483</td>\n",
       "    </tr>\n",
       "    <tr>\n",
       "      <th>that</th>\n",
       "      <td>12916</td>\n",
       "      <td>13576</td>\n",
       "      <td>8644</td>\n",
       "      <td>6360</td>\n",
       "    </tr>\n",
       "    <tr>\n",
       "      <th>in</th>\n",
       "      <td>12677</td>\n",
       "      <td>12851</td>\n",
       "      <td>13031</td>\n",
       "      <td>11714</td>\n",
       "    </tr>\n",
       "    <tr>\n",
       "      <th>he</th>\n",
       "      <td>10431</td>\n",
       "      <td>10735</td>\n",
       "      <td>10464</td>\n",
       "      <td>9707</td>\n",
       "    </tr>\n",
       "    <tr>\n",
       "      <th>shall</th>\n",
       "      <td>9837</td>\n",
       "      <td>9102</td>\n",
       "      <td>7164</td>\n",
       "      <td>60</td>\n",
       "    </tr>\n",
       "    <tr>\n",
       "      <th>unto</th>\n",
       "      <td>9002</td>\n",
       "      <td>9253</td>\n",
       "      <td>2</td>\n",
       "      <td>0</td>\n",
       "    </tr>\n",
       "    <tr>\n",
       "      <th>for</th>\n",
       "      <td>8985</td>\n",
       "      <td>9176</td>\n",
       "      <td>9120</td>\n",
       "      <td>8560</td>\n",
       "    </tr>\n",
       "    <tr>\n",
       "      <th>his</th>\n",
       "      <td>8478</td>\n",
       "      <td>8151</td>\n",
       "      <td>8064</td>\n",
       "      <td>7019</td>\n",
       "    </tr>\n",
       "    <tr>\n",
       "      <th>lord</th>\n",
       "      <td>7970</td>\n",
       "      <td>1376</td>\n",
       "      <td>1394</td>\n",
       "      <td>7952</td>\n",
       "    </tr>\n",
       "    <tr>\n",
       "      <th>they</th>\n",
       "      <td>7377</td>\n",
       "      <td>7586</td>\n",
       "      <td>7116</td>\n",
       "      <td>7447</td>\n",
       "    </tr>\n",
       "    <tr>\n",
       "      <th>be</th>\n",
       "      <td>7012</td>\n",
       "      <td>6467</td>\n",
       "      <td>5986</td>\n",
       "      <td>5256</td>\n",
       "    </tr>\n",
       "    <tr>\n",
       "      <th>is</th>\n",
       "      <td>6993</td>\n",
       "      <td>7172</td>\n",
       "      <td>7159</td>\n",
       "      <td>7276</td>\n",
       "    </tr>\n",
       "    <tr>\n",
       "      <th>him</th>\n",
       "      <td>6667</td>\n",
       "      <td>6606</td>\n",
       "      <td>6482</td>\n",
       "      <td>5188</td>\n",
       "    </tr>\n",
       "    <tr>\n",
       "      <th>not</th>\n",
       "      <td>6597</td>\n",
       "      <td>6568</td>\n",
       "      <td>3433</td>\n",
       "      <td>6097</td>\n",
       "    </tr>\n",
       "    <tr>\n",
       "      <th>them</th>\n",
       "      <td>6429</td>\n",
       "      <td>6407</td>\n",
       "      <td>5698</td>\n",
       "      <td>5391</td>\n",
       "    </tr>\n",
       "    <tr>\n",
       "      <th>it</th>\n",
       "      <td>6130</td>\n",
       "      <td>6168</td>\n",
       "      <td>6347</td>\n",
       "      <td>5468</td>\n",
       "    </tr>\n",
       "    <tr>\n",
       "      <th>with</th>\n",
       "      <td>6015</td>\n",
       "      <td>5987</td>\n",
       "      <td>6208</td>\n",
       "      <td>5630</td>\n",
       "    </tr>\n",
       "    <tr>\n",
       "      <th>all</th>\n",
       "      <td>5621</td>\n",
       "      <td>5593</td>\n",
       "      <td>5622</td>\n",
       "      <td>4875</td>\n",
       "    </tr>\n",
       "    <tr>\n",
       "      <th>thou</th>\n",
       "      <td>5474</td>\n",
       "      <td>5511</td>\n",
       "      <td>0</td>\n",
       "      <td>0</td>\n",
       "    </tr>\n",
       "    <tr>\n",
       "      <th>thy</th>\n",
       "      <td>4603</td>\n",
       "      <td>4960</td>\n",
       "      <td>0</td>\n",
       "      <td>0</td>\n",
       "    </tr>\n",
       "    <tr>\n",
       "      <th>was</th>\n",
       "      <td>4523</td>\n",
       "      <td>4462</td>\n",
       "      <td>4340</td>\n",
       "      <td>4365</td>\n",
       "    </tr>\n",
       "    <tr>\n",
       "      <th>god</th>\n",
       "      <td>4473</td>\n",
       "      <td>4110</td>\n",
       "      <td>4117</td>\n",
       "      <td>4214</td>\n",
       "    </tr>\n",
       "    <tr>\n",
       "      <th>which</th>\n",
       "      <td>4414</td>\n",
       "      <td>2960</td>\n",
       "      <td>3243</td>\n",
       "      <td>835</td>\n",
       "    </tr>\n",
       "    <tr>\n",
       "      <th>my</th>\n",
       "      <td>4367</td>\n",
       "      <td>4497</td>\n",
       "      <td>4902</td>\n",
       "      <td>4293</td>\n",
       "    </tr>\n",
       "    <tr>\n",
       "      <th>me</th>\n",
       "      <td>4096</td>\n",
       "      <td>4089</td>\n",
       "      <td>4080</td>\n",
       "      <td>4190</td>\n",
       "    </tr>\n",
       "    <tr>\n",
       "      <th>said</th>\n",
       "      <td>4002</td>\n",
       "      <td>3907</td>\n",
       "      <td>3928</td>\n",
       "      <td>3271</td>\n",
       "    </tr>\n",
       "    <tr>\n",
       "      <th>but</th>\n",
       "      <td>3994</td>\n",
       "      <td>3990</td>\n",
       "      <td>3960</td>\n",
       "      <td>4152</td>\n",
       "    </tr>\n",
       "  </tbody>\n",
       "</table>\n",
       "</div>"
      ],
      "text/plain": [
       "           0      1      2      3\n",
       "the    64019  59125  57669  58296\n",
       "and    51708  52077  34695  27575\n",
       "of     34749  34512  33641  25216\n",
       "to     13630  13889  21360  22483\n",
       "that   12916  13576   8644   6360\n",
       "in     12677  12851  13031  11714\n",
       "he     10431  10735  10464   9707\n",
       "shall   9837   9102   7164     60\n",
       "unto    9002   9253      2      0\n",
       "for     8985   9176   9120   8560\n",
       "his     8478   8151   8064   7019\n",
       "lord    7970   1376   1394   7952\n",
       "they    7377   7586   7116   7447\n",
       "be      7012   6467   5986   5256\n",
       "is      6993   7172   7159   7276\n",
       "him     6667   6606   6482   5188\n",
       "not     6597   6568   3433   6097\n",
       "them    6429   6407   5698   5391\n",
       "it      6130   6168   6347   5468\n",
       "with    6015   5987   6208   5630\n",
       "all     5621   5593   5622   4875\n",
       "thou    5474   5511      0      0\n",
       "thy     4603   4960      0      0\n",
       "was     4523   4462   4340   4365\n",
       "god     4473   4110   4117   4214\n",
       "which   4414   2960   3243    835\n",
       "my      4367   4497   4902   4293\n",
       "me      4096   4089   4080   4190\n",
       "said    4002   3907   3928   3271\n",
       "but     3994   3990   3960   4152"
      ]
     },
     "execution_count": 60,
     "metadata": {},
     "output_type": "execute_result"
    }
   ],
   "source": [
    "#Sort by the top 30 most used words in each text\n",
    "#I played around with this a lot because I wanted to see if the most used words woulds stay the same\n",
    "\n",
    "TranDF.T.sort_values(by=0, ascending=False).head(30)"
   ]
  },
  {
   "cell_type": "markdown",
   "id": "4529af05-f73a-4616-ae94-14cb1af80a6d",
   "metadata": {},
   "source": [
    "I will create string variables to hold all of my different version. Then I will run a generate on all 8 versions that I have"
   ]
  },
  {
   "cell_type": "code",
   "execution_count": 73,
   "id": "7d9da647-9661-466a-879a-6e32877296b1",
   "metadata": {},
   "outputs": [],
   "source": [
    "#Create new string of all data\n",
    "\n",
    "Bible_String = \" \".join(Bible_List)\n",
    "\n"
   ]
  },
  {
   "cell_type": "code",
   "execution_count": 74,
   "id": "8bd107b2-6e6e-4400-9cdc-49883de0d7df",
   "metadata": {},
   "outputs": [],
   "source": [
    "#Prepare strings of all versions\n",
    "BStokens = nltk.tokenize.word_tokenize(Bible_String)\n",
    "\n",
    "KJVN_Tokens = nltk.tokenize.word_tokenize(New_Test_KJV)\n",
    "KJVO_Tokens = nltk.tokenize.word_tokenize(Old_Test_KJV)\n",
    "\n",
    "ASVN_Tokens = nltk.tokenize.word_tokenize(New_Test_ASV)\n",
    "ASVO_Tokens = nltk.tokenize.word_tokenize(Old_Test_ASV)\n",
    "\n",
    "WEBN_Tokens = nltk.tokenize.word_tokenize(New_Test_WEB)\n",
    "WEBO_Tokens = nltk.tokenize.word_tokenize(Old_Test_WEB)\n",
    "\n",
    "NETN_Tokens = nltk.tokenize.word_tokenize(New_Test_NET)\n",
    "NETO_Tokens = nltk.tokenize.word_tokenize(Old_Test_NET)\n",
    "\n",
    "#Tokeize string of all Versions\n",
    "BSN = nltk.Text(BStokens)\n",
    "\n",
    "# KJV pair\n",
    "KJV_N = nltk.Text(KJVN_Tokens)\n",
    "KJV_O = nltk.Text(KJVO_Tokens)\n",
    "\n",
    "# ASV pair\n",
    "ASV_N = nltk.Text(ASVN_Tokens)\n",
    "ASV_O = nltk.Text(ASVO_Tokens)\n",
    "\n",
    "# NET pair\n",
    "NET_N = nltk.Text(NETN_Tokens)\n",
    "NET_O = nltk.Text(NETO_Tokens)\n",
    "\n",
    "# WEB pair\n",
    "WEB_N = nltk.Text(WEBN_Tokens)\n",
    "WEB_O = nltk.Text(WEBO_Tokens)"
   ]
  },
  {
   "cell_type": "code",
   "execution_count": 39,
   "id": "424c6832-2bc6-4263-8031-77d0259af6ca",
   "metadata": {},
   "outputs": [
    {
     "name": "stderr",
     "output_type": "stream",
     "text": [
      "Building ngram index...\n"
     ]
    },
    {
     "name": "stdout",
     "output_type": "stream",
     "text": [
      "lightly , she committeth adultery.› 33 ¶ And it came to pass , as the\n",
      "high places in the Hebrew women are like a wilderness , Make brick :\n",
      "and they shall judge you according to their land shall bury them , ``\n",
      "He did evil again before thee . , of a large pit in time past , and he\n",
      "was made the heavens , that touch the border of Moab cry aloud ; for\n",
      "his bolster , and they had sung a hymn , they will not be meat in the\n",
      "foundation of the Philistines shall perish ,\n"
     ]
    },
    {
     "data": {
      "text/plain": [
       "'lightly , she committeth adultery.› 33 ¶ And it came to pass , as the\\nhigh places in the Hebrew women are like a wilderness , Make brick :\\nand they shall judge you according to their land shall bury them , ``\\nHe did evil again before thee . , of a large pit in time past , and he\\nwas made the heavens , that touch the border of Moab cry aloud ; for\\nhis bolster , and they had sung a hymn , they will not be meat in the\\nfoundation of the Philistines shall perish ,'"
      ]
     },
     "execution_count": 39,
     "metadata": {},
     "output_type": "execute_result"
    }
   ],
   "source": [
    "# Generate text based on collocations from all translations\n",
    "BSN.generate()\n"
   ]
  },
  {
   "cell_type": "code",
   "execution_count": 76,
   "id": "13fd4a30-dfc1-4815-a0e3-19925b0d23f4",
   "metadata": {},
   "outputs": [
    {
     "name": "stdout",
     "output_type": "stream",
     "text": [
      "lived , and departed thence . , not believing that he was gone out ,\n",
      "and healed them . and pineth away : [ 11 according to his own will ,\n",
      "and in the field , which of the Jews , who are now returned unto her ,\n",
      "that as he is . And it came to Jerusalem , and be found of them that\n",
      "are therein , and thou shalt be called the twelve , and the whole body\n",
      ", they fled , and the prophets shall be signs in his blood ; 9 and\n",
      "that Jesus is the\n"
     ]
    },
    {
     "data": {
      "text/plain": [
       "'lived , and departed thence . , not believing that he was gone out ,\\nand healed them . and pineth away : [ 11 according to his own will ,\\nand in the field , which of the Jews , who are now returned unto her ,\\nthat as he is . And it came to Jerusalem , and be found of them that\\nare therein , and thou shalt be called the twelve , and the whole body\\n, they fled , and the prophets shall be signs in his blood ; 9 and\\nthat Jesus is the'"
      ]
     },
     "execution_count": 76,
     "metadata": {},
     "output_type": "execute_result"
    }
   ],
   "source": [
    "# Generate text using ASV New Testament\n",
    "ASV_N.generate()"
   ]
  },
  {
   "cell_type": "code",
   "execution_count": 77,
   "id": "8ecaf36f-d2df-4551-99eb-975af05352c3",
   "metadata": {},
   "outputs": [
    {
     "name": "stderr",
     "output_type": "stream",
     "text": [
      "Building ngram index...\n"
     ]
    },
    {
     "name": "stdout",
     "output_type": "stream",
     "text": [
      "man 's hair be grown up with a light by day , I do this thing . , it\n",
      "hath gathered them together : and , behold , they may possess the gate\n",
      "of the fire , and melt you . and over the Philistine , Abner , Art\n",
      "thou he that owneth the house of Israel , to observe and do according\n",
      "unto all the words in the land which I gave my back to the inhabitants\n",
      "of the poor is hotly pursued after the measure of my salvation ; And\n",
      "they that are come from Babylon ; and\n"
     ]
    },
    {
     "data": {
      "text/plain": [
       "\"man 's hair be grown up with a light by day , I do this thing . , it\\nhath gathered them together : and , behold , they may possess the gate\\nof the fire , and melt you . and over the Philistine , Abner , Art\\nthou he that owneth the house of Israel , to observe and do according\\nunto all the words in the land which I gave my back to the inhabitants\\nof the poor is hotly pursued after the measure of my salvation ; And\\nthey that are come from Babylon ; and\""
      ]
     },
     "execution_count": 77,
     "metadata": {},
     "output_type": "execute_result"
    }
   ],
   "source": [
    "# Generate text using ASV Old Testament\n",
    "ASV_O.generate()"
   ]
  },
  {
   "cell_type": "code",
   "execution_count": 78,
   "id": "f1e0caac-7133-4de9-a7bb-50d42014c8bd",
   "metadata": {},
   "outputs": [
    {
     "name": "stderr",
     "output_type": "stream",
     "text": [
      "Building ngram index...\n"
     ]
    },
    {
     "name": "stdout",
     "output_type": "stream",
     "text": [
      "love , and every perfect gift is from Mount Sinai , in Iconium , and\n",
      "set off for home . , the True One , who is in Christ Jesus . and\n",
      "prepare the Passover . Barnabas and Paul Hermes , Patrobas , Hermas ,\n",
      "and I will bless you greatly and multiply your descendants all the\n",
      "treasures of Egypt , who betrayed him . to him , “ He is not worthy ,\n",
      "let me see again. They know , because the fast was already dead , and\n",
      "you in my sufferings for you , for it with God\n"
     ]
    },
    {
     "data": {
      "text/plain": [
       "'love , and every perfect gift is from Mount Sinai , in Iconium , and\\nset off for home . , the True One , who is in Christ Jesus . and\\nprepare the Passover . Barnabas and Paul Hermes , Patrobas , Hermas ,\\nand I will bless you greatly and multiply your descendants all the\\ntreasures of Egypt , who betrayed him . to him , “ He is not worthy ,\\nlet me see again. They know , because the fast was already dead , and\\nyou in my sufferings for you , for it with God'"
      ]
     },
     "execution_count": 78,
     "metadata": {},
     "output_type": "execute_result"
    }
   ],
   "source": [
    "# Generate text using NET New Testament\n",
    "NET_N.generate()"
   ]
  },
  {
   "cell_type": "code",
   "execution_count": 79,
   "id": "8df2345c-31af-4bca-a133-3792af4eadb8",
   "metadata": {},
   "outputs": [
    {
     "name": "stderr",
     "output_type": "stream",
     "text": [
      "Building ngram index...\n"
     ]
    },
    {
     "name": "stdout",
     "output_type": "stream",
     "text": [
      "linen , goat ’ s priests nor anyone else ! , the LORD has said : ‘ Say\n",
      "this to say to the place the LORD your God always . also known as Edom\n",
      ") , 19 Hapharaim , Shion , Anaharath , 20 that you are to make a clean\n",
      "thing come from his wicked behavior deserves . 14 I am ! to hire some\n",
      "lawless , dangerous men as his ancestors . Nebat and Baasha son of\n",
      "Jakeh ; an image in the wilderness and its villages and dispossessed\n",
      "the Amorites . from Moseroth and camped in Gilead\n"
     ]
    },
    {
     "data": {
      "text/plain": [
       "'linen , goat ’ s priests nor anyone else ! , the LORD has said : ‘ Say\\nthis to say to the place the LORD your God always . also known as Edom\\n) , 19 Hapharaim , Shion , Anaharath , 20 that you are to make a clean\\nthing come from his wicked behavior deserves . 14 I am ! to hire some\\nlawless , dangerous men as his ancestors . Nebat and Baasha son of\\nJakeh ; an image in the wilderness and its villages and dispossessed\\nthe Amorites . from Moseroth and camped in Gilead'"
      ]
     },
     "execution_count": 79,
     "metadata": {},
     "output_type": "execute_result"
    }
   ],
   "source": [
    "# Generate text using NET Old Testament\n",
    "NET_O.generate()"
   ]
  },
  {
   "cell_type": "code",
   "execution_count": 80,
   "id": "0b6f1944-bf22-4606-8d66-7b625c69b0fe",
   "metadata": {},
   "outputs": [
    {
     "name": "stderr",
     "output_type": "stream",
     "text": [
      "Building ngram index...\n"
     ]
    },
    {
     "name": "stdout",
     "output_type": "stream",
     "text": [
      "is . , nor bread , that when he has , to lay it down . '' against\n",
      "nature . 13 From there , and believe him ? ' throne , as to babies in\n",
      "those who are asleep . Jesus and led him away . '' for a sign , that\n",
      "everyone who believes that what he sees himself , she calls together\n",
      "her friends and his brothers came , and he who eats my flesh and blood\n",
      ", nor can see clearly to remove the beam is in Egypt , 40 `` The Son\n",
      "of Man sitting at\n"
     ]
    },
    {
     "data": {
      "text/plain": [
       "\"is . , nor bread , that when he has , to lay it down . '' against\\nnature . 13 From there , and believe him ? ' throne , as to babies in\\nthose who are asleep . Jesus and led him away . '' for a sign , that\\neveryone who believes that what he sees himself , she calls together\\nher friends and his brothers came , and he who eats my flesh and blood\\n, nor can see clearly to remove the beam is in Egypt , 40 `` The Son\\nof Man sitting at\""
      ]
     },
     "execution_count": 80,
     "metadata": {},
     "output_type": "execute_result"
    }
   ],
   "source": [
    "# Generate text using WEB New Testament\n",
    "WEB_N.generate()"
   ]
  },
  {
   "cell_type": "code",
   "execution_count": 81,
   "id": "1e6aa65b-289f-4972-8686-dd425b6bd322",
   "metadata": {},
   "outputs": [
    {
     "name": "stderr",
     "output_type": "stream",
     "text": [
      "Building ngram index...\n"
     ]
    },
    {
     "name": "stdout",
     "output_type": "stream",
     "text": [
      "king 's gate , four hundred thousand . , neither did my shepherds\n",
      "search for me , and he went into the hand of the ship , and my lord\n",
      "the king died , and I ate them with folly . am casting out before the\n",
      "King , '' Give to us a law , that he could not live . ' 12 I arose ,\n",
      "and afterward he shall be no more pass through [ the oracle , even the\n",
      "whole congregation of the wicked , `` Thus says Yahweh of Armies : ``\n",
      "Open to me . ''\n"
     ]
    },
    {
     "data": {
      "text/plain": [
       "\"king 's gate , four hundred thousand . , neither did my shepherds\\nsearch for me , and he went into the hand of the ship , and my lord\\nthe king died , and I ate them with folly . am casting out before the\\nKing , '' Give to us a law , that he could not live . ' 12 I arose ,\\nand afterward he shall be no more pass through [ the oracle , even the\\nwhole congregation of the wicked , `` Thus says Yahweh of Armies : ``\\nOpen to me . ''\""
      ]
     },
     "execution_count": 81,
     "metadata": {},
     "output_type": "execute_result"
    }
   ],
   "source": [
    "# Generate text using WEB Old Testament\n",
    "WEB_O.generate()"
   ]
  },
  {
   "cell_type": "code",
   "execution_count": 82,
   "id": "23a0119c-c89d-41c9-9de2-a0813d26be41",
   "metadata": {},
   "outputs": [
    {
     "name": "stderr",
     "output_type": "stream",
     "text": [
      "Building ngram index...\n"
     ]
    },
    {
     "name": "stdout",
     "output_type": "stream",
     "text": [
      "me , and departed into a ship , and Joses , and Joanna , which of them\n",
      "that stood by the sacrifice of himself to be ] alway with grace in\n",
      "your hearts unblameable in holiness before God in the same : 4 And I\n",
      "fell at his feet , and consorted with Paul and Silas , chief men among\n",
      "the people and the sun shall be ] heirs , faith is the first\n",
      "commandment of us ; and gave thanks , but unto holiness , without\n",
      "partiality , and asked him again ? , said , Silver and gold\n"
     ]
    },
    {
     "data": {
      "text/plain": [
       "'me , and departed into a ship , and Joses , and Joanna , which of them\\nthat stood by the sacrifice of himself to be ] alway with grace in\\nyour hearts unblameable in holiness before God in the same : 4 And I\\nfell at his feet , and consorted with Paul and Silas , chief men among\\nthe people and the sun shall be ] heirs , faith is the first\\ncommandment of us ; and gave thanks , but unto holiness , without\\npartiality , and asked him again ? , said , Silver and gold'"
      ]
     },
     "execution_count": 82,
     "metadata": {},
     "output_type": "execute_result"
    }
   ],
   "source": [
    "# Generate text using KJV New Testament\n",
    "KJV_N.generate()"
   ]
  },
  {
   "cell_type": "code",
   "execution_count": 83,
   "id": "1149dbc8-35e2-48dd-a933-55834613cb3d",
   "metadata": {},
   "outputs": [
    {
     "name": "stderr",
     "output_type": "stream",
     "text": [
      "Building ngram index...\n"
     ]
    },
    {
     "name": "stdout",
     "output_type": "stream",
     "text": [
      "long , and brought the men that [ is ] by the LORD , not of it ] to\n",
      "Beer : that say , answer him , Go up and view the land which he\n",
      "inheriteth . , in his kingdom for ever . and of the LORD . GOD ; At\n",
      "the beginning , and [ it be [ married ] unto the LORD sware unto\n",
      "Abraham , the time appointed . thereof . [ is ] his name Immanuel .\n",
      "good . . deliver himself : according to thy daughters [ were ] beyond\n",
      "the word of the\n"
     ]
    },
    {
     "data": {
      "text/plain": [
       "'long , and brought the men that [ is ] by the LORD , not of it ] to\\nBeer : that say , answer him , Go up and view the land which he\\ninheriteth . , in his kingdom for ever . and of the LORD . GOD ; At\\nthe beginning , and [ it be [ married ] unto the LORD sware unto\\nAbraham , the time appointed . thereof . [ is ] his name Immanuel .\\ngood . . deliver himself : according to thy daughters [ were ] beyond\\nthe word of the'"
      ]
     },
     "execution_count": 83,
     "metadata": {},
     "output_type": "execute_result"
    }
   ],
   "source": [
    "# Generate text using KJV Old Testament\n",
    "KJV_O.generate()"
   ]
  },
  {
   "cell_type": "markdown",
   "id": "471b7a29-ca77-4ba1-b520-6b3c1e854f46",
   "metadata": {},
   "source": [
    "\n",
    "\n",
    "\n",
    "I found these texts formed by the generate function to be very interesting. I expected the the differnt translations to be very similiar, such as two different translations of the same testament for example. But none of the texts generated are too much alike, which was shocking to me. I am very interested to see what the transformers will show. I think the transformers will be able to show much more in depth the differences between \n",
    "translations.\n",
    "\n",
    "\n"
   ]
  },
  {
   "cell_type": "markdown",
   "id": "65d50f18-c8d2-421a-892e-31375a316c9e",
   "metadata": {},
   "source": [
    "Everythin after this point in my notebook is personal expirements that are not overall important, ust interesting to me to run."
   ]
  },
  {
   "cell_type": "code",
   "execution_count": 24,
   "id": "706f88ce-da60-438c-bb02-9b27c52d7f33",
   "metadata": {},
   "outputs": [
    {
     "name": "stdout",
     "output_type": "stream",
     "text": [
      "Displaying 25 of 2173 matches:\n",
      "upon the face of the deep . And the Spirit of God moved upon the face of the w\n",
      " chose . 3 ¶ And the LORD said , My spirit shall not always strive with man , \n",
      "ame to pass in the morning that his spirit was troubled ; and he sent and call\n",
      " as this [ is ] , a man in whom the Spirit of God [ is ] ? 39 And Pharaoh said\n",
      " Joseph had sent to carry him , the spirit of Jacob their father revived : 28 \n",
      "kened not unto Moses for anguish of spirit , and for cruel bondage . 10 ¶ And \n",
      "arted , whom I have filled with the spirit of wisdom , that they may make Aaro\n",
      " : 3 And I have filled him with the spirit of God , in wisdom , and in underst\n",
      "red him up , and every one whom his spirit made willing , [ and ] they brought\n",
      " 31 And he hath filled him with the spirit of God , in wisdom , in understandi\n",
      " also or woman that hath a familiar spirit , or that is a wizard , shall surel\n",
      "en [ with the manner ] ; 14 And the spirit of jealousy come upon him , and he \n",
      "fe , and she be defiled : or if the spirit of jealousy come upon him , and he \n",
      "d , and is defiled ; 30 Or when the spirit of jealousy cometh upon him , and h\n",
      "thee there : and I will take of the spirit which [ is ] upon thee , and will p\n",
      "nd spake unto him , and took of the spirit that [ was ] upon him , and gave [ \n",
      " came to pass , [ that ] , when the spirit rested upon them , they prophesied \n",
      "e name of the other Medad : and the spirit rested upon them ; and they [ were \n",
      "[ and ] that the LORD would put his spirit upon them ! 30 And Moses gat him in\n",
      "vant Caleb , because he had another spirit with him , and hath followed me ful\n",
      "according to their tribes ; and the spirit of God came upon him . 3 And he too\n",
      "n of Nun , a man in whom [ is ] the spirit , and lay thine hand upon him ; 19 \n",
      ": for the LORD thy God hardened his spirit , and made his heart obstinate , th\n",
      "shua the son of Nun was full of the spirit of wisdom ; for Moses had laid his \n",
      "ir heart melted , neither was there spirit in them any more , because of the c\n"
     ]
    }
   ],
   "source": [
    "#Run a concordance on different words to see how they are used in context\n",
    "BSN.concordance('spirit')\n"
   ]
  },
  {
   "cell_type": "code",
   "execution_count": 20,
   "id": "af0107da-3009-4fc1-a3a0-9711fae4d009",
   "metadata": {},
   "outputs": [
    {
     "data": {
      "text/plain": [
       "0    505\n",
       "1    582\n",
       "2    596\n",
       "3    503\n",
       "Name: spirit, dtype: int64"
      ]
     },
     "execution_count": 20,
     "metadata": {},
     "output_type": "execute_result"
    }
   ],
   "source": [
    "#Used to see how many times a certain word appears in each translation. Used mostly for my own curiosity\n",
    "TranDF['spirit']"
   ]
  },
  {
   "cell_type": "code",
   "execution_count": 38,
   "id": "add63d81-b1f2-4590-9c6e-1cb34c2d8f73",
   "metadata": {},
   "outputs": [
    {
     "name": "stdout",
     "output_type": "stream",
     "text": [
      "lord people man land and god earth son city house father law prophet\n",
      "priest sword one day israelites woman spirit\n"
     ]
    }
   ],
   "source": [
    "#Use the .similar function to see the various similarities that each word has in the text\n",
    "BSN.similar(\"king\")'"
   ]
  },
  {
   "cell_type": "code",
   "execution_count": 45,
   "id": "afe51f93-c2ad-4cd2-8f1a-6a70629c5f2e",
   "metadata": {},
   "outputs": [
    {
     "name": "stdout",
     "output_type": "stream",
     "text": [
      "thou shalt; said unto; thou hast; Thus saith; burnt offering; years\n",
      "old; Jesus Christ; right hand; says Yahweh; saith Jehovah; every man;\n",
      "unto thee; Thou shalt; say unto; spake unto; shall come; every one;\n",
      "high places; Lord GOD; Holy Spirit\n"
     ]
    }
   ],
   "source": [
    "#Show collocations for all translations\n",
    "BSN.collocations()"
   ]
  }
 ],
 "metadata": {
  "kernelspec": {
   "display_name": "Python 3 (ipykernel)",
   "language": "python",
   "name": "python3"
  },
  "language_info": {
   "codemirror_mode": {
    "name": "ipython",
    "version": 3
   },
   "file_extension": ".py",
   "mimetype": "text/x-python",
   "name": "python",
   "nbconvert_exporter": "python",
   "pygments_lexer": "ipython3",
   "version": "3.11.7"
  }
 },
 "nbformat": 4,
 "nbformat_minor": 5
}
