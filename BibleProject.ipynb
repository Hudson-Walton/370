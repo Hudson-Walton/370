{
 "cells": [
  {
   "cell_type": "code",
   "execution_count": null,
   "id": "dc2c40f4-bf38-4fa5-b922-ad861ce06894",
   "metadata": {},
   "outputs": [],
   "source": [
    "# Main purpose of this notebook is to compare different Translations of the Bible\n",
    "#I will be comparing the different translation to see if the overall structure of the translations stays the same, despite the differences in grammer\n",
    "#I would like to see if different translations tell slighlty different stories, or if the overall message is the same"
   ]
  },
  {
   "cell_type": "code",
   "execution_count": 1,
   "id": "4bc42c6e-093c-462e-a518-7720f8830581",
   "metadata": {},
   "outputs": [
    {
     "name": "stderr",
     "output_type": "stream",
     "text": [
      "[nltk_data] Downloading package stopwords to\n",
      "[nltk_data]     C:\\Users\\Hudso\\AppData\\Roaming\\nltk_data...\n",
      "[nltk_data]   Package stopwords is already up-to-date!\n"
     ]
    }
   ],
   "source": [
    "#Import all necessary tools and tools that may be used in the future\n",
    "\n",
    "\n",
    "\n",
    "import numpy as np\n",
    "import matplotlib.pyplot as plt\n",
    "import re\n",
    "import nltk\n",
    "import pandas as pd\n",
    "from nltk.tokenize import word_tokenize, wordpunct_tokenize\n",
    "from sklearn.feature_extraction.text import CountVectorizer\n",
    "from nltk.stem import WordNetLemmatizer\n",
    "\n",
    "from nltk.corpus import stopwords\n",
    "nltk.download('stopwords')\n",
    "stoplist = stopwords.words('english')\n",
    "\n",
    "\n",
    "\n",
    "%matplotlib inline\n",
    "plt.rcParams['figure.figsize'] = (12, 6)\n",
    "plt.rcParams['figure.dpi'] = 300"
   ]
  },
  {
   "cell_type": "code",
   "execution_count": 2,
   "id": "79207157-8f4e-4b8e-a4e9-2ab4546ae0ba",
   "metadata": {},
   "outputs": [],
   "source": [
    "#To do List\n",
    "\n",
    "#Break Bibles into Books\n",
    "\n",
    "#Get rid of names in data\n",
    "#Potentially use stopwords list\n"
   ]
  },
  {
   "cell_type": "code",
   "execution_count": 3,
   "id": "a968d729-cc08-42e0-bdad-277132cb15bd",
   "metadata": {},
   "outputs": [],
   "source": [
    "# First we open the file:\n",
    "# TYN is commented out because of errors in the text file, keeping it commented in the case that a use?fix is found for it it the future\n",
    "KJV_file = open('/Users/Hudso/OneDrive/Documents/GitHub/text-as-data/people/Bibledata/kjv.txt', 'r',encoding='utf-8')\n",
    "ASV_file = open('/Users/Hudso/OneDrive/Documents/GitHub/text-as-data/people/Bibledata/asv.txt', 'r',encoding='utf-8')\n",
    "#TYN_file = open('/Users/Hudso/OneDrive/Documents/GitHub/text-as-data/people/Bibledata/tyndale.txt', 'r',encoding='utf-8')\n",
    "WEB_file = open('/Users/Hudso/OneDrive/Documents/GitHub/text-as-data/people/Bibledata/web.txt', 'r',encoding='utf-8')\n",
    "NET_file = open('/Users/Hudso/OneDrive/Documents/GitHub/text-as-data/people/Bibledata/net.txt', 'r',encoding='utf-8')\n",
    "\n",
    "# Then we read the file:\n",
    "KJV = KJV_file.read()\n",
    "ASV = ASV_file.read()\n",
    "#TYN = TYN_file.read()\n",
    "WEB = WEB_file.read()\n",
    "NET = NET_file.read()"
   ]
  },
  {
   "cell_type": "code",
   "execution_count": 4,
   "id": "765c42ca-5bac-462e-a5e6-a2ec4080ad5d",
   "metadata": {},
   "outputs": [],
   "source": [
    "#Tokenize\n",
    "#Tokenizes all of the data into tokens\n",
    "#Ended up not using the regex tokens, kept in the case that they are used later\n",
    "KJV_words = re.sub(\"[^a-zA-Z']\",\" \", KJV).lower().split()\n",
    "ASV_words = re.sub(\"[^a-zA-Z']\",\" \", KJV).lower().split()\n",
    "#TYN_words = re.sub(\"[^a-zA-Z']\",\" \", KJV).lower().split()\n",
    "WEB_words = re.sub(\"[^a-zA-Z']\",\" \", KJV).lower().split()\n",
    "NET_words = re.sub(\"[^a-zA-Z']\",\" \", KJV).lower().split()"
   ]
  },
  {
   "cell_type": "code",
   "execution_count": 11,
   "id": "eab2c224-27f3-4aed-811a-8903154d288a",
   "metadata": {},
   "outputs": [],
   "source": [
    "#Create List\n",
    "#List that contains all of the current data to be used in a vectorizer\n",
    "BibleList = [KJV,ASV,WEB,NET]"
   ]
  },
  {
   "cell_type": "code",
   "execution_count": 12,
   "id": "d0c62079-a14f-4f7e-b494-3850a997eb22",
   "metadata": {},
   "outputs": [],
   "source": [
    "#Tokenize list\n",
    "RegexList = [word for word in re.sub(\"[^a-zA-Z']\",\" \", BibleList[3]).lower().split()]"
   ]
  },
  {
   "cell_type": "code",
   "execution_count": 13,
   "id": "d76bab59-5bb4-4cf7-b213-ccf94f66ac8b",
   "metadata": {},
   "outputs": [
    {
     "data": {
      "text/plain": [
       "(4, 21015)"
      ]
     },
     "execution_count": 13,
     "metadata": {},
     "output_type": "execute_result"
    }
   ],
   "source": [
    "#Vectorize\n",
    "#Vectorizes list of data and shows the shape(colums and rows)\n",
    "\n",
    "vectorizer = CountVectorizer()\n",
    "\n",
    "Translations = vectorizer.fit_transform(BibleList)\n",
    "\n",
    "Translations.shape"
   ]
  },
  {
   "cell_type": "code",
   "execution_count": 14,
   "id": "8b6cda5f-5721-42e7-a61a-dbaa089ce0fe",
   "metadata": {},
   "outputs": [
    {
     "data": {
      "text/html": [
       "<div>\n",
       "<style scoped>\n",
       "    .dataframe tbody tr th:only-of-type {\n",
       "        vertical-align: middle;\n",
       "    }\n",
       "\n",
       "    .dataframe tbody tr th {\n",
       "        vertical-align: top;\n",
       "    }\n",
       "\n",
       "    .dataframe thead th {\n",
       "        text-align: right;\n",
       "    }\n",
       "</style>\n",
       "<table border=\"1\" class=\"dataframe\">\n",
       "  <thead>\n",
       "    <tr style=\"text-align: right;\">\n",
       "      <th></th>\n",
       "      <th>000</th>\n",
       "      <th>000edomites</th>\n",
       "      <th>005</th>\n",
       "      <th>017</th>\n",
       "      <th>023</th>\n",
       "      <th>034</th>\n",
       "      <th>052</th>\n",
       "      <th>056</th>\n",
       "      <th>067</th>\n",
       "      <th>070</th>\n",
       "      <th>...</th>\n",
       "      <th>zorites</th>\n",
       "      <th>zorobabel</th>\n",
       "      <th>zuar</th>\n",
       "      <th>zuph</th>\n",
       "      <th>zur</th>\n",
       "      <th>zuriel</th>\n",
       "      <th>zurishaddai</th>\n",
       "      <th>zuzim</th>\n",
       "      <th>zuzims</th>\n",
       "      <th>zuzites</th>\n",
       "    </tr>\n",
       "  </thead>\n",
       "  <tbody>\n",
       "    <tr>\n",
       "      <th>0</th>\n",
       "      <td>0</td>\n",
       "      <td>0</td>\n",
       "      <td>0</td>\n",
       "      <td>0</td>\n",
       "      <td>0</td>\n",
       "      <td>0</td>\n",
       "      <td>0</td>\n",
       "      <td>0</td>\n",
       "      <td>0</td>\n",
       "      <td>0</td>\n",
       "      <td>...</td>\n",
       "      <td>1</td>\n",
       "      <td>3</td>\n",
       "      <td>5</td>\n",
       "      <td>3</td>\n",
       "      <td>5</td>\n",
       "      <td>1</td>\n",
       "      <td>5</td>\n",
       "      <td>0</td>\n",
       "      <td>1</td>\n",
       "      <td>0</td>\n",
       "    </tr>\n",
       "    <tr>\n",
       "      <th>1</th>\n",
       "      <td>0</td>\n",
       "      <td>0</td>\n",
       "      <td>0</td>\n",
       "      <td>0</td>\n",
       "      <td>0</td>\n",
       "      <td>0</td>\n",
       "      <td>0</td>\n",
       "      <td>0</td>\n",
       "      <td>0</td>\n",
       "      <td>0</td>\n",
       "      <td>...</td>\n",
       "      <td>1</td>\n",
       "      <td>0</td>\n",
       "      <td>5</td>\n",
       "      <td>3</td>\n",
       "      <td>9</td>\n",
       "      <td>1</td>\n",
       "      <td>5</td>\n",
       "      <td>1</td>\n",
       "      <td>0</td>\n",
       "      <td>0</td>\n",
       "    </tr>\n",
       "    <tr>\n",
       "      <th>2</th>\n",
       "      <td>0</td>\n",
       "      <td>0</td>\n",
       "      <td>0</td>\n",
       "      <td>0</td>\n",
       "      <td>0</td>\n",
       "      <td>0</td>\n",
       "      <td>0</td>\n",
       "      <td>0</td>\n",
       "      <td>0</td>\n",
       "      <td>0</td>\n",
       "      <td>...</td>\n",
       "      <td>1</td>\n",
       "      <td>0</td>\n",
       "      <td>5</td>\n",
       "      <td>3</td>\n",
       "      <td>9</td>\n",
       "      <td>1</td>\n",
       "      <td>5</td>\n",
       "      <td>1</td>\n",
       "      <td>0</td>\n",
       "      <td>0</td>\n",
       "    </tr>\n",
       "    <tr>\n",
       "      <th>3</th>\n",
       "      <td>180</td>\n",
       "      <td>1</td>\n",
       "      <td>1</td>\n",
       "      <td>2</td>\n",
       "      <td>1</td>\n",
       "      <td>1</td>\n",
       "      <td>2</td>\n",
       "      <td>1</td>\n",
       "      <td>1</td>\n",
       "      <td>1</td>\n",
       "      <td>...</td>\n",
       "      <td>1</td>\n",
       "      <td>0</td>\n",
       "      <td>5</td>\n",
       "      <td>3</td>\n",
       "      <td>9</td>\n",
       "      <td>1</td>\n",
       "      <td>5</td>\n",
       "      <td>0</td>\n",
       "      <td>0</td>\n",
       "      <td>1</td>\n",
       "    </tr>\n",
       "  </tbody>\n",
       "</table>\n",
       "<p>4 rows × 21015 columns</p>\n",
       "</div>"
      ],
      "text/plain": [
       "   000  000edomites  005  017  023  034  052  056  067  070  ...  zorites  \\\n",
       "0    0            0    0    0    0    0    0    0    0    0  ...        1   \n",
       "1    0            0    0    0    0    0    0    0    0    0  ...        1   \n",
       "2    0            0    0    0    0    0    0    0    0    0  ...        1   \n",
       "3  180            1    1    2    1    1    2    1    1    1  ...        1   \n",
       "\n",
       "   zorobabel  zuar  zuph  zur  zuriel  zurishaddai  zuzim  zuzims  zuzites  \n",
       "0          3     5     3    5       1            5      0       1        0  \n",
       "1          0     5     3    9       1            5      1       0        0  \n",
       "2          0     5     3    9       1            5      1       0        0  \n",
       "3          0     5     3    9       1            5      0       0        1  \n",
       "\n",
       "[4 rows x 21015 columns]"
      ]
     },
     "execution_count": 14,
     "metadata": {},
     "output_type": "execute_result"
    }
   ],
   "source": [
    "#Create a DTM of data\n",
    "TranDF = pd.DataFrame(Translations.toarray(), columns = vectorizer.get_feature_names_out())\n",
    "\n",
    "TranDF.head(4)"
   ]
  },
  {
   "cell_type": "markdown",
   "id": "fb7886a7-ec1f-467d-a704-1e51c7362811",
   "metadata": {},
   "source": [
    "#Outsdie cell hit \"m\" to turn into markdown cell\n",
    "\n",
    "0 = KJV,\n",
    "1 = ASV,\n",
    "2 = WEB,\n",
    "3 = NET,\n",
    "\n",
    "Tyndale txt file replaces all J's with I's for some reason, may not be able to use this file\n",
    "\n",
    "Found a weird problem with the translations later in the list(TYN,WEB,NET), where Jesus is spelt Iesus, even though only the tyndale text file replaces J's with I's\n",
    "\n",
    "Discovered my reason for the error with rpetitive data issues"
   ]
  },
  {
   "cell_type": "code",
   "execution_count": 19,
   "id": "e6503367-1338-43f8-bdbd-ea6ae135db55",
   "metadata": {},
   "outputs": [
    {
     "data": {
      "text/html": [
       "<div>\n",
       "<style scoped>\n",
       "    .dataframe tbody tr th:only-of-type {\n",
       "        vertical-align: middle;\n",
       "    }\n",
       "\n",
       "    .dataframe tbody tr th {\n",
       "        vertical-align: top;\n",
       "    }\n",
       "\n",
       "    .dataframe thead th {\n",
       "        text-align: right;\n",
       "    }\n",
       "</style>\n",
       "<table border=\"1\" class=\"dataframe\">\n",
       "  <thead>\n",
       "    <tr style=\"text-align: right;\">\n",
       "      <th></th>\n",
       "      <th>0</th>\n",
       "      <th>1</th>\n",
       "      <th>2</th>\n",
       "      <th>3</th>\n",
       "    </tr>\n",
       "  </thead>\n",
       "  <tbody>\n",
       "    <tr>\n",
       "      <th>the</th>\n",
       "      <td>64019</td>\n",
       "      <td>59125</td>\n",
       "      <td>57669</td>\n",
       "      <td>58296</td>\n",
       "    </tr>\n",
       "    <tr>\n",
       "      <th>and</th>\n",
       "      <td>51708</td>\n",
       "      <td>52077</td>\n",
       "      <td>34695</td>\n",
       "      <td>27575</td>\n",
       "    </tr>\n",
       "    <tr>\n",
       "      <th>of</th>\n",
       "      <td>34749</td>\n",
       "      <td>34512</td>\n",
       "      <td>33641</td>\n",
       "      <td>25216</td>\n",
       "    </tr>\n",
       "    <tr>\n",
       "      <th>to</th>\n",
       "      <td>13630</td>\n",
       "      <td>13889</td>\n",
       "      <td>21360</td>\n",
       "      <td>22483</td>\n",
       "    </tr>\n",
       "    <tr>\n",
       "      <th>that</th>\n",
       "      <td>12916</td>\n",
       "      <td>13576</td>\n",
       "      <td>8644</td>\n",
       "      <td>6360</td>\n",
       "    </tr>\n",
       "    <tr>\n",
       "      <th>in</th>\n",
       "      <td>12677</td>\n",
       "      <td>12851</td>\n",
       "      <td>13031</td>\n",
       "      <td>11714</td>\n",
       "    </tr>\n",
       "    <tr>\n",
       "      <th>he</th>\n",
       "      <td>10431</td>\n",
       "      <td>10735</td>\n",
       "      <td>10464</td>\n",
       "      <td>9707</td>\n",
       "    </tr>\n",
       "    <tr>\n",
       "      <th>shall</th>\n",
       "      <td>9837</td>\n",
       "      <td>9102</td>\n",
       "      <td>7164</td>\n",
       "      <td>60</td>\n",
       "    </tr>\n",
       "    <tr>\n",
       "      <th>unto</th>\n",
       "      <td>9002</td>\n",
       "      <td>9253</td>\n",
       "      <td>2</td>\n",
       "      <td>0</td>\n",
       "    </tr>\n",
       "    <tr>\n",
       "      <th>for</th>\n",
       "      <td>8985</td>\n",
       "      <td>9176</td>\n",
       "      <td>9120</td>\n",
       "      <td>8560</td>\n",
       "    </tr>\n",
       "    <tr>\n",
       "      <th>his</th>\n",
       "      <td>8478</td>\n",
       "      <td>8151</td>\n",
       "      <td>8064</td>\n",
       "      <td>7019</td>\n",
       "    </tr>\n",
       "    <tr>\n",
       "      <th>lord</th>\n",
       "      <td>7970</td>\n",
       "      <td>1376</td>\n",
       "      <td>1394</td>\n",
       "      <td>7952</td>\n",
       "    </tr>\n",
       "    <tr>\n",
       "      <th>they</th>\n",
       "      <td>7377</td>\n",
       "      <td>7586</td>\n",
       "      <td>7116</td>\n",
       "      <td>7447</td>\n",
       "    </tr>\n",
       "    <tr>\n",
       "      <th>be</th>\n",
       "      <td>7012</td>\n",
       "      <td>6467</td>\n",
       "      <td>5986</td>\n",
       "      <td>5256</td>\n",
       "    </tr>\n",
       "    <tr>\n",
       "      <th>is</th>\n",
       "      <td>6993</td>\n",
       "      <td>7172</td>\n",
       "      <td>7159</td>\n",
       "      <td>7276</td>\n",
       "    </tr>\n",
       "    <tr>\n",
       "      <th>him</th>\n",
       "      <td>6667</td>\n",
       "      <td>6606</td>\n",
       "      <td>6482</td>\n",
       "      <td>5188</td>\n",
       "    </tr>\n",
       "    <tr>\n",
       "      <th>not</th>\n",
       "      <td>6597</td>\n",
       "      <td>6568</td>\n",
       "      <td>3433</td>\n",
       "      <td>6097</td>\n",
       "    </tr>\n",
       "    <tr>\n",
       "      <th>them</th>\n",
       "      <td>6429</td>\n",
       "      <td>6407</td>\n",
       "      <td>5698</td>\n",
       "      <td>5391</td>\n",
       "    </tr>\n",
       "    <tr>\n",
       "      <th>it</th>\n",
       "      <td>6130</td>\n",
       "      <td>6168</td>\n",
       "      <td>6347</td>\n",
       "      <td>5468</td>\n",
       "    </tr>\n",
       "    <tr>\n",
       "      <th>with</th>\n",
       "      <td>6015</td>\n",
       "      <td>5987</td>\n",
       "      <td>6208</td>\n",
       "      <td>5630</td>\n",
       "    </tr>\n",
       "    <tr>\n",
       "      <th>all</th>\n",
       "      <td>5621</td>\n",
       "      <td>5593</td>\n",
       "      <td>5622</td>\n",
       "      <td>4875</td>\n",
       "    </tr>\n",
       "    <tr>\n",
       "      <th>thou</th>\n",
       "      <td>5474</td>\n",
       "      <td>5511</td>\n",
       "      <td>0</td>\n",
       "      <td>0</td>\n",
       "    </tr>\n",
       "    <tr>\n",
       "      <th>thy</th>\n",
       "      <td>4603</td>\n",
       "      <td>4960</td>\n",
       "      <td>0</td>\n",
       "      <td>0</td>\n",
       "    </tr>\n",
       "    <tr>\n",
       "      <th>was</th>\n",
       "      <td>4523</td>\n",
       "      <td>4462</td>\n",
       "      <td>4340</td>\n",
       "      <td>4365</td>\n",
       "    </tr>\n",
       "    <tr>\n",
       "      <th>god</th>\n",
       "      <td>4473</td>\n",
       "      <td>4110</td>\n",
       "      <td>4117</td>\n",
       "      <td>4214</td>\n",
       "    </tr>\n",
       "    <tr>\n",
       "      <th>which</th>\n",
       "      <td>4414</td>\n",
       "      <td>2960</td>\n",
       "      <td>3243</td>\n",
       "      <td>835</td>\n",
       "    </tr>\n",
       "    <tr>\n",
       "      <th>my</th>\n",
       "      <td>4367</td>\n",
       "      <td>4497</td>\n",
       "      <td>4902</td>\n",
       "      <td>4293</td>\n",
       "    </tr>\n",
       "    <tr>\n",
       "      <th>me</th>\n",
       "      <td>4096</td>\n",
       "      <td>4089</td>\n",
       "      <td>4080</td>\n",
       "      <td>4190</td>\n",
       "    </tr>\n",
       "    <tr>\n",
       "      <th>said</th>\n",
       "      <td>4002</td>\n",
       "      <td>3907</td>\n",
       "      <td>3928</td>\n",
       "      <td>3271</td>\n",
       "    </tr>\n",
       "    <tr>\n",
       "      <th>but</th>\n",
       "      <td>3994</td>\n",
       "      <td>3990</td>\n",
       "      <td>3960</td>\n",
       "      <td>4152</td>\n",
       "    </tr>\n",
       "  </tbody>\n",
       "</table>\n",
       "</div>"
      ],
      "text/plain": [
       "           0      1      2      3\n",
       "the    64019  59125  57669  58296\n",
       "and    51708  52077  34695  27575\n",
       "of     34749  34512  33641  25216\n",
       "to     13630  13889  21360  22483\n",
       "that   12916  13576   8644   6360\n",
       "in     12677  12851  13031  11714\n",
       "he     10431  10735  10464   9707\n",
       "shall   9837   9102   7164     60\n",
       "unto    9002   9253      2      0\n",
       "for     8985   9176   9120   8560\n",
       "his     8478   8151   8064   7019\n",
       "lord    7970   1376   1394   7952\n",
       "they    7377   7586   7116   7447\n",
       "be      7012   6467   5986   5256\n",
       "is      6993   7172   7159   7276\n",
       "him     6667   6606   6482   5188\n",
       "not     6597   6568   3433   6097\n",
       "them    6429   6407   5698   5391\n",
       "it      6130   6168   6347   5468\n",
       "with    6015   5987   6208   5630\n",
       "all     5621   5593   5622   4875\n",
       "thou    5474   5511      0      0\n",
       "thy     4603   4960      0      0\n",
       "was     4523   4462   4340   4365\n",
       "god     4473   4110   4117   4214\n",
       "which   4414   2960   3243    835\n",
       "my      4367   4497   4902   4293\n",
       "me      4096   4089   4080   4190\n",
       "said    4002   3907   3928   3271\n",
       "but     3994   3990   3960   4152"
      ]
     },
     "execution_count": 19,
     "metadata": {},
     "output_type": "execute_result"
    }
   ],
   "source": [
    "#Sort by the top 30 most used words in each text\n",
    "#I played aroubd with this a lot because I wanted to see if the most used words woulds stay the same\n",
    "\n",
    "TranDF.T.sort_values(by=0, ascending=False).head(30)"
   ]
  },
  {
   "cell_type": "code",
   "execution_count": 20,
   "id": "af0107da-3009-4fc1-a3a0-9711fae4d009",
   "metadata": {},
   "outputs": [
    {
     "data": {
      "text/plain": [
       "0    505\n",
       "1    582\n",
       "2    596\n",
       "3    503\n",
       "Name: spirit, dtype: int64"
      ]
     },
     "execution_count": 20,
     "metadata": {},
     "output_type": "execute_result"
    }
   ],
   "source": [
    "#Used to see how many times a certain word appears in each translation. Used mostly for my own curiosity\n",
    "TranDF['spirit']"
   ]
  },
  {
   "cell_type": "code",
   "execution_count": 22,
   "id": "7d9da647-9661-466a-879a-6e32877296b1",
   "metadata": {},
   "outputs": [],
   "source": [
    "#Create new string of all data\n",
    "\n",
    "BibleString = \" \".join(BibleList)\n",
    "\n"
   ]
  },
  {
   "cell_type": "code",
   "execution_count": 23,
   "id": "8bd107b2-6e6e-4400-9cdc-49883de0d7df",
   "metadata": {},
   "outputs": [],
   "source": [
    "#Tokenize string of just the KJV translation\n",
    "BStokens = nltk.tokenize.word_tokenize(BibleString)\n",
    "KJV_Tokens = nltk.tokenize.word_tokenize(KJV)\n",
    "\n",
    "#Tokeize string of all translations\n",
    "BSN = nltk.Text(BStokens)\n",
    "KJV_N = nltk.Text(KJV_Tokens)"
   ]
  },
  {
   "cell_type": "code",
   "execution_count": 24,
   "id": "706f88ce-da60-438c-bb02-9b27c52d7f33",
   "metadata": {},
   "outputs": [
    {
     "name": "stdout",
     "output_type": "stream",
     "text": [
      "Displaying 25 of 2173 matches:\n",
      "upon the face of the deep . And the Spirit of God moved upon the face of the w\n",
      " chose . 3 ¶ And the LORD said , My spirit shall not always strive with man , \n",
      "ame to pass in the morning that his spirit was troubled ; and he sent and call\n",
      " as this [ is ] , a man in whom the Spirit of God [ is ] ? 39 And Pharaoh said\n",
      " Joseph had sent to carry him , the spirit of Jacob their father revived : 28 \n",
      "kened not unto Moses for anguish of spirit , and for cruel bondage . 10 ¶ And \n",
      "arted , whom I have filled with the spirit of wisdom , that they may make Aaro\n",
      " : 3 And I have filled him with the spirit of God , in wisdom , and in underst\n",
      "red him up , and every one whom his spirit made willing , [ and ] they brought\n",
      " 31 And he hath filled him with the spirit of God , in wisdom , in understandi\n",
      " also or woman that hath a familiar spirit , or that is a wizard , shall surel\n",
      "en [ with the manner ] ; 14 And the spirit of jealousy come upon him , and he \n",
      "fe , and she be defiled : or if the spirit of jealousy come upon him , and he \n",
      "d , and is defiled ; 30 Or when the spirit of jealousy cometh upon him , and h\n",
      "thee there : and I will take of the spirit which [ is ] upon thee , and will p\n",
      "nd spake unto him , and took of the spirit that [ was ] upon him , and gave [ \n",
      " came to pass , [ that ] , when the spirit rested upon them , they prophesied \n",
      "e name of the other Medad : and the spirit rested upon them ; and they [ were \n",
      "[ and ] that the LORD would put his spirit upon them ! 30 And Moses gat him in\n",
      "vant Caleb , because he had another spirit with him , and hath followed me ful\n",
      "according to their tribes ; and the spirit of God came upon him . 3 And he too\n",
      "n of Nun , a man in whom [ is ] the spirit , and lay thine hand upon him ; 19 \n",
      ": for the LORD thy God hardened his spirit , and made his heart obstinate , th\n",
      "shua the son of Nun was full of the spirit of wisdom ; for Moses had laid his \n",
      "ir heart melted , neither was there spirit in them any more , because of the c\n"
     ]
    }
   ],
   "source": [
    "#Run a concordance on different words to see how they are used in context\n",
    "BSN.concordance('spirit')\n"
   ]
  },
  {
   "cell_type": "code",
   "execution_count": 38,
   "id": "add63d81-b1f2-4590-9c6e-1cb34c2d8f73",
   "metadata": {},
   "outputs": [
    {
     "name": "stdout",
     "output_type": "stream",
     "text": [
      "lord people man land and god earth son city house father law prophet\n",
      "priest sword one day israelites woman spirit\n"
     ]
    }
   ],
   "source": [
    "#Use the .similar function to see the various similarities that each word has in the text\n",
    "BSN.similar(\"king\")'"
   ]
  },
  {
   "cell_type": "code",
   "execution_count": 39,
   "id": "424c6832-2bc6-4263-8031-77d0259af6ca",
   "metadata": {},
   "outputs": [
    {
     "name": "stderr",
     "output_type": "stream",
     "text": [
      "Building ngram index...\n"
     ]
    },
    {
     "name": "stdout",
     "output_type": "stream",
     "text": [
      "lightly , she committeth adultery.› 33 ¶ And it came to pass , as the\n",
      "high places in the Hebrew women are like a wilderness , Make brick :\n",
      "and they shall judge you according to their land shall bury them , ``\n",
      "He did evil again before thee . , of a large pit in time past , and he\n",
      "was made the heavens , that touch the border of Moab cry aloud ; for\n",
      "his bolster , and they had sung a hymn , they will not be meat in the\n",
      "foundation of the Philistines shall perish ,\n"
     ]
    },
    {
     "data": {
      "text/plain": [
       "'lightly , she committeth adultery.› 33 ¶ And it came to pass , as the\\nhigh places in the Hebrew women are like a wilderness , Make brick :\\nand they shall judge you according to their land shall bury them , ``\\nHe did evil again before thee . , of a large pit in time past , and he\\nwas made the heavens , that touch the border of Moab cry aloud ; for\\nhis bolster , and they had sung a hymn , they will not be meat in the\\nfoundation of the Philistines shall perish ,'"
      ]
     },
     "execution_count": 39,
     "metadata": {},
     "output_type": "execute_result"
    }
   ],
   "source": [
    "# Generate text based on collocations from all translations\n",
    "BSN.generate()\n"
   ]
  },
  {
   "cell_type": "code",
   "execution_count": 45,
   "id": "afe51f93-c2ad-4cd2-8f1a-6a70629c5f2e",
   "metadata": {},
   "outputs": [
    {
     "name": "stdout",
     "output_type": "stream",
     "text": [
      "thou shalt; said unto; thou hast; Thus saith; burnt offering; years\n",
      "old; Jesus Christ; right hand; says Yahweh; saith Jehovah; every man;\n",
      "unto thee; Thou shalt; say unto; spake unto; shall come; every one;\n",
      "high places; Lord GOD; Holy Spirit\n"
     ]
    }
   ],
   "source": [
    "#Show collocations for all translations\n",
    "BSN.collocations()"
   ]
  },
  {
   "cell_type": "code",
   "execution_count": 53,
   "id": "1d708b9a-2548-4087-8f08-1dc7aca4b6e5",
   "metadata": {},
   "outputs": [
    {
     "name": "stderr",
     "output_type": "stream",
     "text": [
      "Building ngram index...\n"
     ]
    },
    {
     "name": "stdout",
     "output_type": "stream",
     "text": [
      "madest a covenant at Beersheba . , lo , he shall save me : 14 But\n",
      "every woman that stood by . and of the LORD . Gedor , 59 And Ashan\n",
      "with her . they hear.› 17 ‹For God sent his word , I have set up ;\n",
      "thou satest in the camp to Joshua , and Moses talked with him , and\n",
      "the continual burnt offering , and thy daughters ; the days in a night\n",
      "to kill , and a new garment upon an heap . ] in the gate of his anger\n",
      "? hand , but\n"
     ]
    },
    {
     "data": {
      "text/plain": [
       "'madest a covenant at Beersheba . , lo , he shall save me : 14 But\\nevery woman that stood by . and of the LORD . Gedor , 59 And Ashan\\nwith her . they hear.› 17 ‹For God sent his word , I have set up ;\\nthou satest in the camp to Joshua , and Moses talked with him , and\\nthe continual burnt offering , and thy daughters ; the days in a night\\nto kill , and a new garment upon an heap . ] in the gate of his anger\\n? hand , but'"
      ]
     },
     "execution_count": 53,
     "metadata": {},
     "output_type": "execute_result"
    }
   ],
   "source": [
    "#Generate text bast on collocations from KJV translation\n",
    "KJV_N.generate()"
   ]
  },
  {
   "cell_type": "code",
   "execution_count": null,
   "id": "371b5349-2e34-41e7-8ef6-1f09fc4358e4",
   "metadata": {},
   "outputs": [],
   "source": []
  },
  {
   "cell_type": "code",
   "execution_count": null,
   "id": "53440f80-a820-4c14-af14-363bb0cda056",
   "metadata": {},
   "outputs": [],
   "source": []
  }
 ],
 "metadata": {
  "kernelspec": {
   "display_name": "Python 3 (ipykernel)",
   "language": "python",
   "name": "python3"
  },
  "language_info": {
   "codemirror_mode": {
    "name": "ipython",
    "version": 3
   },
   "file_extension": ".py",
   "mimetype": "text/x-python",
   "name": "python",
   "nbconvert_exporter": "python",
   "pygments_lexer": "ipython3",
   "version": "3.11.7"
  }
 },
 "nbformat": 4,
 "nbformat_minor": 5
}
